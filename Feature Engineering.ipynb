{
 "cells": [
  {
   "cell_type": "code",
   "execution_count": 35,
   "metadata": {},
   "outputs": [],
   "source": [
    "import torch \n",
    "import torch.nn as nn\n",
    "import torchvision\n",
    "import torchvision.transforms as transforms\n",
    "from torch.utils.data import DataLoader, TensorDataset\n",
    "import pandas as pd\n",
    "import numpy as np\n",
    "from sklearn.preprocessing import StandardScaler\n",
    "\n",
    "# Device configuration\n",
    "device = torch.device('cuda' if torch.cuda.is_available() else 'cpu')\n",
    "\n",
    "# Hyper-parameters\n",
    "sequence_length = 1\n",
    "input_size = 41\n",
    "hidden_size = 128\n",
    "num_layers = 2\n",
    "num_classes = 5\n",
    "batch_size = 100\n",
    "num_epochs = 4\n",
    "learning_rate = 0.001\n",
    "\n",
    "# NSL-KDD datasets\n",
    "df = pd.read_csv('NSL-KDD/KDDTrain+.txt', sep=',')\n",
    "df.columns = ['duration', 'protocol_type', 'service', 'flag', 'src_bytes',\n",
    "       'dst_bytes', 'land', 'wrong_fragment', 'urgent', 'hot',\n",
    "       'num_failed_logins', 'logged_in', 'num_compromised', 'root_shell',\n",
    "       'su_attempted', 'num_root', 'num_file_creations', 'num_shells',\n",
    "       'num_access_files', 'num_outbound_cmds', 'is_host_login',\n",
    "       'is_guest_login', 'count', 'srv_count', 'serror_rate',\n",
    "       'srv_serror_rate', 'rerror_rate', 'srv_rerror_rate', 'same_srv_rate',\n",
    "       'diff_srv_rate', 'srv_diff_host_rate', 'dst_host_count',\n",
    "       'dst_host_srv_count', 'dst_host_same_srv_rate',\n",
    "       'dst_host_diff_srv_rate', 'dst_host_same_src_port_rate',\n",
    "       'dst_host_srv_diff_host_rate', 'dst_host_serror_rate',\n",
    "       'dst_host_srv_serror_rate', 'dst_host_rerror_rate',\n",
    "       'dst_host_srv_rerror_rate', 'labels', 'difficulty']\n",
    "\n",
    "# convert categorial feature into numeric\n",
    "protocols = df.protocol_type.value_counts()\n",
    "protocols_map = {}\n",
    "for i, (prop, count) in enumerate(protocols.items()):\n",
    "    protocols_map[prop] = i\n",
    "df.protocol_type = df.protocol_type.map(protocols_map)\n",
    "\n",
    "# convert categorial feature into numeric\n",
    "services = df.service.value_counts()\n",
    "service_map = {}\n",
    "for i, (ser, count) in enumerate(services.items()):\n",
    "    service_map[ser] = i\n",
    "df.service = df.service.map(service_map)\n",
    "\n",
    "# convert categorial feature into numeric\n",
    "flag_map = {}\n",
    "flags = df.flag.value_counts()\n",
    "for i, (flag, count) in enumerate(flags.items()):\n",
    "    flag_map[flag] = i\n",
    "df.flag = df.flag.map(flag_map)\n",
    "\n",
    "# Rename every attack label: 0=normal, 1=DoS, 2=Probe, 3=R2L and 4=U2R.\n",
    "df['targets'] = df.labels.replace({ 'normal' : 0, 'neptune' : 1 ,'back': 1, 'land': 1, 'pod': 1, 'smurf': 1,\n",
    "                                   'teardrop': 1,'mailbomb': 1, 'apache2': 1, 'processtable': 1,\n",
    "                                   'udpstorm': 1, 'worm': 1,'ipsweep' : 2,'nmap' : 2,'portsweep' : 2,\n",
    "                                   'satan' : 2,'mscan' : 2,'saint' : 2,'ftp_write': 3,'guess_passwd': 3,\n",
    "                                   'imap': 3,'multihop': 3,'phf': 3,'spy': 3,'warezclient': 3,\n",
    "                                   'warezmaster': 3,'sendmail': 3,'named': 3,'snmpgetattack': 3,\n",
    "                                   'snmpguess': 3,'xlock': 3,'xsnoop': 3,'httptunnel': 3,\n",
    "                           'buffer_overflow': 4,'loadmodule': 4,'perl': 4,'rootkit': 4,'ps': 4,\n",
    "                                   'sqlattack': 4,'xterm': 4})\n"
   ]
  },
  {
   "cell_type": "code",
   "execution_count": 36,
   "metadata": {},
   "outputs": [
    {
     "name": "stdout",
     "output_type": "stream",
     "text": [
      "<class 'pandas.core.frame.DataFrame'>\n",
      "RangeIndex: 125972 entries, 0 to 125971\n",
      "Data columns (total 44 columns):\n",
      "duration                       125972 non-null int64\n",
      "protocol_type                  125972 non-null int64\n",
      "service                        125972 non-null int64\n",
      "flag                           125972 non-null int64\n",
      "src_bytes                      125972 non-null int64\n",
      "dst_bytes                      125972 non-null int64\n",
      "land                           125972 non-null int64\n",
      "wrong_fragment                 125972 non-null int64\n",
      "urgent                         125972 non-null int64\n",
      "hot                            125972 non-null int64\n",
      "num_failed_logins              125972 non-null int64\n",
      "logged_in                      125972 non-null int64\n",
      "num_compromised                125972 non-null int64\n",
      "root_shell                     125972 non-null int64\n",
      "su_attempted                   125972 non-null int64\n",
      "num_root                       125972 non-null int64\n",
      "num_file_creations             125972 non-null int64\n",
      "num_shells                     125972 non-null int64\n",
      "num_access_files               125972 non-null int64\n",
      "num_outbound_cmds              125972 non-null int64\n",
      "is_host_login                  125972 non-null int64\n",
      "is_guest_login                 125972 non-null int64\n",
      "count                          125972 non-null int64\n",
      "srv_count                      125972 non-null int64\n",
      "serror_rate                    125972 non-null float64\n",
      "srv_serror_rate                125972 non-null float64\n",
      "rerror_rate                    125972 non-null float64\n",
      "srv_rerror_rate                125972 non-null float64\n",
      "same_srv_rate                  125972 non-null float64\n",
      "diff_srv_rate                  125972 non-null float64\n",
      "srv_diff_host_rate             125972 non-null float64\n",
      "dst_host_count                 125972 non-null int64\n",
      "dst_host_srv_count             125972 non-null int64\n",
      "dst_host_same_srv_rate         125972 non-null float64\n",
      "dst_host_diff_srv_rate         125972 non-null float64\n",
      "dst_host_same_src_port_rate    125972 non-null float64\n",
      "dst_host_srv_diff_host_rate    125972 non-null float64\n",
      "dst_host_serror_rate           125972 non-null float64\n",
      "dst_host_srv_serror_rate       125972 non-null float64\n",
      "dst_host_rerror_rate           125972 non-null float64\n",
      "dst_host_srv_rerror_rate       125972 non-null float64\n",
      "labels                         125972 non-null object\n",
      "difficulty                     125972 non-null int64\n",
      "targets                        125972 non-null int64\n",
      "dtypes: float64(15), int64(28), object(1)\n",
      "memory usage: 42.3+ MB\n"
     ]
    }
   ],
   "source": [
    "# Datatype of target is object, change it to int \n",
    "df['targets'] = df['targets'].astype(int)\n",
    "df.info()"
   ]
  },
  {
   "cell_type": "code",
   "execution_count": 37,
   "metadata": {},
   "outputs": [],
   "source": [
    "from sklearn.model_selection import train_test_split\n",
    "from sklearn.ensemble import RandomForestClassifier\n",
    "from sklearn.metrics import accuracy_score\n",
    "from sklearn.feature_selection import VarianceThreshold\n",
    "import seaborn as sns\n",
    "import matplotlib.pyplot as plt"
   ]
  },
  {
   "cell_type": "code",
   "execution_count": 38,
   "metadata": {},
   "outputs": [],
   "source": [
    "# Seperate featues and target\n",
    "X = df.drop(['labels', 'difficulty', 'targets'], axis=1)\n",
    "y = df['targets']"
   ]
  },
  {
   "cell_type": "code",
   "execution_count": 39,
   "metadata": {},
   "outputs": [],
   "source": [
    "X_train, x_test, y_train,y_test = train_test_split(X, y, test_size=0.2, random_state=0, stratify=y)"
   ]
  },
  {
   "cell_type": "code",
   "execution_count": 40,
   "metadata": {},
   "outputs": [
    {
     "data": {
      "text/plain": [
       "(pandas.core.frame.DataFrame,\n",
       " pandas.core.frame.DataFrame,\n",
       " pandas.core.series.Series,\n",
       " pandas.core.series.Series)"
      ]
     },
     "execution_count": 40,
     "metadata": {},
     "output_type": "execute_result"
    }
   ],
   "source": [
    "type(X_train), type(x_test), type(y_train), type(y_test)"
   ]
  },
  {
   "cell_type": "code",
   "execution_count": null,
   "metadata": {},
   "outputs": [],
   "source": []
  },
  {
   "cell_type": "markdown",
   "metadata": {},
   "source": [
    "# Constant Feature Removal"
   ]
  },
  {
   "cell_type": "code",
   "execution_count": 41,
   "metadata": {},
   "outputs": [
    {
     "data": {
      "text/plain": [
       "VarianceThreshold(threshold=0)"
      ]
     },
     "execution_count": 41,
     "metadata": {},
     "output_type": "execute_result"
    }
   ],
   "source": [
    "const_filter = VarianceThreshold(threshold=0)\n",
    "const_filter.fit(X_train)"
   ]
  },
  {
   "cell_type": "code",
   "execution_count": 42,
   "metadata": {},
   "outputs": [
    {
     "data": {
      "text/plain": [
       "39"
      ]
     },
     "execution_count": 42,
     "metadata": {},
     "output_type": "execute_result"
    }
   ],
   "source": [
    "const_filter.get_support().sum()"
   ]
  },
  {
   "cell_type": "code",
   "execution_count": 43,
   "metadata": {},
   "outputs": [
    {
     "data": {
      "text/plain": [
       "[True,\n",
       " True,\n",
       " True,\n",
       " True,\n",
       " True,\n",
       " True,\n",
       " True,\n",
       " True,\n",
       " True,\n",
       " True,\n",
       " True,\n",
       " True,\n",
       " True,\n",
       " True,\n",
       " True,\n",
       " True,\n",
       " True,\n",
       " True,\n",
       " True,\n",
       " False,\n",
       " False,\n",
       " True,\n",
       " True,\n",
       " True,\n",
       " True,\n",
       " True,\n",
       " True,\n",
       " True,\n",
       " True,\n",
       " True,\n",
       " True,\n",
       " True,\n",
       " True,\n",
       " True,\n",
       " True,\n",
       " True,\n",
       " True,\n",
       " True,\n",
       " True,\n",
       " True,\n",
       " True]"
      ]
     },
     "execution_count": 43,
     "metadata": {},
     "output_type": "execute_result"
    }
   ],
   "source": [
    "constant_list = [feature for feature in const_filter.get_support()]\n",
    "constant_list"
   ]
  },
  {
   "cell_type": "code",
   "execution_count": 48,
   "metadata": {},
   "outputs": [
    {
     "data": {
      "text/plain": [
       "Index(['duration', 'protocol_type', 'service', 'flag', 'src_bytes',\n",
       "       'dst_bytes', 'land', 'wrong_fragment', 'urgent', 'hot',\n",
       "       'num_failed_logins', 'logged_in', 'num_compromised', 'root_shell',\n",
       "       'su_attempted', 'num_root', 'num_file_creations', 'num_shells',\n",
       "       'num_access_files', 'is_guest_login', 'count', 'srv_count',\n",
       "       'serror_rate', 'srv_serror_rate', 'rerror_rate', 'srv_rerror_rate',\n",
       "       'same_srv_rate', 'diff_srv_rate', 'srv_diff_host_rate',\n",
       "       'dst_host_count', 'dst_host_srv_count', 'dst_host_same_srv_rate',\n",
       "       'dst_host_diff_srv_rate', 'dst_host_same_src_port_rate',\n",
       "       'dst_host_srv_diff_host_rate', 'dst_host_serror_rate',\n",
       "       'dst_host_srv_serror_rate', 'dst_host_rerror_rate',\n",
       "       'dst_host_srv_rerror_rate'],\n",
       "      dtype='object')"
      ]
     },
     "execution_count": 48,
     "metadata": {},
     "output_type": "execute_result"
    }
   ],
   "source": [
    "# remaining features after removing constant feature\n",
    "cols_label= X.columns[constant_list]\n",
    "cols_label"
   ]
  },
  {
   "cell_type": "code",
   "execution_count": 49,
   "metadata": {},
   "outputs": [
    {
     "data": {
      "text/plain": [
       "(array([0]), array([0]))"
      ]
     },
     "execution_count": 49,
     "metadata": {},
     "output_type": "execute_result"
    }
   ],
   "source": [
    "X_train['num_outbound_cmds'].unique(), X_train['is_host_login'].unique()"
   ]
  },
  {
   "cell_type": "code",
   "execution_count": 50,
   "metadata": {},
   "outputs": [],
   "source": [
    "X_train_cons_filter = const_filter.transform(X_train)\n",
    "x_test_cons_filter = const_filter.transform(x_test)"
   ]
  },
  {
   "cell_type": "code",
   "execution_count": 51,
   "metadata": {},
   "outputs": [
    {
     "data": {
      "text/plain": [
       "((100777, 39), (25195, 39))"
      ]
     },
     "execution_count": 51,
     "metadata": {},
     "output_type": "execute_result"
    }
   ],
   "source": [
    "# train and test datasets after constant feature remove\n",
    "X_train_cons_filter.shape, x_test_cons_filter.shape"
   ]
  },
  {
   "cell_type": "markdown",
   "metadata": {},
   "source": [
    "# Quasi constant Feature Removal"
   ]
  },
  {
   "cell_type": "code",
   "execution_count": 52,
   "metadata": {},
   "outputs": [],
   "source": [
    "# remove those features which are almost constant (99 percent)\n",
    "quasi_constant_filter = VarianceThreshold(threshold=0.01)"
   ]
  },
  {
   "cell_type": "code",
   "execution_count": 53,
   "metadata": {},
   "outputs": [
    {
     "data": {
      "text/plain": [
       "VarianceThreshold(threshold=0.01)"
      ]
     },
     "execution_count": 53,
     "metadata": {},
     "output_type": "execute_result"
    }
   ],
   "source": [
    "quasi_constant_filter.fit(X_train_cons_filter)"
   ]
  },
  {
   "cell_type": "code",
   "execution_count": 54,
   "metadata": {},
   "outputs": [
    {
     "data": {
      "text/plain": [
       "31"
      ]
     },
     "execution_count": 54,
     "metadata": {},
     "output_type": "execute_result"
    }
   ],
   "source": [
    "quasi_constant_filter.get_support().sum()"
   ]
  },
  {
   "cell_type": "code",
   "execution_count": 56,
   "metadata": {},
   "outputs": [],
   "source": [
    "X_train_quasi_constant_filter = quasi_constant_filter.transform(X_train_cons_filter)\n",
    "x_test__quasi_constant_filter = quasi_constant_filter.transform(x_test_cons_filter)"
   ]
  },
  {
   "cell_type": "code",
   "execution_count": 57,
   "metadata": {},
   "outputs": [
    {
     "data": {
      "text/plain": [
       "((100777, 31), (25195, 31))"
      ]
     },
     "execution_count": 57,
     "metadata": {},
     "output_type": "execute_result"
    }
   ],
   "source": [
    "X_train_quasi_constant_filter.shape, x_test__quasi_constant_filter.shape"
   ]
  },
  {
   "cell_type": "code",
   "execution_count": 58,
   "metadata": {},
   "outputs": [
    {
     "data": {
      "text/plain": [
       "[True,\n",
       " True,\n",
       " True,\n",
       " True,\n",
       " True,\n",
       " True,\n",
       " False,\n",
       " True,\n",
       " False,\n",
       " True,\n",
       " False,\n",
       " True,\n",
       " True,\n",
       " False,\n",
       " False,\n",
       " True,\n",
       " True,\n",
       " False,\n",
       " False,\n",
       " False,\n",
       " True,\n",
       " True,\n",
       " True,\n",
       " True,\n",
       " True,\n",
       " True,\n",
       " True,\n",
       " True,\n",
       " True,\n",
       " True,\n",
       " True,\n",
       " True,\n",
       " True,\n",
       " True,\n",
       " True,\n",
       " True,\n",
       " True,\n",
       " True,\n",
       " True]"
      ]
     },
     "execution_count": 58,
     "metadata": {},
     "output_type": "execute_result"
    }
   ],
   "source": [
    "constant_list = [feature for feature in quasi_constant_filter.get_support()]\n",
    "constant_list"
   ]
  },
  {
   "cell_type": "code",
   "execution_count": 59,
   "metadata": {},
   "outputs": [
    {
     "name": "stdout",
     "output_type": "stream",
     "text": [
      "Index(['duration', 'protocol_type', 'service', 'flag', 'src_bytes',\n",
      "       'dst_bytes', 'wrong_fragment', 'hot', 'logged_in', 'num_compromised',\n",
      "       'num_root', 'num_file_creations', 'count', 'srv_count', 'serror_rate',\n",
      "       'srv_serror_rate', 'rerror_rate', 'srv_rerror_rate', 'same_srv_rate',\n",
      "       'diff_srv_rate', 'srv_diff_host_rate', 'dst_host_count',\n",
      "       'dst_host_srv_count', 'dst_host_same_srv_rate',\n",
      "       'dst_host_diff_srv_rate', 'dst_host_same_src_port_rate',\n",
      "       'dst_host_srv_diff_host_rate', 'dst_host_serror_rate',\n",
      "       'dst_host_srv_serror_rate', 'dst_host_rerror_rate',\n",
      "       'dst_host_srv_rerror_rate'],\n",
      "      dtype='object')\n",
      "31\n"
     ]
    }
   ],
   "source": [
    "# print remaining list of features\n",
    "print(cols_label[constant_list]), print(len(cols_label[constant_list]))\n",
    "cols_label_2 = cols_label[constant_list]"
   ]
  },
  {
   "cell_type": "markdown",
   "metadata": {},
   "source": [
    "# Duplicate Feature Removal"
   ]
  },
  {
   "cell_type": "code",
   "execution_count": 60,
   "metadata": {},
   "outputs": [],
   "source": [
    "X_train_T = X_train_quasi_constant_filter.T\n",
    "x_test_T = x_test__quasi_constant_filter.T"
   ]
  },
  {
   "cell_type": "code",
   "execution_count": 61,
   "metadata": {},
   "outputs": [
    {
     "data": {
      "text/plain": [
       "numpy.ndarray"
      ]
     },
     "execution_count": 61,
     "metadata": {},
     "output_type": "execute_result"
    }
   ],
   "source": [
    "type(X_train_T)"
   ]
  },
  {
   "cell_type": "code",
   "execution_count": 62,
   "metadata": {},
   "outputs": [],
   "source": [
    "X_train_T = pd.DataFrame(X_train_T)\n",
    "x_test_T = pd.DataFrame(x_test_T)"
   ]
  },
  {
   "cell_type": "code",
   "execution_count": 63,
   "metadata": {},
   "outputs": [
    {
     "data": {
      "text/plain": [
       "((31, 100777), (31, 25195))"
      ]
     },
     "execution_count": 63,
     "metadata": {},
     "output_type": "execute_result"
    }
   ],
   "source": [
    "X_train_T.shape, x_test_T.shape"
   ]
  },
  {
   "cell_type": "code",
   "execution_count": 64,
   "metadata": {},
   "outputs": [
    {
     "data": {
      "text/plain": [
       "0"
      ]
     },
     "execution_count": 64,
     "metadata": {},
     "output_type": "execute_result"
    }
   ],
   "source": [
    "X_train_T.duplicated().sum()"
   ]
  },
  {
   "cell_type": "code",
   "execution_count": 65,
   "metadata": {},
   "outputs": [
    {
     "data": {
      "text/plain": [
       "0     False\n",
       "1     False\n",
       "2     False\n",
       "3     False\n",
       "4     False\n",
       "5     False\n",
       "6     False\n",
       "7     False\n",
       "8     False\n",
       "9     False\n",
       "10    False\n",
       "11    False\n",
       "12    False\n",
       "13    False\n",
       "14    False\n",
       "15    False\n",
       "16    False\n",
       "17    False\n",
       "18    False\n",
       "19    False\n",
       "20    False\n",
       "21    False\n",
       "22    False\n",
       "23    False\n",
       "24    False\n",
       "25    False\n",
       "26    False\n",
       "27    False\n",
       "28    False\n",
       "29    False\n",
       "30    False\n",
       "dtype: bool"
      ]
     },
     "execution_count": 65,
     "metadata": {},
     "output_type": "execute_result"
    }
   ],
   "source": [
    "duplicate_feaure = X_train_T.duplicated()\n",
    "duplicate_feaure"
   ]
  },
  {
   "cell_type": "code",
   "execution_count": 66,
   "metadata": {},
   "outputs": [
    {
     "data": {
      "text/plain": [
       "[True,\n",
       " True,\n",
       " True,\n",
       " True,\n",
       " True,\n",
       " True,\n",
       " True,\n",
       " True,\n",
       " True,\n",
       " True,\n",
       " True,\n",
       " True,\n",
       " True,\n",
       " True,\n",
       " True,\n",
       " True,\n",
       " True,\n",
       " True,\n",
       " True,\n",
       " True,\n",
       " True,\n",
       " True,\n",
       " True,\n",
       " True,\n",
       " True,\n",
       " True,\n",
       " True,\n",
       " True,\n",
       " True,\n",
       " True,\n",
       " True]"
      ]
     },
     "execution_count": 66,
     "metadata": {},
     "output_type": "execute_result"
    }
   ],
   "source": [
    "feature_to_keep = [not f for f in duplicate_feaure]\n",
    "feature_to_keep"
   ]
  },
  {
   "cell_type": "code",
   "execution_count": 67,
   "metadata": {},
   "outputs": [],
   "source": [
    "X_train_unique = X_train_T[feature_to_keep].T\n",
    "x_test_unique = x_test_T[feature_to_keep].T"
   ]
  },
  {
   "cell_type": "code",
   "execution_count": 68,
   "metadata": {},
   "outputs": [
    {
     "data": {
      "text/plain": [
       "((100777, 31), (25195, 31))"
      ]
     },
     "execution_count": 68,
     "metadata": {},
     "output_type": "execute_result"
    }
   ],
   "source": [
    "X_train_unique.shape, x_test_unique.shape"
   ]
  },
  {
   "cell_type": "code",
   "execution_count": 69,
   "metadata": {},
   "outputs": [
    {
     "data": {
      "text/plain": [
       "pandas.core.frame.DataFrame"
      ]
     },
     "execution_count": 69,
     "metadata": {},
     "output_type": "execute_result"
    }
   ],
   "source": [
    "type(X_train_unique)"
   ]
  },
  {
   "cell_type": "markdown",
   "metadata": {},
   "source": [
    "# Build ML model using sklearn"
   ]
  },
  {
   "cell_type": "code",
   "execution_count": 70,
   "metadata": {},
   "outputs": [],
   "source": [
    "def run_randomForest(X_train, X_test, y_train, y_test):\n",
    "    clf = RandomForestClassifier(n_estimators=100, random_state=0, n_jobs=-1)\n",
    "    clf.fit(X_train, y_train)\n",
    "    y_pred = clf.predict(X_test)\n",
    "    print('Accuracy: ', accuracy_score(y_test, y_pred))"
   ]
  },
  {
   "cell_type": "code",
   "execution_count": 72,
   "metadata": {},
   "outputs": [
    {
     "data": {
      "text/plain": [
       "((100777, 31), (25195, 31))"
      ]
     },
     "execution_count": 72,
     "metadata": {},
     "output_type": "execute_result"
    }
   ],
   "source": [
    "X_train_unique.shape, x_test_unique.shape"
   ]
  },
  {
   "cell_type": "code",
   "execution_count": 73,
   "metadata": {},
   "outputs": [
    {
     "name": "stdout",
     "output_type": "stream",
     "text": [
      "After removing constant, quasi-constant and duplicate\n",
      "Accuracy:  0.9989283588013494\n",
      "CPU times: user 17.6 s, sys: 192 ms, total: 17.8 s\n",
      "Wall time: 4.8 s\n"
     ]
    }
   ],
   "source": [
    "%%time\n",
    "print('After removing constant, quasi-constant and duplicate')\n",
    "run_randomForest(X_train_unique, x_test_unique, y_train, y_test)"
   ]
  },
  {
   "cell_type": "code",
   "execution_count": 74,
   "metadata": {},
   "outputs": [
    {
     "name": "stdout",
     "output_type": "stream",
     "text": [
      "After removing conastant\n",
      "Accuracy:  0.9990077396308792\n",
      "CPU times: user 18.8 s, sys: 192 ms, total: 19 s\n",
      "Wall time: 5.22 s\n"
     ]
    }
   ],
   "source": [
    "%%time\n",
    "print('After removing conastant')\n",
    "run_randomForest(X_train_cons_filter, x_test_cons_filter, y_train, y_test)"
   ]
  },
  {
   "cell_type": "code",
   "execution_count": 75,
   "metadata": {},
   "outputs": [
    {
     "name": "stdout",
     "output_type": "stream",
     "text": [
      "After removing quasi-constat\n",
      "Accuracy:  0.9989283588013494\n",
      "CPU times: user 18.1 s, sys: 244 ms, total: 18.3 s\n",
      "Wall time: 5.23 s\n"
     ]
    }
   ],
   "source": [
    "%%time\n",
    "print('After removing quasi-constat')\n",
    "run_randomForest(X_train_quasi_constant_filter, x_test__quasi_constant_filter, y_train, y_test)"
   ]
  },
  {
   "cell_type": "code",
   "execution_count": 76,
   "metadata": {},
   "outputs": [
    {
     "name": "stdout",
     "output_type": "stream",
     "text": [
      "Without removing any features\n",
      "Accuracy:  0.9989680492161143\n",
      "CPU times: user 18.3 s, sys: 256 ms, total: 18.5 s\n",
      "Wall time: 5.16 s\n"
     ]
    }
   ],
   "source": [
    "%%time\n",
    "print('Without removing any features')\n",
    "run_randomForest(X_train, x_test, y_train, y_test)"
   ]
  },
  {
   "cell_type": "markdown",
   "metadata": {},
   "source": [
    "# Pearson Correlation coefficients"
   ]
  },
  {
   "cell_type": "code",
   "execution_count": 77,
   "metadata": {},
   "outputs": [],
   "source": [
    "corrmat = X_train_unique.corr()"
   ]
  },
  {
   "cell_type": "code",
   "execution_count": 78,
   "metadata": {},
   "outputs": [
    {
     "data": {
      "text/plain": [
       "<matplotlib.axes._subplots.AxesSubplot at 0x7facca8fe4c0>"
      ]
     },
     "execution_count": 78,
     "metadata": {},
     "output_type": "execute_result"
    },
    {
     "data": {
      "image/png": "[encoded data removed]",
      "text/plain": [
       "<Figure size 864x576 with 2 Axes>"
      ]
     },
     "metadata": {
      "needs_background": "light"
     },
     "output_type": "display_data"
    }
   ],
   "source": [
    "plt.figure(figsize=(12,8))\n",
    "sns.heatmap(corrmat)"
   ]
  },
  {
   "cell_type": "code",
   "execution_count": 79,
   "metadata": {},
   "outputs": [],
   "source": [
    "def get_correlation(data, threshold):\n",
    "    corr_col = set()\n",
    "    corrmat = data.corr()\n",
    "    for i in range(len(corrmat.columns)):\n",
    "        for j in range(i):\n",
    "            if abs(corrmat.iloc[i, j])> threshold:\n",
    "                colname = corrmat.columns[i]\n",
    "                corr_col.add(colname)\n",
    "    return corr_col"
   ]
  },
  {
   "cell_type": "code",
   "execution_count": 80,
   "metadata": {},
   "outputs": [
    {
     "data": {
      "text/plain": [
       "{10, 15, 17, 27, 28, 29, 30}"
      ]
     },
     "execution_count": 80,
     "metadata": {},
     "output_type": "execute_result"
    }
   ],
   "source": [
    "corr_features = get_correlation(X_train_unique, 0.90)\n",
    "corr_features"
   ]
  },
  {
   "cell_type": "code",
   "execution_count": 81,
   "metadata": {},
   "outputs": [
    {
     "data": {
      "text/plain": [
       "7"
      ]
     },
     "execution_count": 81,
     "metadata": {},
     "output_type": "execute_result"
    }
   ],
   "source": [
    "len(corr_features)"
   ]
  },
  {
   "cell_type": "code",
   "execution_count": 83,
   "metadata": {},
   "outputs": [
    {
     "name": "stdout",
     "output_type": "stream",
     "text": [
      "24\n"
     ]
    },
    {
     "data": {
      "text/plain": [
       "['duration',\n",
       " 'protocol_type',\n",
       " 'service',\n",
       " 'flag',\n",
       " 'src_bytes',\n",
       " 'dst_bytes',\n",
       " 'wrong_fragment',\n",
       " 'hot',\n",
       " 'logged_in',\n",
       " 'num_compromised',\n",
       " 'num_file_creations',\n",
       " 'count',\n",
       " 'srv_count',\n",
       " 'serror_rate',\n",
       " 'rerror_rate',\n",
       " 'same_srv_rate',\n",
       " 'diff_srv_rate',\n",
       " 'srv_diff_host_rate',\n",
       " 'dst_host_count',\n",
       " 'dst_host_srv_count',\n",
       " 'dst_host_same_srv_rate',\n",
       " 'dst_host_diff_srv_rate',\n",
       " 'dst_host_same_src_port_rate',\n",
       " 'dst_host_srv_diff_host_rate']"
      ]
     },
     "execution_count": 83,
     "metadata": {},
     "output_type": "execute_result"
    }
   ],
   "source": [
    "uncorr_labesl = []\n",
    "for i, col in enumerate(cols_label_2):\n",
    "    if i not in corr_features:\n",
    "        uncorr_labesl.append(col)\n",
    "print(len(uncorr_labesl))\n",
    "uncorr_labesl"
   ]
  },
  {
   "cell_type": "code",
   "execution_count": 84,
   "metadata": {},
   "outputs": [],
   "source": [
    "X_train_without_corr = X_train_unique.drop(labels = corr_features, axis = 1)\n",
    "X_test_without_corr = x_test_unique.drop(labels = corr_features, axis = 1)"
   ]
  },
  {
   "cell_type": "code",
   "execution_count": 85,
   "metadata": {},
   "outputs": [
    {
     "data": {
      "text/plain": [
       "((100777, 24), (25195, 24))"
      ]
     },
     "execution_count": 85,
     "metadata": {},
     "output_type": "execute_result"
    }
   ],
   "source": [
    "X_train_without_corr.shape, X_test_without_corr.shape"
   ]
  },
  {
   "cell_type": "code",
   "execution_count": 86,
   "metadata": {},
   "outputs": [
    {
     "name": "stdout",
     "output_type": "stream",
     "text": [
      "After removing pearson correlation coefficient\n",
      "Accuracy:  0.9989283588013494\n",
      "CPU times: user 16.5 s, sys: 248 ms, total: 16.7 s\n",
      "Wall time: 4.42 s\n"
     ]
    }
   ],
   "source": [
    "%%time \n",
    "print('After removing pearson correlation coefficient')\n",
    "run_randomForest(X_train_without_corr, X_test_without_corr, y_train, y_test)"
   ]
  },
  {
   "cell_type": "code",
   "execution_count": 352,
   "metadata": {},
   "outputs": [
    {
     "name": "stdout",
     "output_type": "stream",
     "text": [
      "(100777, 41)\n",
      "Accuracy:  0.9989680492161143\n"
     ]
    }
   ],
   "source": [
    "# apply pearson correlation coefficient on initial datasets\n",
    "print(X_train.shape)\n",
    "corr_features = get_correlation(X_train, 0.90)\n",
    "# corr_features\n",
    "X_train_initial_corr = X_train.drop(labels = corr_features, axis = 1)\n",
    "X_test_initial_corr = x_test.drop(labels = corr_features, axis = 1)\n",
    "X_train_initial_corr.shape, X_test_initial_corr.shape\n",
    "# print()\n",
    "run_randomForest(X_train_initial_corr, X_test_initial_corr, y_train, y_test)"
   ]
  },
  {
   "cell_type": "markdown",
   "metadata": {},
   "source": [
    "# pearson correlation coffecient based group"
   ]
  },
  {
   "cell_type": "code",
   "execution_count": 353,
   "metadata": {},
   "outputs": [
    {
     "name": "stdout",
     "output_type": "stream",
     "text": [
      "{35, 36, 37, 38, 15, 23, 25}\n"
     ]
    },
    {
     "data": {
      "text/html": [
       "<div>\n",
       "<style scoped>\n",
       "    .dataframe tbody tr th:only-of-type {\n",
       "        vertical-align: middle;\n",
       "    }\n",
       "\n",
       "    .dataframe tbody tr th {\n",
       "        vertical-align: top;\n",
       "    }\n",
       "\n",
       "    .dataframe thead th {\n",
       "        text-align: right;\n",
       "    }\n",
       "</style>\n",
       "<table border=\"1\" class=\"dataframe\">\n",
       "  <thead>\n",
       "    <tr style=\"text-align: right;\">\n",
       "      <th></th>\n",
       "      <th>0</th>\n",
       "      <th>1</th>\n",
       "      <th>2</th>\n",
       "      <th>3</th>\n",
       "      <th>4</th>\n",
       "      <th>5</th>\n",
       "      <th>6</th>\n",
       "      <th>7</th>\n",
       "      <th>8</th>\n",
       "      <th>9</th>\n",
       "      <th>...</th>\n",
       "      <th>29</th>\n",
       "      <th>30</th>\n",
       "      <th>31</th>\n",
       "      <th>32</th>\n",
       "      <th>33</th>\n",
       "      <th>34</th>\n",
       "      <th>35</th>\n",
       "      <th>36</th>\n",
       "      <th>37</th>\n",
       "      <th>38</th>\n",
       "    </tr>\n",
       "  </thead>\n",
       "  <tbody>\n",
       "    <tr>\n",
       "      <th>0</th>\n",
       "      <td>1.000000</td>\n",
       "      <td>-0.009967</td>\n",
       "      <td>0.002528</td>\n",
       "      <td>0.176394</td>\n",
       "      <td>0.054169</td>\n",
       "      <td>0.039088</td>\n",
       "      <td>-0.001622</td>\n",
       "      <td>-0.009777</td>\n",
       "      <td>0.004586</td>\n",
       "      <td>-0.000132</td>\n",
       "      <td>...</td>\n",
       "      <td>0.050892</td>\n",
       "      <td>-0.109289</td>\n",
       "      <td>-0.115546</td>\n",
       "      <td>0.253848</td>\n",
       "      <td>0.227889</td>\n",
       "      <td>-0.026399</td>\n",
       "      <td>-0.064810</td>\n",
       "      <td>-0.063982</td>\n",
       "      <td>0.174528</td>\n",
       "      <td>0.198709</td>\n",
       "    </tr>\n",
       "    <tr>\n",
       "      <th>1</th>\n",
       "      <td>-0.009967</td>\n",
       "      <td>1.000000</td>\n",
       "      <td>-0.061750</td>\n",
       "      <td>-0.277219</td>\n",
       "      <td>-0.003849</td>\n",
       "      <td>-0.002367</td>\n",
       "      <td>-0.006560</td>\n",
       "      <td>0.128855</td>\n",
       "      <td>-0.003425</td>\n",
       "      <td>-0.042002</td>\n",
       "      <td>...</td>\n",
       "      <td>-0.074146</td>\n",
       "      <td>0.068764</td>\n",
       "      <td>0.209410</td>\n",
       "      <td>-0.021308</td>\n",
       "      <td>0.569278</td>\n",
       "      <td>0.364310</td>\n",
       "      <td>-0.278256</td>\n",
       "      <td>-0.277162</td>\n",
       "      <td>-0.136476</td>\n",
       "      <td>-0.166853</td>\n",
       "    </tr>\n",
       "    <tr>\n",
       "      <th>2</th>\n",
       "      <td>0.002528</td>\n",
       "      <td>-0.061750</td>\n",
       "      <td>1.000000</td>\n",
       "      <td>0.283294</td>\n",
       "      <td>0.004864</td>\n",
       "      <td>-0.001220</td>\n",
       "      <td>0.002541</td>\n",
       "      <td>-0.041014</td>\n",
       "      <td>0.004272</td>\n",
       "      <td>0.016806</td>\n",
       "      <td>...</td>\n",
       "      <td>0.265421</td>\n",
       "      <td>-0.464282</td>\n",
       "      <td>-0.481485</td>\n",
       "      <td>0.048423</td>\n",
       "      <td>-0.086222</td>\n",
       "      <td>-0.054611</td>\n",
       "      <td>0.404127</td>\n",
       "      <td>0.409593</td>\n",
       "      <td>0.101639</td>\n",
       "      <td>0.109540</td>\n",
       "    </tr>\n",
       "    <tr>\n",
       "      <th>3</th>\n",
       "      <td>0.176394</td>\n",
       "      <td>-0.277219</td>\n",
       "      <td>0.283294</td>\n",
       "      <td>1.000000</td>\n",
       "      <td>0.034534</td>\n",
       "      <td>0.011191</td>\n",
       "      <td>0.005891</td>\n",
       "      <td>-0.055612</td>\n",
       "      <td>-0.004819</td>\n",
       "      <td>-0.049942</td>\n",
       "      <td>...</td>\n",
       "      <td>0.227613</td>\n",
       "      <td>-0.472394</td>\n",
       "      <td>-0.508303</td>\n",
       "      <td>0.344514</td>\n",
       "      <td>-0.042851</td>\n",
       "      <td>-0.070647</td>\n",
       "      <td>0.273909</td>\n",
       "      <td>0.280337</td>\n",
       "      <td>0.601219</td>\n",
       "      <td>0.644820</td>\n",
       "    </tr>\n",
       "    <tr>\n",
       "      <th>4</th>\n",
       "      <td>0.054169</td>\n",
       "      <td>-0.003849</td>\n",
       "      <td>0.004864</td>\n",
       "      <td>0.034534</td>\n",
       "      <td>1.000000</td>\n",
       "      <td>0.000001</td>\n",
       "      <td>-0.000129</td>\n",
       "      <td>-0.000774</td>\n",
       "      <td>-0.000065</td>\n",
       "      <td>0.001265</td>\n",
       "      <td>...</td>\n",
       "      <td>-0.004400</td>\n",
       "      <td>-0.006752</td>\n",
       "      <td>-0.005766</td>\n",
       "      <td>0.000672</td>\n",
       "      <td>0.002045</td>\n",
       "      <td>-0.001513</td>\n",
       "      <td>-0.004560</td>\n",
       "      <td>-0.002192</td>\n",
       "      <td>-0.001919</td>\n",
       "      <td>0.007065</td>\n",
       "    </tr>\n",
       "    <tr>\n",
       "      <th>5</th>\n",
       "      <td>0.039088</td>\n",
       "      <td>-0.002367</td>\n",
       "      <td>-0.001220</td>\n",
       "      <td>0.011191</td>\n",
       "      <td>0.000001</td>\n",
       "      <td>1.000000</td>\n",
       "      <td>-0.000079</td>\n",
       "      <td>-0.000475</td>\n",
       "      <td>0.000256</td>\n",
       "      <td>-0.000396</td>\n",
       "      <td>...</td>\n",
       "      <td>0.002934</td>\n",
       "      <td>-0.004737</td>\n",
       "      <td>-0.005024</td>\n",
       "      <td>0.012385</td>\n",
       "      <td>0.013042</td>\n",
       "      <td>-0.001409</td>\n",
       "      <td>-0.003300</td>\n",
       "      <td>-0.003214</td>\n",
       "      <td>0.013181</td>\n",
       "      <td>0.012611</td>\n",
       "    </tr>\n",
       "    <tr>\n",
       "      <th>6</th>\n",
       "      <td>-0.001622</td>\n",
       "      <td>-0.006560</td>\n",
       "      <td>0.002541</td>\n",
       "      <td>0.005891</td>\n",
       "      <td>-0.000129</td>\n",
       "      <td>-0.000079</td>\n",
       "      <td>1.000000</td>\n",
       "      <td>-0.001316</td>\n",
       "      <td>-0.000114</td>\n",
       "      <td>-0.001398</td>\n",
       "      <td>...</td>\n",
       "      <td>-0.026695</td>\n",
       "      <td>-0.014891</td>\n",
       "      <td>0.011660</td>\n",
       "      <td>-0.004493</td>\n",
       "      <td>0.034695</td>\n",
       "      <td>0.070904</td>\n",
       "      <td>0.020422</td>\n",
       "      <td>0.013013</td>\n",
       "      <td>-0.005435</td>\n",
       "      <td>-0.005554</td>\n",
       "    </tr>\n",
       "    <tr>\n",
       "      <th>7</th>\n",
       "      <td>-0.009777</td>\n",
       "      <td>0.128855</td>\n",
       "      <td>-0.041014</td>\n",
       "      <td>-0.055612</td>\n",
       "      <td>-0.000774</td>\n",
       "      <td>-0.000475</td>\n",
       "      <td>-0.001316</td>\n",
       "      <td>1.000000</td>\n",
       "      <td>-0.000687</td>\n",
       "      <td>-0.008426</td>\n",
       "      <td>...</td>\n",
       "      <td>0.040414</td>\n",
       "      <td>-0.045733</td>\n",
       "      <td>-0.049032</td>\n",
       "      <td>0.056631</td>\n",
       "      <td>0.036108</td>\n",
       "      <td>-0.016115</td>\n",
       "      <td>-0.051692</td>\n",
       "      <td>-0.055601</td>\n",
       "      <td>0.028394</td>\n",
       "      <td>-0.033472</td>\n",
       "    </tr>\n",
       "    <tr>\n",
       "      <th>8</th>\n",
       "      <td>0.004586</td>\n",
       "      <td>-0.003425</td>\n",
       "      <td>0.004272</td>\n",
       "      <td>-0.004819</td>\n",
       "      <td>-0.000065</td>\n",
       "      <td>0.000256</td>\n",
       "      <td>-0.000114</td>\n",
       "      <td>-0.000687</td>\n",
       "      <td>1.000000</td>\n",
       "      <td>0.000484</td>\n",
       "      <td>...</td>\n",
       "      <td>-0.005726</td>\n",
       "      <td>-0.007911</td>\n",
       "      <td>-0.005887</td>\n",
       "      <td>0.005119</td>\n",
       "      <td>0.000670</td>\n",
       "      <td>0.001927</td>\n",
       "      <td>-0.004699</td>\n",
       "      <td>-0.004818</td>\n",
       "      <td>-0.002987</td>\n",
       "      <td>-0.002900</td>\n",
       "    </tr>\n",
       "    <tr>\n",
       "      <th>9</th>\n",
       "      <td>-0.000132</td>\n",
       "      <td>-0.042002</td>\n",
       "      <td>0.016806</td>\n",
       "      <td>-0.049942</td>\n",
       "      <td>0.001265</td>\n",
       "      <td>-0.000396</td>\n",
       "      <td>-0.001398</td>\n",
       "      <td>-0.008426</td>\n",
       "      <td>0.000484</td>\n",
       "      <td>1.000000</td>\n",
       "      <td>...</td>\n",
       "      <td>-0.011932</td>\n",
       "      <td>-0.051510</td>\n",
       "      <td>-0.035967</td>\n",
       "      <td>-0.010876</td>\n",
       "      <td>-0.034460</td>\n",
       "      <td>-0.024248</td>\n",
       "      <td>-0.058061</td>\n",
       "      <td>-0.057932</td>\n",
       "      <td>-0.029851</td>\n",
       "      <td>-0.031210</td>\n",
       "    </tr>\n",
       "    <tr>\n",
       "      <th>10</th>\n",
       "      <td>0.011804</td>\n",
       "      <td>-0.012061</td>\n",
       "      <td>0.003321</td>\n",
       "      <td>0.027464</td>\n",
       "      <td>-0.000234</td>\n",
       "      <td>0.000548</td>\n",
       "      <td>-0.000401</td>\n",
       "      <td>-0.002419</td>\n",
       "      <td>0.110689</td>\n",
       "      <td>0.003689</td>\n",
       "      <td>...</td>\n",
       "      <td>-0.025739</td>\n",
       "      <td>-0.023225</td>\n",
       "      <td>-0.001835</td>\n",
       "      <td>-0.001643</td>\n",
       "      <td>-0.005353</td>\n",
       "      <td>0.005655</td>\n",
       "      <td>-0.012071</td>\n",
       "      <td>-0.012664</td>\n",
       "      <td>0.018440</td>\n",
       "      <td>0.016957</td>\n",
       "    </tr>\n",
       "    <tr>\n",
       "      <th>11</th>\n",
       "      <td>-0.064302</td>\n",
       "      <td>-0.359285</td>\n",
       "      <td>-0.361632</td>\n",
       "      <td>-0.440542</td>\n",
       "      <td>-0.002267</td>\n",
       "      <td>-0.003332</td>\n",
       "      <td>-0.011959</td>\n",
       "      <td>-0.072075</td>\n",
       "      <td>0.006904</td>\n",
       "      <td>0.115718</td>\n",
       "      <td>...</td>\n",
       "      <td>-0.401001</td>\n",
       "      <td>0.623796</td>\n",
       "      <td>0.602679</td>\n",
       "      <td>-0.254972</td>\n",
       "      <td>-0.162210</td>\n",
       "      <td>-0.056095</td>\n",
       "      <td>-0.491137</td>\n",
       "      <td>-0.492686</td>\n",
       "      <td>-0.275336</td>\n",
       "      <td>-0.272967</td>\n",
       "    </tr>\n",
       "    <tr>\n",
       "      <th>12</th>\n",
       "      <td>0.041729</td>\n",
       "      <td>-0.005224</td>\n",
       "      <td>0.000896</td>\n",
       "      <td>-0.001048</td>\n",
       "      <td>-0.000094</td>\n",
       "      <td>0.001201</td>\n",
       "      <td>-0.000174</td>\n",
       "      <td>-0.001048</td>\n",
       "      <td>0.035103</td>\n",
       "      <td>0.002148</td>\n",
       "      <td>...</td>\n",
       "      <td>-0.010879</td>\n",
       "      <td>-0.010427</td>\n",
       "      <td>-0.005284</td>\n",
       "      <td>0.003412</td>\n",
       "      <td>-0.002255</td>\n",
       "      <td>0.004384</td>\n",
       "      <td>-0.004380</td>\n",
       "      <td>-0.004725</td>\n",
       "      <td>-0.003639</td>\n",
       "      <td>-0.003345</td>\n",
       "    </tr>\n",
       "    <tr>\n",
       "      <th>13</th>\n",
       "      <td>0.051551</td>\n",
       "      <td>-0.016498</td>\n",
       "      <td>-0.004602</td>\n",
       "      <td>-0.002418</td>\n",
       "      <td>-0.000315</td>\n",
       "      <td>0.001058</td>\n",
       "      <td>-0.000549</td>\n",
       "      <td>-0.003310</td>\n",
       "      <td>0.086343</td>\n",
       "      <td>0.014401</td>\n",
       "      <td>...</td>\n",
       "      <td>-0.028856</td>\n",
       "      <td>-0.006773</td>\n",
       "      <td>0.006045</td>\n",
       "      <td>-0.004578</td>\n",
       "      <td>0.000807</td>\n",
       "      <td>0.013386</td>\n",
       "      <td>-0.017768</td>\n",
       "      <td>-0.015371</td>\n",
       "      <td>-0.008906</td>\n",
       "      <td>-0.009580</td>\n",
       "    </tr>\n",
       "    <tr>\n",
       "      <th>14</th>\n",
       "      <td>0.083835</td>\n",
       "      <td>-0.011092</td>\n",
       "      <td>0.002204</td>\n",
       "      <td>0.012605</td>\n",
       "      <td>-0.000211</td>\n",
       "      <td>0.001125</td>\n",
       "      <td>-0.000369</td>\n",
       "      <td>-0.002225</td>\n",
       "      <td>0.111474</td>\n",
       "      <td>0.000279</td>\n",
       "      <td>...</td>\n",
       "      <td>-0.012667</td>\n",
       "      <td>-0.021692</td>\n",
       "      <td>-0.016670</td>\n",
       "      <td>0.004411</td>\n",
       "      <td>-0.006150</td>\n",
       "      <td>0.009164</td>\n",
       "      <td>-0.006697</td>\n",
       "      <td>-0.004160</td>\n",
       "      <td>-0.004294</td>\n",
       "      <td>-0.005431</td>\n",
       "    </tr>\n",
       "    <tr>\n",
       "      <th>15</th>\n",
       "      <td>0.044548</td>\n",
       "      <td>-0.005528</td>\n",
       "      <td>0.000967</td>\n",
       "      <td>-0.001246</td>\n",
       "      <td>-0.000104</td>\n",
       "      <td>0.001197</td>\n",
       "      <td>-0.000184</td>\n",
       "      <td>-0.001109</td>\n",
       "      <td>0.034281</td>\n",
       "      <td>0.001704</td>\n",
       "      <td>...</td>\n",
       "      <td>-0.011406</td>\n",
       "      <td>-0.011184</td>\n",
       "      <td>-0.006177</td>\n",
       "      <td>0.003798</td>\n",
       "      <td>-0.001934</td>\n",
       "      <td>0.004699</td>\n",
       "      <td>-0.004753</td>\n",
       "      <td>-0.005059</td>\n",
       "      <td>-0.003817</td>\n",
       "      <td>-0.003607</td>\n",
       "    </tr>\n",
       "    <tr>\n",
       "      <th>16</th>\n",
       "      <td>0.091529</td>\n",
       "      <td>-0.011636</td>\n",
       "      <td>0.001550</td>\n",
       "      <td>-0.007319</td>\n",
       "      <td>-0.000187</td>\n",
       "      <td>0.000045</td>\n",
       "      <td>-0.000387</td>\n",
       "      <td>-0.002334</td>\n",
       "      <td>0.030251</td>\n",
       "      <td>0.022945</td>\n",
       "      <td>...</td>\n",
       "      <td>-0.001672</td>\n",
       "      <td>-0.019635</td>\n",
       "      <td>-0.017488</td>\n",
       "      <td>0.007586</td>\n",
       "      <td>-0.006350</td>\n",
       "      <td>0.002943</td>\n",
       "      <td>0.002685</td>\n",
       "      <td>-0.000822</td>\n",
       "      <td>-0.004675</td>\n",
       "      <td>-0.004720</td>\n",
       "    </tr>\n",
       "    <tr>\n",
       "      <th>17</th>\n",
       "      <td>-0.001918</td>\n",
       "      <td>-0.008422</td>\n",
       "      <td>-0.002851</td>\n",
       "      <td>-0.011846</td>\n",
       "      <td>-0.000145</td>\n",
       "      <td>-0.000097</td>\n",
       "      <td>-0.000280</td>\n",
       "      <td>-0.001689</td>\n",
       "      <td>-0.000146</td>\n",
       "      <td>0.001953</td>\n",
       "      <td>...</td>\n",
       "      <td>-0.009394</td>\n",
       "      <td>-0.012706</td>\n",
       "      <td>-0.006478</td>\n",
       "      <td>-0.003328</td>\n",
       "      <td>0.014769</td>\n",
       "      <td>-0.001770</td>\n",
       "      <td>-0.011376</td>\n",
       "      <td>-0.010052</td>\n",
       "      <td>-0.005068</td>\n",
       "      <td>-0.006854</td>\n",
       "    </tr>\n",
       "    <tr>\n",
       "      <th>18</th>\n",
       "      <td>0.067210</td>\n",
       "      <td>-0.017944</td>\n",
       "      <td>-0.010301</td>\n",
       "      <td>-0.020019</td>\n",
       "      <td>-0.000336</td>\n",
       "      <td>0.000281</td>\n",
       "      <td>-0.000597</td>\n",
       "      <td>-0.003600</td>\n",
       "      <td>0.012917</td>\n",
       "      <td>-0.003054</td>\n",
       "      <td>...</td>\n",
       "      <td>-0.005513</td>\n",
       "      <td>0.003124</td>\n",
       "      <td>0.005680</td>\n",
       "      <td>0.001756</td>\n",
       "      <td>-0.012659</td>\n",
       "      <td>0.001408</td>\n",
       "      <td>-0.017940</td>\n",
       "      <td>-0.019583</td>\n",
       "      <td>-0.012568</td>\n",
       "      <td>-0.012746</td>\n",
       "    </tr>\n",
       "    <tr>\n",
       "      <th>19</th>\n",
       "      <td>0.001965</td>\n",
       "      <td>-0.042844</td>\n",
       "      <td>0.025053</td>\n",
       "      <td>-0.053472</td>\n",
       "      <td>-0.000815</td>\n",
       "      <td>-0.000463</td>\n",
       "      <td>-0.001426</td>\n",
       "      <td>-0.008595</td>\n",
       "      <td>-0.000745</td>\n",
       "      <td>0.864388</td>\n",
       "      <td>...</td>\n",
       "      <td>-0.013131</td>\n",
       "      <td>-0.065675</td>\n",
       "      <td>-0.054148</td>\n",
       "      <td>-0.005913</td>\n",
       "      <td>-0.035255</td>\n",
       "      <td>-0.024220</td>\n",
       "      <td>-0.059927</td>\n",
       "      <td>-0.059841</td>\n",
       "      <td>-0.029849</td>\n",
       "      <td>-0.032491</td>\n",
       "    </tr>\n",
       "    <tr>\n",
       "      <th>20</th>\n",
       "      <td>-0.078755</td>\n",
       "      <td>0.073608</td>\n",
       "      <td>0.346879</td>\n",
       "      <td>0.292977</td>\n",
       "      <td>-0.005266</td>\n",
       "      <td>-0.003851</td>\n",
       "      <td>-0.010267</td>\n",
       "      <td>-0.020873</td>\n",
       "      <td>-0.005603</td>\n",
       "      <td>-0.068376</td>\n",
       "      <td>...</td>\n",
       "      <td>0.467910</td>\n",
       "      <td>-0.394411</td>\n",
       "      <td>-0.472053</td>\n",
       "      <td>0.164268</td>\n",
       "      <td>-0.136143</td>\n",
       "      <td>-0.205615</td>\n",
       "      <td>0.458189</td>\n",
       "      <td>0.459821</td>\n",
       "      <td>0.177824</td>\n",
       "      <td>0.167923</td>\n",
       "    </tr>\n",
       "    <tr>\n",
       "      <th>21</th>\n",
       "      <td>-0.039382</td>\n",
       "      <td>0.531938</td>\n",
       "      <td>-0.055492</td>\n",
       "      <td>-0.171264</td>\n",
       "      <td>-0.003092</td>\n",
       "      <td>-0.001916</td>\n",
       "      <td>-0.005285</td>\n",
       "      <td>0.024031</td>\n",
       "      <td>-0.002846</td>\n",
       "      <td>-0.034457</td>\n",
       "      <td>...</td>\n",
       "      <td>0.150257</td>\n",
       "      <td>0.203454</td>\n",
       "      <td>0.182723</td>\n",
       "      <td>-0.106912</td>\n",
       "      <td>0.161665</td>\n",
       "      <td>-0.059236</td>\n",
       "      <td>-0.146457</td>\n",
       "      <td>-0.145625</td>\n",
       "      <td>-0.101942</td>\n",
       "      <td>-0.112881</td>\n",
       "    </tr>\n",
       "    <tr>\n",
       "      <th>22</th>\n",
       "      <td>-0.069656</td>\n",
       "      <td>-0.280374</td>\n",
       "      <td>0.401653</td>\n",
       "      <td>0.318248</td>\n",
       "      <td>-0.001709</td>\n",
       "      <td>-0.003323</td>\n",
       "      <td>0.022687</td>\n",
       "      <td>-0.043258</td>\n",
       "      <td>-0.004914</td>\n",
       "      <td>-0.058604</td>\n",
       "      <td>...</td>\n",
       "      <td>0.395352</td>\n",
       "      <td>-0.558051</td>\n",
       "      <td>-0.623194</td>\n",
       "      <td>-0.018171</td>\n",
       "      <td>-0.276532</td>\n",
       "      <td>-0.172628</td>\n",
       "      <td>0.979045</td>\n",
       "      <td>0.981034</td>\n",
       "      <td>-0.231577</td>\n",
       "      <td>-0.226486</td>\n",
       "    </tr>\n",
       "    <tr>\n",
       "      <th>23</th>\n",
       "      <td>-0.069245</td>\n",
       "      <td>-0.280398</td>\n",
       "      <td>0.403483</td>\n",
       "      <td>0.310218</td>\n",
       "      <td>-0.002229</td>\n",
       "      <td>-0.003299</td>\n",
       "      <td>0.023734</td>\n",
       "      <td>-0.056250</td>\n",
       "      <td>-0.004874</td>\n",
       "      <td>-0.058234</td>\n",
       "      <td>...</td>\n",
       "      <td>0.393074</td>\n",
       "      <td>-0.555215</td>\n",
       "      <td>-0.619476</td>\n",
       "      <td>-0.028914</td>\n",
       "      <td>-0.275519</td>\n",
       "      <td>-0.170816</td>\n",
       "      <td>0.977497</td>\n",
       "      <td>0.986002</td>\n",
       "      <td>-0.235098</td>\n",
       "      <td>-0.232924</td>\n",
       "    </tr>\n",
       "    <tr>\n",
       "      <th>24</th>\n",
       "      <td>0.200460</td>\n",
       "      <td>-0.165729</td>\n",
       "      <td>0.112197</td>\n",
       "      <td>0.667646</td>\n",
       "      <td>0.010134</td>\n",
       "      <td>0.012564</td>\n",
       "      <td>-0.004122</td>\n",
       "      <td>-0.032861</td>\n",
       "      <td>-0.002886</td>\n",
       "      <td>-0.031998</td>\n",
       "      <td>...</td>\n",
       "      <td>0.070790</td>\n",
       "      <td>-0.253365</td>\n",
       "      <td>-0.260014</td>\n",
       "      <td>0.377480</td>\n",
       "      <td>0.032614</td>\n",
       "      <td>0.034242</td>\n",
       "      <td>-0.225986</td>\n",
       "      <td>-0.224985</td>\n",
       "      <td>0.927218</td>\n",
       "      <td>0.964776</td>\n",
       "    </tr>\n",
       "    <tr>\n",
       "      <th>25</th>\n",
       "      <td>0.199823</td>\n",
       "      <td>-0.166073</td>\n",
       "      <td>0.108321</td>\n",
       "      <td>0.668120</td>\n",
       "      <td>0.010809</td>\n",
       "      <td>0.012425</td>\n",
       "      <td>-0.005528</td>\n",
       "      <td>-0.033315</td>\n",
       "      <td>-0.002887</td>\n",
       "      <td>-0.031186</td>\n",
       "      <td>...</td>\n",
       "      <td>0.073516</td>\n",
       "      <td>-0.251837</td>\n",
       "      <td>-0.258024</td>\n",
       "      <td>0.381989</td>\n",
       "      <td>0.029745</td>\n",
       "      <td>0.031230</td>\n",
       "      <td>-0.226210</td>\n",
       "      <td>-0.230309</td>\n",
       "      <td>0.918888</td>\n",
       "      <td>0.970648</td>\n",
       "    </tr>\n",
       "    <tr>\n",
       "      <th>26</th>\n",
       "      <td>0.074757</td>\n",
       "      <td>0.257396</td>\n",
       "      <td>-0.482703</td>\n",
       "      <td>-0.478395</td>\n",
       "      <td>0.002061</td>\n",
       "      <td>0.004110</td>\n",
       "      <td>0.008852</td>\n",
       "      <td>0.054629</td>\n",
       "      <td>0.005947</td>\n",
       "      <td>0.069378</td>\n",
       "      <td>...</td>\n",
       "      <td>-0.509290</td>\n",
       "      <td>0.704974</td>\n",
       "      <td>0.788334</td>\n",
       "      <td>-0.164309</td>\n",
       "      <td>0.280751</td>\n",
       "      <td>0.216147</td>\n",
       "      <td>-0.760993</td>\n",
       "      <td>-0.765407</td>\n",
       "      <td>-0.215915</td>\n",
       "      <td>-0.214932</td>\n",
       "    </tr>\n",
       "    <tr>\n",
       "      <th>27</th>\n",
       "      <td>-0.014747</td>\n",
       "      <td>-0.010746</td>\n",
       "      <td>0.089260</td>\n",
       "      <td>0.206585</td>\n",
       "      <td>0.001921</td>\n",
       "      <td>-0.001849</td>\n",
       "      <td>-0.001126</td>\n",
       "      <td>-0.026492</td>\n",
       "      <td>-0.002696</td>\n",
       "      <td>-0.017843</td>\n",
       "      <td>...</td>\n",
       "      <td>0.192422</td>\n",
       "      <td>-0.299466</td>\n",
       "      <td>-0.330184</td>\n",
       "      <td>0.493908</td>\n",
       "      <td>-0.010509</td>\n",
       "      <td>-0.086014</td>\n",
       "      <td>0.051301</td>\n",
       "      <td>0.047245</td>\n",
       "      <td>0.225405</td>\n",
       "      <td>0.277130</td>\n",
       "    </tr>\n",
       "    <tr>\n",
       "      <th>28</th>\n",
       "      <td>-0.039909</td>\n",
       "      <td>0.269141</td>\n",
       "      <td>-0.139204</td>\n",
       "      <td>-0.172228</td>\n",
       "      <td>-0.002782</td>\n",
       "      <td>-0.001845</td>\n",
       "      <td>0.040908</td>\n",
       "      <td>-0.026047</td>\n",
       "      <td>-0.002892</td>\n",
       "      <td>-0.026043</td>\n",
       "      <td>...</td>\n",
       "      <td>-0.360080</td>\n",
       "      <td>0.152886</td>\n",
       "      <td>0.291126</td>\n",
       "      <td>-0.118603</td>\n",
       "      <td>0.249142</td>\n",
       "      <td>0.379751</td>\n",
       "      <td>-0.226277</td>\n",
       "      <td>-0.226698</td>\n",
       "      <td>-0.078592</td>\n",
       "      <td>-0.083413</td>\n",
       "    </tr>\n",
       "    <tr>\n",
       "      <th>29</th>\n",
       "      <td>0.050892</td>\n",
       "      <td>-0.074146</td>\n",
       "      <td>0.265421</td>\n",
       "      <td>0.227613</td>\n",
       "      <td>-0.004400</td>\n",
       "      <td>0.002934</td>\n",
       "      <td>-0.026695</td>\n",
       "      <td>0.040414</td>\n",
       "      <td>-0.005726</td>\n",
       "      <td>-0.011932</td>\n",
       "      <td>...</td>\n",
       "      <td>1.000000</td>\n",
       "      <td>-0.302581</td>\n",
       "      <td>-0.517897</td>\n",
       "      <td>0.142474</td>\n",
       "      <td>-0.313460</td>\n",
       "      <td>-0.455401</td>\n",
       "      <td>0.411132</td>\n",
       "      <td>0.407421</td>\n",
       "      <td>0.073694</td>\n",
       "      <td>0.069753</td>\n",
       "    </tr>\n",
       "    <tr>\n",
       "      <th>30</th>\n",
       "      <td>-0.109289</td>\n",
       "      <td>0.068764</td>\n",
       "      <td>-0.464282</td>\n",
       "      <td>-0.472394</td>\n",
       "      <td>-0.006752</td>\n",
       "      <td>-0.004737</td>\n",
       "      <td>-0.014891</td>\n",
       "      <td>-0.045733</td>\n",
       "      <td>-0.007911</td>\n",
       "      <td>-0.051510</td>\n",
       "      <td>...</td>\n",
       "      <td>-0.302581</td>\n",
       "      <td>1.000000</td>\n",
       "      <td>0.896385</td>\n",
       "      <td>-0.390399</td>\n",
       "      <td>-0.068358</td>\n",
       "      <td>-0.004198</td>\n",
       "      <td>-0.572867</td>\n",
       "      <td>-0.567730</td>\n",
       "      <td>-0.252624</td>\n",
       "      <td>-0.255114</td>\n",
       "    </tr>\n",
       "    <tr>\n",
       "      <th>31</th>\n",
       "      <td>-0.115546</td>\n",
       "      <td>0.209410</td>\n",
       "      <td>-0.481485</td>\n",
       "      <td>-0.508303</td>\n",
       "      <td>-0.005766</td>\n",
       "      <td>-0.005024</td>\n",
       "      <td>0.011660</td>\n",
       "      <td>-0.049032</td>\n",
       "      <td>-0.005887</td>\n",
       "      <td>-0.035967</td>\n",
       "      <td>...</td>\n",
       "      <td>-0.517897</td>\n",
       "      <td>0.896385</td>\n",
       "      <td>1.000000</td>\n",
       "      <td>-0.418948</td>\n",
       "      <td>0.137008</td>\n",
       "      <td>0.197968</td>\n",
       "      <td>-0.639659</td>\n",
       "      <td>-0.632340</td>\n",
       "      <td>-0.259517</td>\n",
       "      <td>-0.260559</td>\n",
       "    </tr>\n",
       "    <tr>\n",
       "      <th>32</th>\n",
       "      <td>0.253848</td>\n",
       "      <td>-0.021308</td>\n",
       "      <td>0.048423</td>\n",
       "      <td>0.344514</td>\n",
       "      <td>0.000672</td>\n",
       "      <td>0.012385</td>\n",
       "      <td>-0.004493</td>\n",
       "      <td>0.056631</td>\n",
       "      <td>0.005119</td>\n",
       "      <td>-0.010876</td>\n",
       "      <td>...</td>\n",
       "      <td>0.142474</td>\n",
       "      <td>-0.390399</td>\n",
       "      <td>-0.418948</td>\n",
       "      <td>1.000000</td>\n",
       "      <td>0.232357</td>\n",
       "      <td>0.019440</td>\n",
       "      <td>-0.017730</td>\n",
       "      <td>-0.026522</td>\n",
       "      <td>0.410382</td>\n",
       "      <td>0.386967</td>\n",
       "    </tr>\n",
       "    <tr>\n",
       "      <th>33</th>\n",
       "      <td>0.227889</td>\n",
       "      <td>0.569278</td>\n",
       "      <td>-0.086222</td>\n",
       "      <td>-0.042851</td>\n",
       "      <td>0.002045</td>\n",
       "      <td>0.013042</td>\n",
       "      <td>0.034695</td>\n",
       "      <td>0.036108</td>\n",
       "      <td>0.000670</td>\n",
       "      <td>-0.034460</td>\n",
       "      <td>...</td>\n",
       "      <td>-0.313460</td>\n",
       "      <td>-0.068358</td>\n",
       "      <td>0.137008</td>\n",
       "      <td>0.232357</td>\n",
       "      <td>1.000000</td>\n",
       "      <td>0.404123</td>\n",
       "      <td>-0.279398</td>\n",
       "      <td>-0.277056</td>\n",
       "      <td>0.037307</td>\n",
       "      <td>0.028106</td>\n",
       "    </tr>\n",
       "    <tr>\n",
       "      <th>34</th>\n",
       "      <td>-0.026399</td>\n",
       "      <td>0.364310</td>\n",
       "      <td>-0.054611</td>\n",
       "      <td>-0.070647</td>\n",
       "      <td>-0.001513</td>\n",
       "      <td>-0.001409</td>\n",
       "      <td>0.070904</td>\n",
       "      <td>-0.016115</td>\n",
       "      <td>0.001927</td>\n",
       "      <td>-0.024248</td>\n",
       "      <td>...</td>\n",
       "      <td>-0.455401</td>\n",
       "      <td>-0.004198</td>\n",
       "      <td>0.197968</td>\n",
       "      <td>0.019440</td>\n",
       "      <td>0.404123</td>\n",
       "      <td>1.000000</td>\n",
       "      <td>-0.174468</td>\n",
       "      <td>-0.173138</td>\n",
       "      <td>0.039741</td>\n",
       "      <td>0.040182</td>\n",
       "    </tr>\n",
       "    <tr>\n",
       "      <th>35</th>\n",
       "      <td>-0.064810</td>\n",
       "      <td>-0.278256</td>\n",
       "      <td>0.404127</td>\n",
       "      <td>0.273909</td>\n",
       "      <td>-0.004560</td>\n",
       "      <td>-0.003300</td>\n",
       "      <td>0.020422</td>\n",
       "      <td>-0.051692</td>\n",
       "      <td>-0.004699</td>\n",
       "      <td>-0.058061</td>\n",
       "      <td>...</td>\n",
       "      <td>0.411132</td>\n",
       "      <td>-0.572867</td>\n",
       "      <td>-0.639659</td>\n",
       "      <td>-0.017730</td>\n",
       "      <td>-0.279398</td>\n",
       "      <td>-0.174468</td>\n",
       "      <td>1.000000</td>\n",
       "      <td>0.985073</td>\n",
       "      <td>-0.235077</td>\n",
       "      <td>-0.227578</td>\n",
       "    </tr>\n",
       "    <tr>\n",
       "      <th>36</th>\n",
       "      <td>-0.063982</td>\n",
       "      <td>-0.277162</td>\n",
       "      <td>0.409593</td>\n",
       "      <td>0.280337</td>\n",
       "      <td>-0.002192</td>\n",
       "      <td>-0.003214</td>\n",
       "      <td>0.013013</td>\n",
       "      <td>-0.055601</td>\n",
       "      <td>-0.004818</td>\n",
       "      <td>-0.057932</td>\n",
       "      <td>...</td>\n",
       "      <td>0.407421</td>\n",
       "      <td>-0.567730</td>\n",
       "      <td>-0.632340</td>\n",
       "      <td>-0.026522</td>\n",
       "      <td>-0.277056</td>\n",
       "      <td>-0.173138</td>\n",
       "      <td>0.985073</td>\n",
       "      <td>1.000000</td>\n",
       "      <td>-0.234381</td>\n",
       "      <td>-0.232396</td>\n",
       "    </tr>\n",
       "    <tr>\n",
       "      <th>37</th>\n",
       "      <td>0.174528</td>\n",
       "      <td>-0.136476</td>\n",
       "      <td>0.101639</td>\n",
       "      <td>0.601219</td>\n",
       "      <td>-0.001919</td>\n",
       "      <td>0.013181</td>\n",
       "      <td>-0.005435</td>\n",
       "      <td>0.028394</td>\n",
       "      <td>-0.002987</td>\n",
       "      <td>-0.029851</td>\n",
       "      <td>...</td>\n",
       "      <td>0.073694</td>\n",
       "      <td>-0.252624</td>\n",
       "      <td>-0.259517</td>\n",
       "      <td>0.410382</td>\n",
       "      <td>0.037307</td>\n",
       "      <td>0.039741</td>\n",
       "      <td>-0.235077</td>\n",
       "      <td>-0.234381</td>\n",
       "      <td>1.000000</td>\n",
       "      <td>0.925828</td>\n",
       "    </tr>\n",
       "    <tr>\n",
       "      <th>38</th>\n",
       "      <td>0.198709</td>\n",
       "      <td>-0.166853</td>\n",
       "      <td>0.109540</td>\n",
       "      <td>0.644820</td>\n",
       "      <td>0.007065</td>\n",
       "      <td>0.012611</td>\n",
       "      <td>-0.005554</td>\n",
       "      <td>-0.033472</td>\n",
       "      <td>-0.002900</td>\n",
       "      <td>-0.031210</td>\n",
       "      <td>...</td>\n",
       "      <td>0.069753</td>\n",
       "      <td>-0.255114</td>\n",
       "      <td>-0.260559</td>\n",
       "      <td>0.386967</td>\n",
       "      <td>0.028106</td>\n",
       "      <td>0.040182</td>\n",
       "      <td>-0.227578</td>\n",
       "      <td>-0.232396</td>\n",
       "      <td>0.925828</td>\n",
       "      <td>1.000000</td>\n",
       "    </tr>\n",
       "  </tbody>\n",
       "</table>\n",
       "<p>39 rows × 39 columns</p>\n",
       "</div>"
      ],
      "text/plain": [
       "          0         1         2         3         4         5         6   \\\n",
       "0   1.000000 -0.009967  0.002528  0.176394  0.054169  0.039088 -0.001622   \n",
       "1  -0.009967  1.000000 -0.061750 -0.277219 -0.003849 -0.002367 -0.006560   \n",
       "2   0.002528 -0.061750  1.000000  0.283294  0.004864 -0.001220  0.002541   \n",
       "3   0.176394 -0.277219  0.283294  1.000000  0.034534  0.011191  0.005891   \n",
       "4   0.054169 -0.003849  0.004864  0.034534  1.000000  0.000001 -0.000129   \n",
       "5   0.039088 -0.002367 -0.001220  0.011191  0.000001  1.000000 -0.000079   \n",
       "6  -0.001622 -0.006560  0.002541  0.005891 -0.000129 -0.000079  1.000000   \n",
       "7  -0.009777  0.128855 -0.041014 -0.055612 -0.000774 -0.000475 -0.001316   \n",
       "8   0.004586 -0.003425  0.004272 -0.004819 -0.000065  0.000256 -0.000114   \n",
       "9  -0.000132 -0.042002  0.016806 -0.049942  0.001265 -0.000396 -0.001398   \n",
       "10  0.011804 -0.012061  0.003321  0.027464 -0.000234  0.000548 -0.000401   \n",
       "11 -0.064302 -0.359285 -0.361632 -0.440542 -0.002267 -0.003332 -0.011959   \n",
       "12  0.041729 -0.005224  0.000896 -0.001048 -0.000094  0.001201 -0.000174   \n",
       "13  0.051551 -0.016498 -0.004602 -0.002418 -0.000315  0.001058 -0.000549   \n",
       "14  0.083835 -0.011092  0.002204  0.012605 -0.000211  0.001125 -0.000369   \n",
       "15  0.044548 -0.005528  0.000967 -0.001246 -0.000104  0.001197 -0.000184   \n",
       "16  0.091529 -0.011636  0.001550 -0.007319 -0.000187  0.000045 -0.000387   \n",
       "17 -0.001918 -0.008422 -0.002851 -0.011846 -0.000145 -0.000097 -0.000280   \n",
       "18  0.067210 -0.017944 -0.010301 -0.020019 -0.000336  0.000281 -0.000597   \n",
       "19  0.001965 -0.042844  0.025053 -0.053472 -0.000815 -0.000463 -0.001426   \n",
       "20 -0.078755  0.073608  0.346879  0.292977 -0.005266 -0.003851 -0.010267   \n",
       "21 -0.039382  0.531938 -0.055492 -0.171264 -0.003092 -0.001916 -0.005285   \n",
       "22 -0.069656 -0.280374  0.401653  0.318248 -0.001709 -0.003323  0.022687   \n",
       "23 -0.069245 -0.280398  0.403483  0.310218 -0.002229 -0.003299  0.023734   \n",
       "24  0.200460 -0.165729  0.112197  0.667646  0.010134  0.012564 -0.004122   \n",
       "25  0.199823 -0.166073  0.108321  0.668120  0.010809  0.012425 -0.005528   \n",
       "26  0.074757  0.257396 -0.482703 -0.478395  0.002061  0.004110  0.008852   \n",
       "27 -0.014747 -0.010746  0.089260  0.206585  0.001921 -0.001849 -0.001126   \n",
       "28 -0.039909  0.269141 -0.139204 -0.172228 -0.002782 -0.001845  0.040908   \n",
       "29  0.050892 -0.074146  0.265421  0.227613 -0.004400  0.002934 -0.026695   \n",
       "30 -0.109289  0.068764 -0.464282 -0.472394 -0.006752 -0.004737 -0.014891   \n",
       "31 -0.115546  0.209410 -0.481485 -0.508303 -0.005766 -0.005024  0.011660   \n",
       "32  0.253848 -0.021308  0.048423  0.344514  0.000672  0.012385 -0.004493   \n",
       "33  0.227889  0.569278 -0.086222 -0.042851  0.002045  0.013042  0.034695   \n",
       "34 -0.026399  0.364310 -0.054611 -0.070647 -0.001513 -0.001409  0.070904   \n",
       "35 -0.064810 -0.278256  0.404127  0.273909 -0.004560 -0.003300  0.020422   \n",
       "36 -0.063982 -0.277162  0.409593  0.280337 -0.002192 -0.003214  0.013013   \n",
       "37  0.174528 -0.136476  0.101639  0.601219 -0.001919  0.013181 -0.005435   \n",
       "38  0.198709 -0.166853  0.109540  0.644820  0.007065  0.012611 -0.005554   \n",
       "\n",
       "          7         8         9   ...        29        30        31        32  \\\n",
       "0  -0.009777  0.004586 -0.000132  ...  0.050892 -0.109289 -0.115546  0.253848   \n",
       "1   0.128855 -0.003425 -0.042002  ... -0.074146  0.068764  0.209410 -0.021308   \n",
       "2  -0.041014  0.004272  0.016806  ...  0.265421 -0.464282 -0.481485  0.048423   \n",
       "3  -0.055612 -0.004819 -0.049942  ...  0.227613 -0.472394 -0.508303  0.344514   \n",
       "4  -0.000774 -0.000065  0.001265  ... -0.004400 -0.006752 -0.005766  0.000672   \n",
       "5  -0.000475  0.000256 -0.000396  ...  0.002934 -0.004737 -0.005024  0.012385   \n",
       "6  -0.001316 -0.000114 -0.001398  ... -0.026695 -0.014891  0.011660 -0.004493   \n",
       "7   1.000000 -0.000687 -0.008426  ...  0.040414 -0.045733 -0.049032  0.056631   \n",
       "8  -0.000687  1.000000  0.000484  ... -0.005726 -0.007911 -0.005887  0.005119   \n",
       "9  -0.008426  0.000484  1.000000  ... -0.011932 -0.051510 -0.035967 -0.010876   \n",
       "10 -0.002419  0.110689  0.003689  ... -0.025739 -0.023225 -0.001835 -0.001643   \n",
       "11 -0.072075  0.006904  0.115718  ... -0.401001  0.623796  0.602679 -0.254972   \n",
       "12 -0.001048  0.035103  0.002148  ... -0.010879 -0.010427 -0.005284  0.003412   \n",
       "13 -0.003310  0.086343  0.014401  ... -0.028856 -0.006773  0.006045 -0.004578   \n",
       "14 -0.002225  0.111474  0.000279  ... -0.012667 -0.021692 -0.016670  0.004411   \n",
       "15 -0.001109  0.034281  0.001704  ... -0.011406 -0.011184 -0.006177  0.003798   \n",
       "16 -0.002334  0.030251  0.022945  ... -0.001672 -0.019635 -0.017488  0.007586   \n",
       "17 -0.001689 -0.000146  0.001953  ... -0.009394 -0.012706 -0.006478 -0.003328   \n",
       "18 -0.003600  0.012917 -0.003054  ... -0.005513  0.003124  0.005680  0.001756   \n",
       "19 -0.008595 -0.000745  0.864388  ... -0.013131 -0.065675 -0.054148 -0.005913   \n",
       "20 -0.020873 -0.005603 -0.068376  ...  0.467910 -0.394411 -0.472053  0.164268   \n",
       "21  0.024031 -0.002846 -0.034457  ...  0.150257  0.203454  0.182723 -0.106912   \n",
       "22 -0.043258 -0.004914 -0.058604  ...  0.395352 -0.558051 -0.623194 -0.018171   \n",
       "23 -0.056250 -0.004874 -0.058234  ...  0.393074 -0.555215 -0.619476 -0.028914   \n",
       "24 -0.032861 -0.002886 -0.031998  ...  0.070790 -0.253365 -0.260014  0.377480   \n",
       "25 -0.033315 -0.002887 -0.031186  ...  0.073516 -0.251837 -0.258024  0.381989   \n",
       "26  0.054629  0.005947  0.069378  ... -0.509290  0.704974  0.788334 -0.164309   \n",
       "27 -0.026492 -0.002696 -0.017843  ...  0.192422 -0.299466 -0.330184  0.493908   \n",
       "28 -0.026047 -0.002892 -0.026043  ... -0.360080  0.152886  0.291126 -0.118603   \n",
       "29  0.040414 -0.005726 -0.011932  ...  1.000000 -0.302581 -0.517897  0.142474   \n",
       "30 -0.045733 -0.007911 -0.051510  ... -0.302581  1.000000  0.896385 -0.390399   \n",
       "31 -0.049032 -0.005887 -0.035967  ... -0.517897  0.896385  1.000000 -0.418948   \n",
       "32  0.056631  0.005119 -0.010876  ...  0.142474 -0.390399 -0.418948  1.000000   \n",
       "33  0.036108  0.000670 -0.034460  ... -0.313460 -0.068358  0.137008  0.232357   \n",
       "34 -0.016115  0.001927 -0.024248  ... -0.455401 -0.004198  0.197968  0.019440   \n",
       "35 -0.051692 -0.004699 -0.058061  ...  0.411132 -0.572867 -0.639659 -0.017730   \n",
       "36 -0.055601 -0.004818 -0.057932  ...  0.407421 -0.567730 -0.632340 -0.026522   \n",
       "37  0.028394 -0.002987 -0.029851  ...  0.073694 -0.252624 -0.259517  0.410382   \n",
       "38 -0.033472 -0.002900 -0.031210  ...  0.069753 -0.255114 -0.260559  0.386967   \n",
       "\n",
       "          33        34        35        36        37        38  \n",
       "0   0.227889 -0.026399 -0.064810 -0.063982  0.174528  0.198709  \n",
       "1   0.569278  0.364310 -0.278256 -0.277162 -0.136476 -0.166853  \n",
       "2  -0.086222 -0.054611  0.404127  0.409593  0.101639  0.109540  \n",
       "3  -0.042851 -0.070647  0.273909  0.280337  0.601219  0.644820  \n",
       "4   0.002045 -0.001513 -0.004560 -0.002192 -0.001919  0.007065  \n",
       "5   0.013042 -0.001409 -0.003300 -0.003214  0.013181  0.012611  \n",
       "6   0.034695  0.070904  0.020422  0.013013 -0.005435 -0.005554  \n",
       "7   0.036108 -0.016115 -0.051692 -0.055601  0.028394 -0.033472  \n",
       "8   0.000670  0.001927 -0.004699 -0.004818 -0.002987 -0.002900  \n",
       "9  -0.034460 -0.024248 -0.058061 -0.057932 -0.029851 -0.031210  \n",
       "10 -0.005353  0.005655 -0.012071 -0.012664  0.018440  0.016957  \n",
       "11 -0.162210 -0.056095 -0.491137 -0.492686 -0.275336 -0.272967  \n",
       "12 -0.002255  0.004384 -0.004380 -0.004725 -0.003639 -0.003345  \n",
       "13  0.000807  0.013386 -0.017768 -0.015371 -0.008906 -0.009580  \n",
       "14 -0.006150  0.009164 -0.006697 -0.004160 -0.004294 -0.005431  \n",
       "15 -0.001934  0.004699 -0.004753 -0.005059 -0.003817 -0.003607  \n",
       "16 -0.006350  0.002943  0.002685 -0.000822 -0.004675 -0.004720  \n",
       "17  0.014769 -0.001770 -0.011376 -0.010052 -0.005068 -0.006854  \n",
       "18 -0.012659  0.001408 -0.017940 -0.019583 -0.012568 -0.012746  \n",
       "19 -0.035255 -0.024220 -0.059927 -0.059841 -0.029849 -0.032491  \n",
       "20 -0.136143 -0.205615  0.458189  0.459821  0.177824  0.167923  \n",
       "21  0.161665 -0.059236 -0.146457 -0.145625 -0.101942 -0.112881  \n",
       "22 -0.276532 -0.172628  0.979045  0.981034 -0.231577 -0.226486  \n",
       "23 -0.275519 -0.170816  0.977497  0.986002 -0.235098 -0.232924  \n",
       "24  0.032614  0.034242 -0.225986 -0.224985  0.927218  0.964776  \n",
       "25  0.029745  0.031230 -0.226210 -0.230309  0.918888  0.970648  \n",
       "26  0.280751  0.216147 -0.760993 -0.765407 -0.215915 -0.214932  \n",
       "27 -0.010509 -0.086014  0.051301  0.047245  0.225405  0.277130  \n",
       "28  0.249142  0.379751 -0.226277 -0.226698 -0.078592 -0.083413  \n",
       "29 -0.313460 -0.455401  0.411132  0.407421  0.073694  0.069753  \n",
       "30 -0.068358 -0.004198 -0.572867 -0.567730 -0.252624 -0.255114  \n",
       "31  0.137008  0.197968 -0.639659 -0.632340 -0.259517 -0.260559  \n",
       "32  0.232357  0.019440 -0.017730 -0.026522  0.410382  0.386967  \n",
       "33  1.000000  0.404123 -0.279398 -0.277056  0.037307  0.028106  \n",
       "34  0.404123  1.000000 -0.174468 -0.173138  0.039741  0.040182  \n",
       "35 -0.279398 -0.174468  1.000000  0.985073 -0.235077 -0.227578  \n",
       "36 -0.277056 -0.173138  0.985073  1.000000 -0.234381 -0.232396  \n",
       "37  0.037307  0.039741 -0.235077 -0.234381  1.000000  0.925828  \n",
       "38  0.028106  0.040182 -0.227578 -0.232396  0.925828  1.000000  \n",
       "\n",
       "[39 rows x 39 columns]"
      ]
     },
     "execution_count": 353,
     "metadata": {},
     "output_type": "execute_result"
    }
   ],
   "source": [
    "X_train_cons_filter = pd.DataFrame(X_train_cons_filter)\n",
    "corrmat = X_train_cons_filter.corr()\n",
    "corr_features = get_correlation(X_train_cons_filter, 0.90)\n",
    "print(corr_features)\n",
    "corrmat"
   ]
  },
  {
   "cell_type": "code",
   "execution_count": 354,
   "metadata": {},
   "outputs": [
    {
     "data": {
      "text/plain": [
       "0   0     1.000000\n",
       "    1     0.009967\n",
       "    2     0.002528\n",
       "    3     0.176394\n",
       "    4     0.054169\n",
       "            ...   \n",
       "38  34    0.040182\n",
       "    35    0.227578\n",
       "    36    0.232396\n",
       "    37    0.925828\n",
       "    38    1.000000\n",
       "Length: 1521, dtype: float64"
      ]
     },
     "execution_count": 354,
     "metadata": {},
     "output_type": "execute_result"
    }
   ],
   "source": [
    "corr_data = corrmat.abs().stack()\n",
    "corr_data"
   ]
  },
  {
   "cell_type": "code",
   "execution_count": 355,
   "metadata": {},
   "outputs": [
    {
     "data": {
      "text/plain": [
       "38  38    1.000000\n",
       "18  18    1.000000\n",
       "21  21    1.000000\n",
       "22  22    1.000000\n",
       "23  23    1.000000\n",
       "            ...   \n",
       "4   8     0.000065\n",
       "16  5     0.000045\n",
       "5   16    0.000045\n",
       "4   5     0.000001\n",
       "5   4     0.000001\n",
       "Length: 1521, dtype: float64"
      ]
     },
     "execution_count": 355,
     "metadata": {},
     "output_type": "execute_result"
    }
   ],
   "source": [
    "corr_data = corr_data.sort_values(ascending=False)\n",
    "corr_data"
   ]
  },
  {
   "cell_type": "code",
   "execution_count": 356,
   "metadata": {},
   "outputs": [
    {
     "data": {
      "text/plain": [
       "12  15    0.998950\n",
       "15  12    0.998950\n",
       "22  23    0.993558\n",
       "23  22    0.993558\n",
       "25  24    0.989219\n",
       "24  25    0.989219\n",
       "36  23    0.986002\n",
       "23  36    0.986002\n",
       "36  35    0.985073\n",
       "35  36    0.985073\n",
       "22  36    0.981034\n",
       "36  22    0.981034\n",
       "35  22    0.979045\n",
       "22  35    0.979045\n",
       "23  35    0.977497\n",
       "35  23    0.977497\n",
       "25  38    0.970648\n",
       "38  25    0.970648\n",
       "24  38    0.964776\n",
       "38  24    0.964776\n",
       "37  24    0.927218\n",
       "24  37    0.927218\n",
       "37  38    0.925828\n",
       "38  37    0.925828\n",
       "25  37    0.918888\n",
       "37  25    0.918888\n",
       "dtype: float64"
      ]
     },
     "execution_count": 356,
     "metadata": {},
     "output_type": "execute_result"
    }
   ],
   "source": [
    "corr_data = corr_data[corr_data>0.90]\n",
    "corr_data = corr_data[corr_data<1]\n",
    "corr_data"
   ]
  },
  {
   "cell_type": "code",
   "execution_count": 357,
   "metadata": {},
   "outputs": [
    {
     "data": {
      "text/html": [
       "<div>\n",
       "<style scoped>\n",
       "    .dataframe tbody tr th:only-of-type {\n",
       "        vertical-align: middle;\n",
       "    }\n",
       "\n",
       "    .dataframe tbody tr th {\n",
       "        vertical-align: top;\n",
       "    }\n",
       "\n",
       "    .dataframe thead th {\n",
       "        text-align: right;\n",
       "    }\n",
       "</style>\n",
       "<table border=\"1\" class=\"dataframe\">\n",
       "  <thead>\n",
       "    <tr style=\"text-align: right;\">\n",
       "      <th></th>\n",
       "      <th>Feature1</th>\n",
       "      <th>Feature2</th>\n",
       "      <th>corr_value</th>\n",
       "    </tr>\n",
       "  </thead>\n",
       "  <tbody>\n",
       "    <tr>\n",
       "      <th>0</th>\n",
       "      <td>12</td>\n",
       "      <td>15</td>\n",
       "      <td>0.998950</td>\n",
       "    </tr>\n",
       "    <tr>\n",
       "      <th>1</th>\n",
       "      <td>15</td>\n",
       "      <td>12</td>\n",
       "      <td>0.998950</td>\n",
       "    </tr>\n",
       "    <tr>\n",
       "      <th>2</th>\n",
       "      <td>22</td>\n",
       "      <td>23</td>\n",
       "      <td>0.993558</td>\n",
       "    </tr>\n",
       "    <tr>\n",
       "      <th>3</th>\n",
       "      <td>23</td>\n",
       "      <td>22</td>\n",
       "      <td>0.993558</td>\n",
       "    </tr>\n",
       "    <tr>\n",
       "      <th>4</th>\n",
       "      <td>25</td>\n",
       "      <td>24</td>\n",
       "      <td>0.989219</td>\n",
       "    </tr>\n",
       "    <tr>\n",
       "      <th>5</th>\n",
       "      <td>24</td>\n",
       "      <td>25</td>\n",
       "      <td>0.989219</td>\n",
       "    </tr>\n",
       "    <tr>\n",
       "      <th>6</th>\n",
       "      <td>36</td>\n",
       "      <td>23</td>\n",
       "      <td>0.986002</td>\n",
       "    </tr>\n",
       "    <tr>\n",
       "      <th>7</th>\n",
       "      <td>23</td>\n",
       "      <td>36</td>\n",
       "      <td>0.986002</td>\n",
       "    </tr>\n",
       "    <tr>\n",
       "      <th>8</th>\n",
       "      <td>36</td>\n",
       "      <td>35</td>\n",
       "      <td>0.985073</td>\n",
       "    </tr>\n",
       "    <tr>\n",
       "      <th>9</th>\n",
       "      <td>35</td>\n",
       "      <td>36</td>\n",
       "      <td>0.985073</td>\n",
       "    </tr>\n",
       "    <tr>\n",
       "      <th>10</th>\n",
       "      <td>22</td>\n",
       "      <td>36</td>\n",
       "      <td>0.981034</td>\n",
       "    </tr>\n",
       "    <tr>\n",
       "      <th>11</th>\n",
       "      <td>36</td>\n",
       "      <td>22</td>\n",
       "      <td>0.981034</td>\n",
       "    </tr>\n",
       "    <tr>\n",
       "      <th>12</th>\n",
       "      <td>35</td>\n",
       "      <td>22</td>\n",
       "      <td>0.979045</td>\n",
       "    </tr>\n",
       "    <tr>\n",
       "      <th>13</th>\n",
       "      <td>22</td>\n",
       "      <td>35</td>\n",
       "      <td>0.979045</td>\n",
       "    </tr>\n",
       "    <tr>\n",
       "      <th>14</th>\n",
       "      <td>23</td>\n",
       "      <td>35</td>\n",
       "      <td>0.977497</td>\n",
       "    </tr>\n",
       "    <tr>\n",
       "      <th>15</th>\n",
       "      <td>35</td>\n",
       "      <td>23</td>\n",
       "      <td>0.977497</td>\n",
       "    </tr>\n",
       "    <tr>\n",
       "      <th>16</th>\n",
       "      <td>25</td>\n",
       "      <td>38</td>\n",
       "      <td>0.970648</td>\n",
       "    </tr>\n",
       "    <tr>\n",
       "      <th>17</th>\n",
       "      <td>38</td>\n",
       "      <td>25</td>\n",
       "      <td>0.970648</td>\n",
       "    </tr>\n",
       "    <tr>\n",
       "      <th>18</th>\n",
       "      <td>24</td>\n",
       "      <td>38</td>\n",
       "      <td>0.964776</td>\n",
       "    </tr>\n",
       "    <tr>\n",
       "      <th>19</th>\n",
       "      <td>38</td>\n",
       "      <td>24</td>\n",
       "      <td>0.964776</td>\n",
       "    </tr>\n",
       "    <tr>\n",
       "      <th>20</th>\n",
       "      <td>37</td>\n",
       "      <td>24</td>\n",
       "      <td>0.927218</td>\n",
       "    </tr>\n",
       "    <tr>\n",
       "      <th>21</th>\n",
       "      <td>24</td>\n",
       "      <td>37</td>\n",
       "      <td>0.927218</td>\n",
       "    </tr>\n",
       "    <tr>\n",
       "      <th>22</th>\n",
       "      <td>37</td>\n",
       "      <td>38</td>\n",
       "      <td>0.925828</td>\n",
       "    </tr>\n",
       "    <tr>\n",
       "      <th>23</th>\n",
       "      <td>38</td>\n",
       "      <td>37</td>\n",
       "      <td>0.925828</td>\n",
       "    </tr>\n",
       "    <tr>\n",
       "      <th>24</th>\n",
       "      <td>25</td>\n",
       "      <td>37</td>\n",
       "      <td>0.918888</td>\n",
       "    </tr>\n",
       "    <tr>\n",
       "      <th>25</th>\n",
       "      <td>37</td>\n",
       "      <td>25</td>\n",
       "      <td>0.918888</td>\n",
       "    </tr>\n",
       "  </tbody>\n",
       "</table>\n",
       "</div>"
      ],
      "text/plain": [
       "    Feature1  Feature2  corr_value\n",
       "0         12        15    0.998950\n",
       "1         15        12    0.998950\n",
       "2         22        23    0.993558\n",
       "3         23        22    0.993558\n",
       "4         25        24    0.989219\n",
       "5         24        25    0.989219\n",
       "6         36        23    0.986002\n",
       "7         23        36    0.986002\n",
       "8         36        35    0.985073\n",
       "9         35        36    0.985073\n",
       "10        22        36    0.981034\n",
       "11        36        22    0.981034\n",
       "12        35        22    0.979045\n",
       "13        22        35    0.979045\n",
       "14        23        35    0.977497\n",
       "15        35        23    0.977497\n",
       "16        25        38    0.970648\n",
       "17        38        25    0.970648\n",
       "18        24        38    0.964776\n",
       "19        38        24    0.964776\n",
       "20        37        24    0.927218\n",
       "21        24        37    0.927218\n",
       "22        37        38    0.925828\n",
       "23        38        37    0.925828\n",
       "24        25        37    0.918888\n",
       "25        37        25    0.918888"
      ]
     },
     "execution_count": 357,
     "metadata": {},
     "output_type": "execute_result"
    }
   ],
   "source": [
    "corr_data = pd.DataFrame(corr_data).reset_index()\n",
    "corr_data.columns = ['Feature1', 'Feature2', 'corr_value']\n",
    "corr_data"
   ]
  },
  {
   "cell_type": "code",
   "execution_count": 358,
   "metadata": {},
   "outputs": [],
   "source": [
    "grouped_feature_list = []\n",
    "correlated_groups_list = []\n",
    "for feature in corr_data.Feature1.unique():\n",
    "    if feature not in grouped_feature_list:\n",
    "        correlated_block = corr_data[corr_data.Feature1==feature]\n",
    "        grouped_feature_list = grouped_feature_list + list(correlated_block.Feature2.unique())+[feature]\n",
    "        correlated_groups_list.append(correlated_block)"
   ]
  },
  {
   "cell_type": "code",
   "execution_count": 359,
   "metadata": {},
   "outputs": [
    {
     "data": {
      "text/plain": [
       "3"
      ]
     },
     "execution_count": 359,
     "metadata": {},
     "output_type": "execute_result"
    }
   ],
   "source": [
    "len(correlated_groups_list)"
   ]
  },
  {
   "cell_type": "code",
   "execution_count": 360,
   "metadata": {},
   "outputs": [
    {
     "data": {
      "text/plain": [
       "[   Feature1  Feature2  corr_value\n",
       " 0        12        15     0.99895,     Feature1  Feature2  corr_value\n",
       " 2         22        23    0.993558\n",
       " 10        22        36    0.981034\n",
       " 13        22        35    0.979045,     Feature1  Feature2  corr_value\n",
       " 4         25        24    0.989219\n",
       " 16        25        38    0.970648\n",
       " 24        25        37    0.918888]"
      ]
     },
     "execution_count": 360,
     "metadata": {},
     "output_type": "execute_result"
    }
   ],
   "source": [
    "correlated_groups_list"
   ]
  },
  {
   "cell_type": "code",
   "execution_count": 361,
   "metadata": {},
   "outputs": [
    {
     "name": "stdout",
     "output_type": "stream",
     "text": [
      "   Feature1  Feature2  corr_value\n",
      "0        12        15     0.99895\n",
      "\n",
      "    Feature1  Feature2  corr_value\n",
      "2         22        23    0.993558\n",
      "10        22        36    0.981034\n",
      "13        22        35    0.979045\n",
      "\n",
      "    Feature1  Feature2  corr_value\n",
      "4         25        24    0.989219\n",
      "16        25        38    0.970648\n",
      "24        25        37    0.918888\n",
      "\n"
     ]
    }
   ],
   "source": [
    "for group in correlated_groups_list:\n",
    "    print(group)\n",
    "    print()"
   ]
  },
  {
   "cell_type": "code",
   "execution_count": 362,
   "metadata": {},
   "outputs": [],
   "source": [
    "important_feature = []\n",
    "for group in correlated_groups_list:\n",
    "    features = list(group.Feature1.unique())+ list(group.Feature2.unique())\n",
    "    rf = RandomForestClassifier(n_estimators=100, random_state=0)\n",
    "    rf.fit(X_train_cons_filter[features], y_train)\n",
    "    \n",
    "    importance = pd.concat([pd.Series(features), pd.Series(rf.feature_importances_)], axis = 1)\n",
    "    importance.columns = ['features', 'importance']\n",
    "    importance.sort_values(by ='importance', ascending = False, inplace = True)\n",
    "    feat = importance.iloc[0]\n",
    "    important_feature.append(feat)"
   ]
  },
  {
   "cell_type": "code",
   "execution_count": 363,
   "metadata": {},
   "outputs": [
    {
     "data": {
      "text/plain": [
       "[features      12.000000\n",
       " importance     0.678742\n",
       " Name: 0, dtype: float64, features      35.000000\n",
       " importance     0.473006\n",
       " Name: 3, dtype: float64, features      37.000000\n",
       " importance     0.408372\n",
       " Name: 3, dtype: float64]"
      ]
     },
     "execution_count": 363,
     "metadata": {},
     "output_type": "execute_result"
    }
   ],
   "source": [
    "important_feature"
   ]
  },
  {
   "cell_type": "code",
   "execution_count": 364,
   "metadata": {},
   "outputs": [
    {
     "data": {
      "text/html": [
       "<div>\n",
       "<style scoped>\n",
       "    .dataframe tbody tr th:only-of-type {\n",
       "        vertical-align: middle;\n",
       "    }\n",
       "\n",
       "    .dataframe tbody tr th {\n",
       "        vertical-align: top;\n",
       "    }\n",
       "\n",
       "    .dataframe thead th {\n",
       "        text-align: right;\n",
       "    }\n",
       "</style>\n",
       "<table border=\"1\" class=\"dataframe\">\n",
       "  <thead>\n",
       "    <tr style=\"text-align: right;\">\n",
       "      <th></th>\n",
       "      <th>features</th>\n",
       "      <th>importance</th>\n",
       "    </tr>\n",
       "  </thead>\n",
       "  <tbody>\n",
       "    <tr>\n",
       "      <th>0</th>\n",
       "      <td>12.0</td>\n",
       "      <td>0.678742</td>\n",
       "    </tr>\n",
       "    <tr>\n",
       "      <th>1</th>\n",
       "      <td>35.0</td>\n",
       "      <td>0.473006</td>\n",
       "    </tr>\n",
       "    <tr>\n",
       "      <th>2</th>\n",
       "      <td>37.0</td>\n",
       "      <td>0.408372</td>\n",
       "    </tr>\n",
       "  </tbody>\n",
       "</table>\n",
       "</div>"
      ],
      "text/plain": [
       "   features  importance\n",
       "0      12.0    0.678742\n",
       "1      35.0    0.473006\n",
       "2      37.0    0.408372"
      ]
     },
     "execution_count": 364,
     "metadata": {},
     "output_type": "execute_result"
    }
   ],
   "source": [
    "important_feature = pd.DataFrame(important_feature)\n",
    "important_feature.reset_index(inplace = True, drop = True)\n",
    "important_feature"
   ]
  },
  {
   "cell_type": "code",
   "execution_count": 365,
   "metadata": {},
   "outputs": [
    {
     "data": {
      "text/plain": [
       "[36, 38, 15, 23, 25]"
      ]
     },
     "execution_count": 365,
     "metadata": {},
     "output_type": "execute_result"
    }
   ],
   "source": [
    "features_to_consider = set(important_feature['features'])\n",
    "features_to_remove = set(corr_features) -set(features_to_consider)\n",
    "features_to_remove = list(features_to_remove)\n",
    "features_to_remove"
   ]
  },
  {
   "cell_type": "code",
   "execution_count": 366,
   "metadata": {},
   "outputs": [
    {
     "data": {
      "text/plain": [
       "(100777, 34)"
      ]
     },
     "execution_count": 366,
     "metadata": {},
     "output_type": "execute_result"
    }
   ],
   "source": [
    "X_train_grouped_uncorr = X_train_cons_filter.drop(labels=features_to_remove, axis = 1)\n",
    "X_train_grouped_uncorr.shape"
   ]
  },
  {
   "cell_type": "code",
   "execution_count": 367,
   "metadata": {},
   "outputs": [
    {
     "data": {
      "text/plain": [
       "(25195, 34)"
      ]
     },
     "execution_count": 367,
     "metadata": {},
     "output_type": "execute_result"
    }
   ],
   "source": [
    "x_test_cons_filter = pd.DataFrame(x_test_cons_filter)\n",
    "X_test_grouped_uncorr = x_test_cons_filter.drop(labels=features_to_remove, axis =1)\n",
    "X_test_grouped_uncorr.shape"
   ]
  },
  {
   "cell_type": "code",
   "execution_count": 368,
   "metadata": {},
   "outputs": [
    {
     "name": "stdout",
     "output_type": "stream",
     "text": [
      "Accuracy:  0.9989283588013494\n",
      "CPU times: user 15.8 s, sys: 288 ms, total: 16.1 s\n",
      "Wall time: 4.9 s\n"
     ]
    }
   ],
   "source": [
    "%%time \n",
    "run_randomForest(X_train_grouped_uncorr, X_test_grouped_uncorr, y_train, y_test)"
   ]
  },
  {
   "cell_type": "code",
   "execution_count": 374,
   "metadata": {},
   "outputs": [],
   "source": [
    "from sklearn.tree import DecisionTreeClassifier\n",
    "import xgboost as xgb\n",
    "from sklearn import svm"
   ]
  },
  {
   "cell_type": "code",
   "execution_count": 370,
   "metadata": {},
   "outputs": [],
   "source": [
    "def run_DecisionTreeClassifier(X_train, X_test, y_train, y_test):\n",
    "    model = DecisionTreeClassifier(random_state=0)\n",
    "    model.fit(X_train, y_train)\n",
    "    y_pred = model.predict(X_test)\n",
    "    print('Accuracy: ', accuracy_score(y_test, y_pred))"
   ]
  },
  {
   "cell_type": "code",
   "execution_count": 371,
   "metadata": {},
   "outputs": [],
   "source": [
    "def run_xgboost(X_train, X_test, y_train, y_test):\n",
    "    model = xgb.XGBClassifier(n_estimators=100, objective='multi:softprob', random_state=0)\n",
    "    model.fit(X_train, y_train)\n",
    "    y_pred = model.predict(X_test)\n",
    "    print('Accuracy: ', accuracy_score(y_test, y_pred))"
   ]
  },
  {
   "cell_type": "code",
   "execution_count": 378,
   "metadata": {},
   "outputs": [],
   "source": [
    "def run_svm(X_train, X_test, y_train, y_test):\n",
    "    model = svm.SVC(decision_function_shape='ovo')\n",
    "    model.fit(X_train, y_train)\n",
    "    y_pred = model.predict(X_test)\n",
    "    print('Accuracy: ', accuracy_score(y_test, y_pred))"
   ]
  },
  {
   "cell_type": "code",
   "execution_count": 372,
   "metadata": {},
   "outputs": [
    {
     "name": "stdout",
     "output_type": "stream",
     "text": [
      "Accuracy:  0.9981345505060528\n",
      "CPU times: user 692 ms, sys: 0 ns, total: 692 ms\n",
      "Wall time: 692 ms\n"
     ]
    }
   ],
   "source": [
    "%%time \n",
    "run_DecisionTreeClassifier(X_train_grouped_uncorr, X_test_grouped_uncorr, y_train, y_test)"
   ]
  },
  {
   "cell_type": "code",
   "execution_count": 373,
   "metadata": {},
   "outputs": [
    {
     "name": "stdout",
     "output_type": "stream",
     "text": [
      "Accuracy:  0.9975788846993451\n",
      "CPU times: user 40.1 s, sys: 0 ns, total: 40.1 s\n",
      "Wall time: 40.2 s\n"
     ]
    }
   ],
   "source": [
    "%%time\n",
    "run_xgboost(X_train_grouped_uncorr, X_test_grouped_uncorr, y_train, y_test)"
   ]
  },
  {
   "cell_type": "code",
   "execution_count": null,
   "metadata": {},
   "outputs": [],
   "source": [
    "%%time\n",
    "run_svm(X_train_grouped_uncorr, X_test_grouped_uncorr, y_train, y_test)"
   ]
  },
  {
   "cell_type": "code",
   "execution_count": null,
   "metadata": {},
   "outputs": [],
   "source": []
  }
 ],
 "metadata": {
  "kernelspec": {
   "display_name": "Python 3",
   "language": "python",
   "name": "python3"
  },
  "language_info": {
   "codemirror_mode": {
    "name": "ipython",
    "version": 3
   },
   "file_extension": ".py",
   "mimetype": "text/x-python",
   "name": "python",
   "nbconvert_exporter": "python",
   "pygments_lexer": "ipython3",
   "version": "3.8.0"
  }
 },
 "nbformat": 4,
 "nbformat_minor": 2
}
