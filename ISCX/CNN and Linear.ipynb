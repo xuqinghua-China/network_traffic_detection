{
 "cells": [
  {
   "cell_type": "code",
   "execution_count": 41,
   "metadata": {},
   "outputs": [],
   "source": [
    "import torch\n",
    "import torchvision\n",
    "from torchvision import transforms\n",
    "import torch.utils.data as data\n",
    "import torch.nn as nn\n",
    "import torch.nn.functional as F\n",
    "\n",
    "import matplotlib.pyplot as plt"
   ]
  },
  {
   "cell_type": "code",
   "execution_count": 42,
   "metadata": {},
   "outputs": [],
   "source": [
    "TRAIN_DATA_PATH = \"./data-collection/train/\"\n",
    "TEST_DATA_PATH = \"./data-collection/test/\"\n",
    "TRANSFORM_IMG = transforms.Compose([\n",
    "    transforms.Grayscale(),\n",
    "    transforms.Resize(28),\n",
    "    transforms.CenterCrop(28),\n",
    "    transforms.ToTensor(),\n",
    "    transforms.Normalize(mean=(0.485,), std=(0.229, ))\n",
    "#     transforms.Normalize(mean=[0.485, 0.456, 0.406], std=[0.229, 0.224, 0.225] )\n",
    "    ])\n",
    "\n",
    "train_data = torchvision.datasets.ImageFolder(root=TRAIN_DATA_PATH, transform=TRANSFORM_IMG)\n",
    "test_data = torchvision.datasets.ImageFolder(root=TEST_DATA_PATH, transform=TRANSFORM_IMG)"
   ]
  },
  {
   "cell_type": "code",
   "execution_count": null,
   "metadata": {},
   "outputs": [],
   "source": []
  },
  {
   "cell_type": "code",
   "execution_count": 35,
   "metadata": {},
   "outputs": [],
   "source": [
    "BATCH_SIZE = 20\n",
    "LEARNING_RATE = 0.001"
   ]
  },
  {
   "cell_type": "code",
   "execution_count": 36,
   "metadata": {},
   "outputs": [
    {
     "data": {
      "text/plain": [
       "torch.Size([20, 1, 28, 28])"
      ]
     },
     "execution_count": 36,
     "metadata": {},
     "output_type": "execute_result"
    }
   ],
   "source": [
    "train_data_loader = data.DataLoader(train_data, batch_size=BATCH_SIZE, shuffle=True,  num_workers=2)\n",
    "test_data_loader  = data.DataLoader(test_data, batch_size=BATCH_SIZE, shuffle=True, num_workers=2) \n",
    "img =next(iter(train_data_loader))\n",
    "img[0].shape"
   ]
  },
  {
   "cell_type": "code",
   "execution_count": 5,
   "metadata": {},
   "outputs": [],
   "source": [
    "class my_network_batch_normalization(nn.Module):\n",
    "    \n",
    "    # Contructor\n",
    "    def __init__(self, out_1=8, out_2=16,number_of_classes=4):\n",
    "        super(my_network_batch_normalization, self).__init__()\n",
    "        self.cnn1 = nn.Conv2d(in_channels=1, out_channels=out_1, kernel_size=3, padding=1)\n",
    "        self.conv1_bn = nn.BatchNorm2d(out_1)\n",
    "\n",
    "        self.maxpool1=nn.MaxPool2d(kernel_size=2)\n",
    "        \n",
    "        self.cnn2 = nn.Conv2d(in_channels=out_1, out_channels=out_2, kernel_size=3, stride=1, padding=1)\n",
    "        self.conv2_bn = nn.BatchNorm2d(out_2)\n",
    "\n",
    "        self.maxpool2=nn.MaxPool2d(kernel_size=2)\n",
    "        \n",
    "        self.fc1 = nn.Linear(out_2 * 7 * 7, 64)\n",
    "        self.bn_fc1 = nn.BatchNorm1d(64)\n",
    "        \n",
    "        self.fc2 = nn.Linear(64, number_of_classes)\n",
    "        self.bn_fc2 = nn.BatchNorm1d(4)\n",
    "    \n",
    "    # Prediction\n",
    "    def forward(self, x):\n",
    "#         print(x.shape)\n",
    "        x = self.cnn1(x)\n",
    "        x = self.conv1_bn(x)\n",
    "        x = torch.relu(x)\n",
    "        x = self.maxpool1(x)\n",
    "        x = self.cnn2(x)\n",
    "        x = self.conv2_bn(x)\n",
    "        x = torch.relu(x)\n",
    "        x = self.maxpool2(x)\n",
    "        x = x.view(x.size(0), -1)\n",
    "        x = self.fc1(x)\n",
    "        x = self.bn_fc1(x)\n",
    "        x = self.fc2(x)\n",
    "        x = self.bn_fc2(x)\n",
    "        return x"
   ]
  },
  {
   "cell_type": "code",
   "execution_count": 37,
   "metadata": {},
   "outputs": [],
   "source": [
    "def train_model(model,n_epochs,train_loader,validation_loader,optimizer):\n",
    "    \n",
    "    #global variable \n",
    "    N_test=len(test_data)\n",
    "    accuracy_list=[]\n",
    "    loss_list=[]\n",
    "    for epoch in range(n_epochs):\n",
    "        total_loss = 0\n",
    "        count = 0\n",
    "        for x, y in train_loader:\n",
    "            count += 1\n",
    "            model.train()\n",
    "            optimizer.zero_grad()\n",
    "            z = model(x)\n",
    "            loss = criterion(z, y)\n",
    "            loss.backward()\n",
    "            optimizer.step()\n",
    "            total_loss += loss.item()\n",
    "        loss_list.append(total_loss/len(train_loader))\n",
    "        \n",
    "\n",
    "        correct=0\n",
    "        #perform a prediction on the validation  data  \n",
    "        for x_test, y_test in validation_loader:\n",
    "            count +=1\n",
    "            model.eval()\n",
    "            z = model(x_test)\n",
    "            _, yhat = torch.max(z.data, 1)\n",
    "            correct += (yhat == y_test).sum().item()\n",
    "        accuracy = correct / N_test\n",
    "        accuracy_list.append(accuracy)\n",
    "#         print('Epoch: ', epoch, 'Loss: ', total_loss/len(train_loader), 'Accuracy: ', accuracy)\n",
    "     \n",
    "    return accuracy_list, loss_list"
   ]
  },
  {
   "cell_type": "code",
   "execution_count": 7,
   "metadata": {},
   "outputs": [],
   "source": [
    "# Create the model object using CNN class\n",
    "model = my_network_batch_normalization(out_1=8, out_2=16)"
   ]
  },
  {
   "cell_type": "code",
   "execution_count": 9,
   "metadata": {},
   "outputs": [
    {
     "data": {
      "text/plain": [
       "<bound method Module.parameters of my_network_batch_normalization(\n",
       "  (cnn1): Conv2d(1, 8, kernel_size=(3, 3), stride=(1, 1), padding=(1, 1))\n",
       "  (conv1_bn): BatchNorm2d(8, eps=1e-05, momentum=0.1, affine=True, track_running_stats=True)\n",
       "  (maxpool1): MaxPool2d(kernel_size=2, stride=2, padding=0, dilation=1, ceil_mode=False)\n",
       "  (cnn2): Conv2d(8, 16, kernel_size=(3, 3), stride=(1, 1), padding=(1, 1))\n",
       "  (conv2_bn): BatchNorm2d(16, eps=1e-05, momentum=0.1, affine=True, track_running_stats=True)\n",
       "  (maxpool2): MaxPool2d(kernel_size=2, stride=2, padding=0, dilation=1, ceil_mode=False)\n",
       "  (fc1): Linear(in_features=784, out_features=64, bias=True)\n",
       "  (bn_fc1): BatchNorm1d(64, eps=1e-05, momentum=0.1, affine=True, track_running_stats=True)\n",
       "  (fc2): Linear(in_features=64, out_features=4, bias=True)\n",
       "  (bn_fc2): BatchNorm1d(4, eps=1e-05, momentum=0.1, affine=True, track_running_stats=True)\n",
       ")>"
      ]
     },
     "execution_count": 9,
     "metadata": {},
     "output_type": "execute_result"
    }
   ],
   "source": [
    "model.parameters"
   ]
  },
  {
   "cell_type": "code",
   "execution_count": 14,
   "metadata": {},
   "outputs": [],
   "source": [
    "criterion = nn.CrossEntropyLoss()\n",
    "optimizer = torch.optim.SGD(model.parameters(), lr = LEARNING_RATE, momentum=0.6)"
   ]
  },
  {
   "cell_type": "code",
   "execution_count": 15,
   "metadata": {},
   "outputs": [
    {
     "name": "stdout",
     "output_type": "stream",
     "text": [
      "Epoch:  0 Loss:  0.5153354769029455 Accuracy:  0.924775928297055\n",
      "Epoch:  1 Loss:  0.36536597040817037 Accuracy:  0.9311779769526248\n",
      "Epoch:  2 Loss:  0.3106523905039512 Accuracy:  0.9366197183098591\n",
      "Epoch:  3 Loss:  0.27953578694955383 Accuracy:  0.9401408450704225\n",
      "Epoch:  4 Loss:  0.2636063571802074 Accuracy:  0.940460947503201\n",
      "Epoch:  5 Loss:  0.24710593284087873 Accuracy:  0.941741357234315\n",
      "Epoch:  6 Loss:  0.2387533326067592 Accuracy:  0.9407810499359796\n",
      "Epoch:  7 Loss:  0.22837401791389603 Accuracy:  0.9407810499359796\n",
      "Epoch:  8 Loss:  0.22211406839372932 Accuracy:  0.9436619718309859\n",
      "Epoch:  9 Loss:  0.21515273586297104 Accuracy:  0.9436619718309859\n",
      "Epoch:  10 Loss:  0.20915394974541274 Accuracy:  0.9433418693982074\n",
      "Epoch:  11 Loss:  0.20842714237836144 Accuracy:  0.9439820742637645\n",
      "Epoch:  12 Loss:  0.20217741491699626 Accuracy:  0.9446222791293214\n",
      "Epoch:  13 Loss:  0.19892115673980282 Accuracy:  0.9439820742637645\n",
      "Epoch:  14 Loss:  0.1967593248149282 Accuracy:  0.9414212548015365\n",
      "Finished\n"
     ]
    }
   ],
   "source": [
    "accuracy_list_normal, loss_list_normal=train_model(model=model,n_epochs=15,train_loader=train_data_loader,validation_loader=test_data_loader,optimizer=optimizer)\n",
    "print('Finished')"
   ]
  },
  {
   "cell_type": "code",
   "execution_count": 17,
   "metadata": {},
   "outputs": [
    {
     "data": {
      "text/plain": [
       "<matplotlib.legend.Legend at 0x7f481e98a640>"
      ]
     },
     "execution_count": 17,
     "metadata": {},
     "output_type": "execute_result"
    },
    {
     "data": {
      "image/png": "[encoded data removed]",
      "text/plain": [
       "<Figure size 432x288 with 1 Axes>"
      ]
     },
     "metadata": {
      "needs_background": "light"
     },
     "output_type": "display_data"
    }
   ],
   "source": [
    "# Plot the loss and accuracy\n",
    "plt.plot(accuracy_list_normal, 'b', label='Accuracy ')\n",
    "plt.plot(loss_list_normal, 'r', label='loss')\n",
    "plt.xlabel('Iteration')\n",
    "plt.title(\"Loss\")\n",
    "plt.legend()"
   ]
  },
  {
   "cell_type": "code",
   "execution_count": null,
   "metadata": {},
   "outputs": [],
   "source": []
  },
  {
   "cell_type": "code",
   "execution_count": null,
   "metadata": {},
   "outputs": [],
   "source": []
  },
  {
   "cell_type": "markdown",
   "metadata": {},
   "source": [
    "# only cnn and linear"
   ]
  },
  {
   "cell_type": "code",
   "execution_count": 43,
   "metadata": {},
   "outputs": [],
   "source": [
    "class my_network_cnn_linear(nn.Module):\n",
    "    \n",
    "    # Contructor\n",
    "    def __init__(self, out_1=8, out_2=16,number_of_classes=4):\n",
    "        super(my_network_cnn_linear, self).__init__()\n",
    "        self.cnn1 = nn.Conv2d(in_channels=1, out_channels=out_1, kernel_size=3, padding=1)\n",
    "        self.maxpool1=nn.MaxPool2d(kernel_size=2)\n",
    "        \n",
    "        self.cnn2 = nn.Conv2d(in_channels=out_1, out_channels=out_2, kernel_size=3, stride=1, padding=1)\n",
    "        self.maxpool2=nn.MaxPool2d(kernel_size=2)\n",
    "        \n",
    "        self.fc1 = nn.Linear(out_2 * 7 * 7, 64)\n",
    "        self.fc2 = nn.Linear(64, number_of_classes)\n",
    "    \n",
    "    # Prediction\n",
    "    def forward(self, x):\n",
    "        x = self.cnn1(x)\n",
    "        x = torch.relu(x)\n",
    "        x = self.maxpool1(x)\n",
    "        \n",
    "        x = self.cnn2(x)\n",
    "        x = torch.relu(x)\n",
    "        x = self.maxpool2(x)\n",
    "        \n",
    "        x = x.view(x.size(0), -1)\n",
    "        \n",
    "        x = self.fc1(x)\n",
    "        x = self.fc2(x)\n",
    "        \n",
    "        return x"
   ]
  },
  {
   "cell_type": "code",
   "execution_count": 22,
   "metadata": {},
   "outputs": [
    {
     "name": "stdout",
     "output_type": "stream",
     "text": [
      "Epoch:  0 Loss:  0.3818625893396131 Accuracy:  0.9206145966709347\n",
      "Epoch:  1 Loss:  0.2441898523319836 Accuracy:  0.9337387964148528\n",
      "Epoch:  2 Loss:  0.2188479796364628 Accuracy:  0.9407810499359796\n",
      "Epoch:  3 Loss:  0.20388947929630577 Accuracy:  0.9350192061459667\n",
      "Epoch:  4 Loss:  0.1954925341642916 Accuracy:  0.9362996158770807\n",
      "Epoch:  5 Loss:  0.19073868595503515 Accuracy:  0.9388604353393086\n",
      "Epoch:  6 Loss:  0.18699035540310557 Accuracy:  0.9379001280409731\n",
      "Epoch:  7 Loss:  0.18017164048699696 Accuracy:  0.9375800256081946\n",
      "Epoch:  8 Loss:  0.17654209075413463 Accuracy:  0.9401408450704225\n",
      "Epoch:  9 Loss:  0.17163366495842275 Accuracy:  0.9401408450704225\n",
      "Finished  0\n",
      "Epoch:  0 Loss:  0.40612392794409735 Accuracy:  0.8950064020486556\n",
      "Epoch:  1 Loss:  0.2419206418830949 Accuracy:  0.9222151088348272\n",
      "Epoch:  2 Loss:  0.2278518142035578 Accuracy:  0.9366197183098591\n",
      "Epoch:  3 Loss:  0.21274804412407183 Accuracy:  0.9391805377720871\n",
      "Epoch:  4 Loss:  0.20128685082964715 Accuracy:  0.9414212548015365\n",
      "Epoch:  5 Loss:  0.19694064835756805 Accuracy:  0.9414212548015365\n",
      "Epoch:  6 Loss:  0.1941718571100008 Accuracy:  0.9407810499359796\n",
      "Epoch:  7 Loss:  0.1889946375672797 Accuracy:  0.9427016645326505\n",
      "Epoch:  8 Loss:  0.18459530420214532 Accuracy:  0.941101152368758\n",
      "Epoch:  9 Loss:  0.18125529272434107 Accuracy:  0.9433418693982074\n",
      "Finished  1\n",
      "Epoch:  0 Loss:  0.39446966901188385 Accuracy:  0.9071702944942381\n",
      "Epoch:  1 Loss:  0.2483129206975951 Accuracy:  0.9334186939820742\n",
      "Epoch:  2 Loss:  0.22254336213727466 Accuracy:  0.9362996158770807\n",
      "Epoch:  3 Loss:  0.2152751640470998 Accuracy:  0.9298975672215108\n",
      "Epoch:  4 Loss:  0.20446196899671176 Accuracy:  0.9343790012804097\n",
      "Epoch:  5 Loss:  0.19709608469630033 Accuracy:  0.9388604353393086\n",
      "Epoch:  6 Loss:  0.19026754970780202 Accuracy:  0.93854033290653\n",
      "Epoch:  7 Loss:  0.18702632662075788 Accuracy:  0.9382202304737516\n",
      "Epoch:  8 Loss:  0.18309859176143833 Accuracy:  0.940460947503201\n",
      "Epoch:  9 Loss:  0.17947647900480887 Accuracy:  0.941101152368758\n",
      "Finished  2\n",
      "Epoch:  0 Loss:  0.3807173120613034 Accuracy:  0.9177336747759283\n",
      "Epoch:  1 Loss:  0.23465272995668487 Accuracy:  0.9356594110115237\n",
      "Epoch:  2 Loss:  0.21452500692079873 Accuracy:  0.9388604353393086\n",
      "Epoch:  3 Loss:  0.20187775471617347 Accuracy:  0.9372599231754162\n",
      "Epoch:  4 Loss:  0.1972929791853383 Accuracy:  0.939820742637644\n",
      "Epoch:  5 Loss:  0.1887874649214965 Accuracy:  0.9407810499359796\n",
      "Epoch:  6 Loss:  0.18330871322818873 Accuracy:  0.941741357234315\n",
      "Epoch:  7 Loss:  0.18053072040362725 Accuracy:  0.93854033290653\n",
      "Epoch:  8 Loss:  0.1766362294454027 Accuracy:  0.9388604353393086\n",
      "Epoch:  9 Loss:  0.17333862890892132 Accuracy:  0.9407810499359796\n",
      "Finished  3\n",
      "Epoch:  0 Loss:  0.37855533627292426 Accuracy:  0.9148527528809219\n",
      "Epoch:  1 Loss:  0.23663188891477385 Accuracy:  0.9327784891165173\n",
      "Epoch:  2 Loss:  0.21421069826912215 Accuracy:  0.9379001280409731\n",
      "Epoch:  3 Loss:  0.20462262260980618 Accuracy:  0.9346991037131882\n",
      "Epoch:  4 Loss:  0.1948762498729747 Accuracy:  0.9330985915492958\n",
      "Epoch:  5 Loss:  0.18854208731464778 Accuracy:  0.940460947503201\n",
      "Epoch:  6 Loss:  0.18226466256433602 Accuracy:  0.939820742637644\n",
      "Epoch:  7 Loss:  0.1767845631757245 Accuracy:  0.941101152368758\n",
      "Epoch:  8 Loss:  0.17475440299633896 Accuracy:  0.940460947503201\n",
      "Epoch:  9 Loss:  0.1706921719458447 Accuracy:  0.941101152368758\n",
      "Finished  4\n",
      "Epoch:  0 Loss:  0.37113591515264377 Accuracy:  0.9295774647887324\n",
      "Epoch:  1 Loss:  0.2329697467811978 Accuracy:  0.9343790012804097\n",
      "Epoch:  2 Loss:  0.21134896561964434 Accuracy:  0.9388604353393086\n",
      "Epoch:  3 Loss:  0.20366319324450294 Accuracy:  0.9353393085787451\n",
      "Epoch:  4 Loss:  0.19340697709526627 Accuracy:  0.9388604353393086\n",
      "Epoch:  5 Loss:  0.1876261742920701 Accuracy:  0.939820742637644\n",
      "Epoch:  6 Loss:  0.18237968162828222 Accuracy:  0.9388604353393086\n",
      "Epoch:  7 Loss:  0.1767582701443619 Accuracy:  0.9388604353393086\n",
      "Epoch:  8 Loss:  0.1731659658306184 Accuracy:  0.941741357234315\n",
      "Epoch:  9 Loss:  0.16883319208880682 Accuracy:  0.9433418693982074\n",
      "Finished  5\n",
      "Epoch:  0 Loss:  0.4197511467433523 Accuracy:  0.9257362355953905\n",
      "Epoch:  1 Loss:  0.24673913138657597 Accuracy:  0.9327784891165173\n",
      "Epoch:  2 Loss:  0.2194159005842785 Accuracy:  0.9362996158770807\n",
      "Epoch:  3 Loss:  0.2051221685097215 Accuracy:  0.9388604353393086\n",
      "Epoch:  4 Loss:  0.19664471380009846 Accuracy:  0.9382202304737516\n",
      "Epoch:  5 Loss:  0.18958161611396127 Accuracy:  0.941101152368758\n",
      "Epoch:  6 Loss:  0.18477526849935927 Accuracy:  0.9395006402048656\n",
      "Epoch:  7 Loss:  0.18349621978828187 Accuracy:  0.939820742637644\n",
      "Epoch:  8 Loss:  0.18024284008871844 Accuracy:  0.9414212548015365\n",
      "Epoch:  9 Loss:  0.17553775202202085 Accuracy:  0.9420614596670934\n",
      "Finished  6\n",
      "Epoch:  0 Loss:  0.37303424722503126 Accuracy:  0.9225352112676056\n",
      "Epoch:  1 Loss:  0.23894837534301525 Accuracy:  0.9295774647887324\n",
      "Epoch:  2 Loss:  0.21265821579637093 Accuracy:  0.9372599231754162\n",
      "Epoch:  3 Loss:  0.20304010510126694 Accuracy:  0.9388604353393086\n",
      "Epoch:  4 Loss:  0.1945988812505706 Accuracy:  0.9391805377720871\n",
      "Epoch:  5 Loss:  0.19006917107542964 Accuracy:  0.9366197183098591\n",
      "Epoch:  6 Loss:  0.18096965061405285 Accuracy:  0.9382202304737516\n",
      "Epoch:  7 Loss:  0.1826888357499776 Accuracy:  0.9391805377720871\n",
      "Epoch:  8 Loss:  0.175288384745181 Accuracy:  0.9346991037131882\n",
      "Epoch:  9 Loss:  0.17333933516308814 Accuracy:  0.9420614596670934\n",
      "Finished  7\n",
      "Epoch:  0 Loss:  0.39884234394130974 Accuracy:  0.9164532650448144\n",
      "Epoch:  1 Loss:  0.2403030280397402 Accuracy:  0.93854033290653\n",
      "Epoch:  2 Loss:  0.21219470801300888 Accuracy:  0.9379001280409731\n",
      "Epoch:  3 Loss:  0.19695899534273686 Accuracy:  0.9372599231754162\n",
      "Epoch:  4 Loss:  0.1894129244478189 Accuracy:  0.9420614596670934\n",
      "Epoch:  5 Loss:  0.18311988749073693 Accuracy:  0.9436619718309859\n",
      "Epoch:  6 Loss:  0.17665839457359817 Accuracy:  0.941101152368758\n",
      "Epoch:  7 Loss:  0.17160307673490996 Accuracy:  0.9401408450704225\n",
      "Epoch:  8 Loss:  0.17015793770061513 Accuracy:  0.9382202304737516\n",
      "Epoch:  9 Loss:  0.1649781122338689 Accuracy:  0.9436619718309859\n",
      "Finished  8\n",
      "Epoch:  0 Loss:  0.39362678151302155 Accuracy:  0.9106914212548015\n",
      "Epoch:  1 Loss:  0.2378244725377915 Accuracy:  0.9379001280409731\n",
      "Epoch:  2 Loss:  0.21023904258758888 Accuracy:  0.9395006402048656\n",
      "Epoch:  3 Loss:  0.1960499684086565 Accuracy:  0.9369398207426376\n",
      "Epoch:  4 Loss:  0.18793874475734035 Accuracy:  0.9401408450704225\n",
      "Epoch:  5 Loss:  0.18332234784963397 Accuracy:  0.9407810499359796\n",
      "Epoch:  6 Loss:  0.17710070964810073 Accuracy:  0.9430217669654289\n",
      "Epoch:  7 Loss:  0.1753948732182532 Accuracy:  0.9439820742637645\n",
      "Epoch:  8 Loss:  0.17238627942371715 Accuracy:  0.9270166453265045\n",
      "Epoch:  9 Loss:  0.16881746918514137 Accuracy:  0.9427016645326505\n",
      "Finished  9\n"
     ]
    }
   ],
   "source": [
    "avg_acc = []\n",
    "avg_loss = []\n",
    "#call the model\n",
    "for i in range(10):\n",
    "    model2 = my_network_cnn_linear(out_1=8, out_2=16)\n",
    "\n",
    "#define loss and optimization\n",
    "    criterion = nn.CrossEntropyLoss()\n",
    "    optimizer2 = torch.optim.Adam(model2.parameters(), lr = LEARNING_RATE)\n",
    "\n",
    "#run the model\n",
    "    accuracy_list_normal, loss_list_normal=train_model(model=model2,n_epochs=10,train_loader=train_data_loader,validation_loader=test_data_loader,optimizer=optimizer2)\n",
    "    avg_acc.append(accuracy_list_normal[-1])\n",
    "    avg_loss.append(loss_list_normal[-1])\n",
    "    print('Finished ', i)\n",
    "\n",
    "#plot the graph\n",
    "# plt.plot(accuracy_list_normal, 'b', label='Accuracy ')\n",
    "# plt.plot(loss_list_normal, 'r', label='loss')\n",
    "# plt.xlabel('Iteration')\n",
    "# plt.title(\"Loss\")\n",
    "# plt.legend()"
   ]
  },
  {
   "cell_type": "code",
   "execution_count": 23,
   "metadata": {},
   "outputs": [
    {
     "name": "stdout",
     "output_type": "stream",
     "text": [
      "Training Loss:  0.17163366495842275 Validation Accuracy:  0.9401408450704225\n",
      "Training Loss:  0.18125529272434107 Validation Accuracy:  0.9433418693982074\n",
      "Training Loss:  0.17947647900480887 Validation Accuracy:  0.941101152368758\n",
      "Training Loss:  0.17333862890892132 Validation Accuracy:  0.9407810499359796\n",
      "Training Loss:  0.1706921719458447 Validation Accuracy:  0.941101152368758\n",
      "Training Loss:  0.16883319208880682 Validation Accuracy:  0.9433418693982074\n",
      "Training Loss:  0.17553775202202085 Validation Accuracy:  0.9420614596670934\n",
      "Training Loss:  0.17333933516308814 Validation Accuracy:  0.9420614596670934\n",
      "Training Loss:  0.1649781122338689 Validation Accuracy:  0.9436619718309859\n",
      "Training Loss:  0.16881746918514137 Validation Accuracy:  0.9427016645326505\n"
     ]
    }
   ],
   "source": [
    "import numpy as np\n",
    "\n",
    "for loss, acc in zip(avg_loss, avg_acc):\n",
    "    print('Training Loss: ', loss, 'Validation Accuracy: ', acc)"
   ]
  },
  {
   "cell_type": "code",
   "execution_count": 24,
   "metadata": {},
   "outputs": [
    {
     "name": "stdout",
     "output_type": "stream",
     "text": [
      "Average training loss:  0.1727902098235265\n",
      "Average validation accuracy:  0.9420294494238156\n"
     ]
    }
   ],
   "source": [
    "print('Average training loss: ', np.mean(avg_loss))\n",
    "print('Average validation accuracy: ', np.mean(avg_acc))"
   ]
  },
  {
   "cell_type": "markdown",
   "metadata": {},
   "source": [
    "# cnn and rnn together"
   ]
  },
  {
   "cell_type": "code",
   "execution_count": 48,
   "metadata": {},
   "outputs": [],
   "source": [
    "class my_network_cnn_linear(nn.Module):\n",
    "    \n",
    "    # Contructor\n",
    "    def __init__(self, out_1=4, hidden_size=128, num_layers=2, number_of_classes=4):\n",
    "        super(my_network_cnn_linear, self).__init__()\n",
    "        self.num_layers = num_layers\n",
    "        self.hidden_size = hidden_size\n",
    "        \n",
    "        self.cnn1 = nn.Conv2d(in_channels=1, out_channels=out_1, kernel_size=3, padding=1)\n",
    "        self.conv1_bn = nn.BatchNorm2d(out_1)\n",
    "        self.maxpool1=nn.MaxPool2d(kernel_size=2)\n",
    "        \n",
    "        self.rnn = nn.LSTM(out_1*14, 128, 2, batch_first=True)\n",
    "        \n",
    "        self.fc = nn.Linear(hidden_size, number_of_classes)\n",
    "    \n",
    "    # Prediction\n",
    "    def forward(self, x):\n",
    "        \n",
    "#         h0 = torch.zeros(2, x.size(0), 128)\n",
    "        \n",
    "        x = self.cnn1(x)\n",
    "        x = self.conv1_bn(x)\n",
    "        x = torch.relu(x)\n",
    "        x = self.maxpool1(x)\n",
    "        \n",
    "        x = x.view(x.size(0), 14, -1)\n",
    "        \n",
    "        x, (h_n, h_c) = self.rnn(x) \n",
    "        x = self.fc(x[:, -1, :])\n",
    "        \n",
    "        return x"
   ]
  },
  {
   "cell_type": "code",
   "execution_count": 49,
   "metadata": {},
   "outputs": [
    {
     "name": "stdout",
     "output_type": "stream",
     "text": [
      "Epoch:  0 Loss:  1.0733347123920662 Accuracy:  0.7701664532650448\n",
      "Epoch:  1 Loss:  0.6775189662937758 Accuracy:  0.7701664532650448\n",
      "Epoch:  2 Loss:  0.5488767702328531 Accuracy:  0.83898847631242\n",
      "Epoch:  3 Loss:  0.43143627707810694 Accuracy:  0.852112676056338\n",
      "Epoch:  4 Loss:  0.38541938140882365 Accuracy:  0.8642765685019206\n",
      "Epoch:  5 Loss:  0.3597591952453891 Accuracy:  0.8825224071702945\n",
      "Epoch:  6 Loss:  0.3369324607125472 Accuracy:  0.8793213828425096\n",
      "Epoch:  7 Loss:  0.3154317510750139 Accuracy:  0.9007682458386683\n",
      "Epoch:  8 Loss:  0.30130079273097377 Accuracy:  0.8703585147247119\n",
      "Epoch:  9 Loss:  0.28525241229889825 Accuracy:  0.9126120358514724\n",
      "Finished\n"
     ]
    },
    {
     "data": {
      "text/plain": [
       "<matplotlib.legend.Legend at 0x7f480e680c70>"
      ]
     },
     "execution_count": 49,
     "metadata": {},
     "output_type": "execute_result"
    },
    {
     "data": {
      "image/png": "[encoded data removed]",
      "text/plain": [
       "<Figure size 432x288 with 1 Axes>"
      ]
     },
     "metadata": {
      "needs_background": "light"
     },
     "output_type": "display_data"
    }
   ],
   "source": [
    "#call the model\n",
    "model3 = my_network_cnn_linear(out_1=4, num_layers=2)\n",
    "\n",
    "#define loss and optimization\n",
    "criterion = nn.CrossEntropyLoss()\n",
    "optimizer = torch.optim.SGD(model3.parameters(), lr = LEARNING_RATE, momentum=0.7)\n",
    "\n",
    "#run the model\n",
    "accuracy_list_normal, loss_list_normal=train_model(model=model3,n_epochs=10,train_loader=train_data_loader,validation_loader=test_data_loader,optimizer=optimizer)\n",
    "print('Finished')\n",
    "\n",
    "#plot the graph\n",
    "plt.plot(accuracy_list_normal, 'b', label='Accuracy ')\n",
    "plt.plot(loss_list_normal, 'r', label='loss')\n",
    "plt.xlabel('Iteration')\n",
    "plt.title(\"Loss\")\n",
    "plt.legend()"
   ]
  },
  {
   "cell_type": "code",
   "execution_count": null,
   "metadata": {},
   "outputs": [],
   "source": []
  },
  {
   "cell_type": "code",
   "execution_count": null,
   "metadata": {},
   "outputs": [],
   "source": []
  },
  {
   "cell_type": "markdown",
   "metadata": {},
   "source": [
    "# hyerparameter optimization"
   ]
  },
  {
   "cell_type": "code",
   "execution_count": 39,
   "metadata": {},
   "outputs": [
    {
     "name": "stdout",
     "output_type": "stream",
     "text": [
      "[4, 8]  :  0.1\n",
      "CNN Layer:  [4, 8] Learning Rate:  0.1 Loss:  1.2244592910555654 Acc: 0.4801536491677337\n",
      "[4, 8]  :  0.01\n",
      "CNN Layer:  [4, 8] Learning Rate:  0.1 Loss:  0.29467898015937055 Acc: 0.9154929577464789\n",
      "[4, 8]  :  0.001\n",
      "CNN Layer:  [4, 8] Learning Rate:  0.1 Loss:  0.20088216954919047 Acc: 0.9379001280409731\n",
      "[8, 16]  :  0.1\n",
      "CNN Layer:  [8, 16] Learning Rate:  0.1 Loss:  1.233787413808394 Acc: 0.4801536491677337\n",
      "[8, 16]  :  0.01\n",
      "CNN Layer:  [8, 16] Learning Rate:  0.1 Loss:  0.2605487664520295 Acc: 0.9222151088348272\n",
      "[8, 16]  :  0.001\n",
      "CNN Layer:  [8, 16] Learning Rate:  0.1 Loss:  0.16404809163993286 Acc: 0.9372599231754162\n",
      "[16, 32]  :  0.1\n",
      "CNN Layer:  [16, 32] Learning Rate:  0.1 Loss:  1.2277144726106146 Acc: 0.4801536491677337\n",
      "[16, 32]  :  0.01\n",
      "CNN Layer:  [16, 32] Learning Rate:  0.1 Loss:  1.1957400786249262 Acc: 0.4801536491677337\n",
      "[16, 32]  :  0.001\n",
      "CNN Layer:  [16, 32] Learning Rate:  0.1 Loss:  0.16106293198240557 Acc: 0.9433418693982074\n"
     ]
    }
   ],
   "source": [
    "for layer in [[4,8], [8, 16], [16,32]]:\n",
    "    for lrr in [0.1, 0.01, 0.001]:\n",
    "        print(layer, ' : ', lrr)\n",
    "        model2 = my_network_cnn_linear(out_1=layer[0], out_2=layer[1])\n",
    "\n",
    "    #define loss and optimization\n",
    "        criterion = nn.CrossEntropyLoss()\n",
    "        optimizer2 = torch.optim.Adam(model2.parameters(), lr = lrr)\n",
    "\n",
    "    #run the model\n",
    "        accuracy_list_normal, loss_list_normal=train_model(model=model2,n_epochs=10,train_loader=train_data_loader,validation_loader=test_data_loader,optimizer=optimizer2)\n",
    "        print('CNN Layer: ', layer, 'Learning Rate: ', lr, 'Loss: ', loss_list_normal[-1], 'Acc:', accuracy_list_normal[-1])"
   ]
  },
  {
   "cell_type": "code",
   "execution_count": null,
   "metadata": {},
   "outputs": [],
   "source": []
  },
  {
   "cell_type": "code",
   "execution_count": 44,
   "metadata": {},
   "outputs": [
    {
     "name": "stdout",
     "output_type": "stream",
     "text": [
      "Batch Size:  20 Learning Rate:  0.001 Loss:  0.15951046246007233 Acc: 0.9465428937259923\n",
      "Batch Size:  20 Learning Rate:  0.0001 Loss:  0.21320020057033126 Acc: 0.9362996158770807\n",
      "Batch Size:  30 Learning Rate:  0.001 Loss:  0.15479840741836345 Acc: 0.9420614596670934\n",
      "Batch Size:  30 Learning Rate:  0.0001 Loss:  0.22795876248408037 Acc: 0.9346991037131882\n",
      "Batch Size:  40 Learning Rate:  0.001 Loss:  0.1647528470579964 Acc: 0.9395006402048656\n",
      "Batch Size:  40 Learning Rate:  0.0001 Loss:  0.21233150203464551 Acc: 0.9366197183098591\n"
     ]
    }
   ],
   "source": [
    "for batch_s in [20, 30, 40]:\n",
    "    for lrr in [0.001, 0.0001]:\n",
    "        \n",
    "        train_data_loader = data.DataLoader(train_data, batch_size=batch_s, shuffle=True,  num_workers=2)\n",
    "        test_data_loader  = data.DataLoader(test_data, batch_size=batch_s, shuffle=True, num_workers=2) \n",
    "        \n",
    "        model2 = my_network_cnn_linear(out_1=16, out_2=32)\n",
    "\n",
    "    #define loss and optimization\n",
    "        criterion = nn.CrossEntropyLoss()\n",
    "        optimizer2 = torch.optim.Adam(model2.parameters(), lr = lrr)\n",
    "\n",
    "    #run the model\n",
    "        accuracy_list_normal, loss_list_normal=train_model(model=model2,n_epochs=10,train_loader=train_data_loader,validation_loader=test_data_loader,optimizer=optimizer2)\n",
    "        print('Batch Size: ', batch_s, 'Learning Rate: ', lrr, 'Loss: ', loss_list_normal[-1], 'Acc:', accuracy_list_normal[-1])"
   ]
  },
  {
   "cell_type": "code",
   "execution_count": null,
   "metadata": {},
   "outputs": [],
   "source": []
  }
 ],
 "metadata": {
  "kernelspec": {
   "display_name": "Python 3",
   "language": "python",
   "name": "python3"
  },
  "language_info": {
   "codemirror_mode": {
    "name": "ipython",
    "version": 3
   },
   "file_extension": ".py",
   "mimetype": "text/x-python",
   "name": "python",
   "nbconvert_exporter": "python",
   "pygments_lexer": "ipython3",
   "version": "3.8.0"
  }
 },
 "nbformat": 4,
 "nbformat_minor": 2
}
