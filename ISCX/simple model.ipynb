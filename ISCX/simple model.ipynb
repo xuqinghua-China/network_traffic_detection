{
 "cells": [
  {
   "cell_type": "code",
   "execution_count": 42,
   "metadata": {},
   "outputs": [],
   "source": [
    "import torch\n",
    "import torchvision\n",
    "from torchvision import transforms\n",
    "import torch.utils.data as data\n",
    "import torch.nn as nn\n",
    "import torch.nn.functional as F\n",
    "\n",
    "import matplotlib.pyplot as plt"
   ]
  },
  {
   "cell_type": "code",
   "execution_count": 43,
   "metadata": {},
   "outputs": [],
   "source": [
    "TRAIN_DATA_PATH = \"./data-collection/train/\"\n",
    "TEST_DATA_PATH = \"./data-collection/test/\"\n",
    "TRANSFORM_IMG = transforms.Compose([\n",
    "    transforms.Grayscale(),\n",
    "    transforms.Resize(28),\n",
    "    transforms.CenterCrop(28),\n",
    "    transforms.ToTensor(),\n",
    "#     transforms.Normalize(mean=[0.485, 0.456, 0.406], std=[0.229, 0.224, 0.225] )\n",
    "    ])\n",
    "\n",
    "train_data = torchvision.datasets.ImageFolder(root=TRAIN_DATA_PATH, transform=TRANSFORM_IMG)\n",
    "test_data = torchvision.datasets.ImageFolder(root=TEST_DATA_PATH, transform=TRANSFORM_IMG)"
   ]
  },
  {
   "cell_type": "code",
   "execution_count": 54,
   "metadata": {},
   "outputs": [
    {
     "data": {
      "text/plain": [
       "tensor([ 3236,  2811,  8572, 13500])"
      ]
     },
     "execution_count": 54,
     "metadata": {},
     "output_type": "execute_result"
    }
   ],
   "source": [
    "torch.bincount(torch.tensor(train_data.targets))"
   ]
  },
  {
   "cell_type": "code",
   "execution_count": 55,
   "metadata": {},
   "outputs": [
    {
     "data": {
      "text/plain": [
       "tensor([ 360,  312,  952, 1500])"
      ]
     },
     "execution_count": 55,
     "metadata": {},
     "output_type": "execute_result"
    }
   ],
   "source": [
    "torch.bincount(torch.tensor(test_data.targets))"
   ]
  },
  {
   "cell_type": "code",
   "execution_count": null,
   "metadata": {},
   "outputs": [],
   "source": []
  },
  {
   "cell_type": "code",
   "execution_count": 44,
   "metadata": {},
   "outputs": [],
   "source": [
    "BATCH_SIZE = 20\n",
    "LEARNING_RATE = 0.01"
   ]
  },
  {
   "cell_type": "code",
   "execution_count": 45,
   "metadata": {},
   "outputs": [
    {
     "data": {
      "text/plain": [
       "torch.Size([20, 1, 28, 28])"
      ]
     },
     "execution_count": 45,
     "metadata": {},
     "output_type": "execute_result"
    }
   ],
   "source": [
    "train_data_loader = data.DataLoader(train_data, batch_size=BATCH_SIZE, shuffle=True,  num_workers=2)\n",
    "test_data_loader  = data.DataLoader(test_data, batch_size=BATCH_SIZE, shuffle=True, num_workers=2) \n",
    "img =next(iter(train_data_loader))\n",
    "img[0].shape"
   ]
  },
  {
   "cell_type": "code",
   "execution_count": 46,
   "metadata": {},
   "outputs": [],
   "source": [
    "class cnn_first(nn.Module):\n",
    "    \n",
    "    # Contructor\n",
    "    def __init__(self, out_1=8, out_2=16, out_3=128):\n",
    "        super(cnn_first, self).__init__()\n",
    "        \n",
    "        self.cnn1 = nn.Conv2d(in_channels=1, out_channels=out_1, kernel_size=3, padding=1)\n",
    "        self.conv1_bn = nn.BatchNorm2d(out_1)\n",
    "        self.maxpool1=nn.MaxPool2d(kernel_size=2)\n",
    "        \n",
    "        self.cnn2 = nn.Conv2d(in_channels=out_1, out_channels=out_2, kernel_size=3, stride=1, padding=1)\n",
    "        self.conv2_bn = nn.BatchNorm2d(out_2)\n",
    "        self.maxpool2=nn.MaxPool2d(kernel_size=2)\n",
    "        \n",
    "        self.fc1 = nn.Linear(out_2 * 7 * 7, out_3)\n",
    "        self.bn_fc1 = nn.BatchNorm1d(out_3)\n",
    "    \n",
    "    # Prediction\n",
    "    def forward(self, x):\n",
    "        x = self.cnn1(x)\n",
    "        x = self.conv1_bn(x)\n",
    "        x = torch.relu(x)\n",
    "        x = self.maxpool1(x)\n",
    "        \n",
    "        x = self.cnn2(x)\n",
    "        x = self.conv2_bn(x)\n",
    "        x = torch.relu(x)\n",
    "        x = self.maxpool2(x)\n",
    "        \n",
    "        x = x.view(x.size(0), -1)\n",
    "        \n",
    "        x = self.fc1(x)\n",
    "        x = self.bn_fc1(x)\n",
    "        \n",
    "        return x\n",
    "\n",
    "class cnn_second(nn.Module):\n",
    "    \n",
    "    # Contructor\n",
    "    def __init__(self, out_1=16, out_2=32, out_3=128):\n",
    "        super(cnn_second, self).__init__()\n",
    "        \n",
    "        self.cnn1 = nn.Conv2d(in_channels=1, out_channels=out_1, kernel_size=3, padding=1)\n",
    "        self.conv1_bn = nn.BatchNorm2d(out_1)\n",
    "        self.maxpool1=nn.MaxPool2d(kernel_size=2)\n",
    "        \n",
    "        self.cnn2 = nn.Conv2d(in_channels=out_1, out_channels=out_2, kernel_size=3, stride=1, padding=1)\n",
    "        self.conv2_bn = nn.BatchNorm2d(out_2)\n",
    "        self.maxpool2=nn.MaxPool2d(kernel_size=2)\n",
    "        \n",
    "        self.fc1 = nn.Linear(out_2 * 7 * 7, out_3)\n",
    "        self.bn_fc1 = nn.BatchNorm1d(out_3)\n",
    "        \n",
    "    \n",
    "    # Prediction\n",
    "    def forward(self, x):\n",
    "        x = self.cnn1(x)\n",
    "        x = self.conv1_bn(x)\n",
    "        x = torch.relu(x)\n",
    "        x = self.maxpool1(x)\n",
    "        \n",
    "        x = self.cnn2(x)\n",
    "        x = self.conv2_bn(x)\n",
    "        x = torch.relu(x)\n",
    "        x = self.maxpool2(x)\n",
    "        \n",
    "        x = x.view(x.size(0), -1)\n",
    "        \n",
    "        x = self.fc1(x)\n",
    "        x = self.bn_fc1(x)\n",
    "        \n",
    "        return x\n",
    "\n",
    "class lstm_block(nn.Module):\n",
    "    \n",
    "    def __init__(self, in_channels=128, hidden_dim=64,hidden_dim2=32, num_payers=2, out_channels=4):\n",
    "        super(lstm_block, self).__init__()\n",
    "        \n",
    "        self.lstm1 = nn.LSTM(in_channels, hidden_dim, num_payers, batch_first=True, dropout = 0.4)\n",
    "        self.lstm2 = nn.LSTM(hidden_dim, hidden_dim2, num_payers, batch_first=True, dropout = 0.4)\n",
    "        \n",
    "        self.fc1 = nn.Linear(hidden_dim2, out_channels)\n",
    "        \n",
    "    def forward(self, x):\n",
    "        x = x.view(x.size(0), 1, -1)\n",
    "        out, hn = self.lstm1(x)\n",
    "        out, hn2 = self.lstm2(out)\n",
    "        \n",
    "        out = self.fc1(out[:, -1, :])\n",
    "        \n",
    "        return out"
   ]
  },
  {
   "cell_type": "code",
   "execution_count": null,
   "metadata": {},
   "outputs": [],
   "source": []
  },
  {
   "cell_type": "code",
   "execution_count": 47,
   "metadata": {},
   "outputs": [],
   "source": [
    "def train_model(model1, model2,model3, n_epochs,train_loader,validation_loader,optimizer1, optimizer2, optimizer3):\n",
    "    \n",
    "    #global variable \n",
    "    N_test=len(test_data)\n",
    "    accuracy_list=[]\n",
    "    loss_list=[]\n",
    "    for epoch in range(n_epochs):\n",
    "        total_loss = 0\n",
    "        count = 0\n",
    "        for x, y in train_loader:\n",
    "            model1.train()\n",
    "            model2.train()\n",
    "            model3.train()\n",
    "            \n",
    "            optimizer1.zero_grad()\n",
    "            out1 = model1(x)\n",
    "            loss1 = criterion(out1, y)\n",
    "            loss1.backward(retain_graph=True)\n",
    "            optimizer1.step()\n",
    "            \n",
    "            optimizer2.zero_grad()\n",
    "            out2 = model1(x)\n",
    "            loss2 = criterion(out2, y)\n",
    "            loss2.backward(retain_graph=True)\n",
    "            optimizer2.step()\n",
    "            \n",
    "            \n",
    "            out = out1+out2\n",
    "            optimizer3.zero_grad()\n",
    "            z = model3(out)\n",
    "            loss3 = criterion(z, y)\n",
    "            loss3.backward(retain_graph=True)\n",
    "            optimizer3.step()\n",
    "            total_loss += loss3.item()\n",
    "            \n",
    "        loss_list.append(total_loss/len(train_loader))\n",
    "        \n",
    "\n",
    "        correct=0\n",
    "        #perform a prediction on the validation  data  \n",
    "        for x_test, y_test in validation_loader:\n",
    "            model1.eval()\n",
    "            model2.eval()\n",
    "            model3.eval()\n",
    "            z1 = model1(x_test)\n",
    "            z2 = model2(x_test)\n",
    "            z = z1+z2\n",
    "            z = model3(z)\n",
    "            _, yhat = torch.max(z.data, 1)\n",
    "            correct += (yhat == y_test).sum().item()\n",
    "        accuracy = correct / N_test\n",
    "        accuracy_list.append(accuracy)\n",
    "        print('Epoch: ', epoch, 'Loss: ', total_loss/len(train_loader), 'Accuracy: ', accuracy)\n",
    "     \n",
    "    return accuracy_list, loss_list"
   ]
  },
  {
   "cell_type": "code",
   "execution_count": 48,
   "metadata": {},
   "outputs": [],
   "source": [
    "# Create the model object using CNN class\n",
    "model1 = cnn_first(out_1=8, out_2=16, out_3=128)\n",
    "model2 = cnn_second(out_1=16, out_2=32, out_3=128)\n",
    "model3 = lstm_block(in_channels=128, hidden_dim=64,hidden_dim2=32, num_payers=2, out_channels=4)"
   ]
  },
  {
   "cell_type": "code",
   "execution_count": 49,
   "metadata": {},
   "outputs": [],
   "source": [
    "criterion = nn.CrossEntropyLoss()\n",
    "optimizer1 = torch.optim.SGD(model1.parameters(), lr = LEARNING_RATE, momentum=0.6)\n",
    "optimizer2 = torch.optim.SGD(model2.parameters(), lr = LEARNING_RATE, momentum=0.6)\n",
    "optimizer3 = torch.optim.SGD(model3.parameters(), lr = LEARNING_RATE, momentum=0.6)"
   ]
  },
  {
   "cell_type": "code",
   "execution_count": 50,
   "metadata": {},
   "outputs": [
    {
     "name": "stdout",
     "output_type": "stream",
     "text": [
      "Epoch:  0 Loss:  1.2047915189483258 Accuracy:  0.4801536491677337\n",
      "Epoch:  1 Loss:  1.1909830258631944 Accuracy:  0.4801536491677337\n",
      "Epoch:  2 Loss:  1.1590620545964492 Accuracy:  0.4801536491677337\n",
      "Epoch:  3 Loss:  0.6618955806957539 Accuracy:  0.7765685019206146\n",
      "Epoch:  4 Loss:  0.42259625982424276 Accuracy:  0.8882842509603073\n",
      "Epoch:  5 Loss:  0.3281763154075376 Accuracy:  0.8892445582586428\n",
      "Epoch:  6 Loss:  0.28432240004877785 Accuracy:  0.910371318822023\n",
      "Epoch:  7 Loss:  0.2593910077117797 Accuracy:  0.926056338028169\n",
      "Epoch:  8 Loss:  0.24017343081661088 Accuracy:  0.9321382842509603\n",
      "Epoch:  9 Loss:  0.22085084479731398 Accuracy:  0.9372599231754162\n",
      "Finished\n"
     ]
    }
   ],
   "source": [
    "accuracy_list_normal, loss_list_normal=train_model(model1, model2,model3,n_epochs=10,\n",
    "                                                   train_loader=train_data_loader,\n",
    "                                                   validation_loader=test_data_loader,optimizer1=optimizer1,\n",
    "                                                  optimizer2=optimizer2, optimizer3=optimizer3)\n",
    "print('Finished')"
   ]
  },
  {
   "cell_type": "code",
   "execution_count": 51,
   "metadata": {},
   "outputs": [
    {
     "data": {
      "text/plain": [
       "<matplotlib.legend.Legend at 0x7f2f1b9e58b0>"
      ]
     },
     "execution_count": 51,
     "metadata": {},
     "output_type": "execute_result"
    },
    {
     "data": {
      "image/png": "[encoded data removed]",
      "text/plain": [
       "<Figure size 432x288 with 1 Axes>"
      ]
     },
     "metadata": {
      "needs_background": "light"
     },
     "output_type": "display_data"
    }
   ],
   "source": [
    "# Plot the loss and accuracy\n",
    "plt.plot(accuracy_list_normal, 'b', label='Accuracy ')\n",
    "plt.plot(loss_list_normal, 'r', label='loss')\n",
    "plt.xlabel('Iteration')\n",
    "plt.title(\"Loss\")\n",
    "plt.legend()"
   ]
  },
  {
   "cell_type": "code",
   "execution_count": null,
   "metadata": {},
   "outputs": [],
   "source": []
  }
 ],
 "metadata": {
  "kernelspec": {
   "display_name": "Python 3",
   "language": "python",
   "name": "python3"
  },
  "language_info": {
   "codemirror_mode": {
    "name": "ipython",
    "version": 3
   },
   "file_extension": ".py",
   "mimetype": "text/x-python",
   "name": "python",
   "nbconvert_exporter": "python",
   "pygments_lexer": "ipython3",
   "version": "3.8.0"
  }
 },
 "nbformat": 4,
 "nbformat_minor": 2
}
