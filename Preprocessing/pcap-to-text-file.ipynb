{
 "cells": [
  {
   "cell_type": "code",
   "execution_count": 5,
   "metadata": {},
   "outputs": [],
   "source": [
    "import os\n",
    "\n",
    "# First convert pcap to text file. Here only the raw bytes of each packet is saved.\n",
    "for file in os.listdir('./BFSSH/'):\n",
    "    if not file.startswith('.'):\n",
    "        file_names.append(file)\n",
    "        nn = os.path.join('./Normal/', file)\n",
    "        out = 'converted-Normal/'+file+'.txt'\n",
    "        ! tcpdump -r $nn -X > $out\n",
    "print('Finished')"
   ]
  },
  {
   "cell_type": "code",
   "execution_count": 7,
   "metadata": {},
   "outputs": [],
   "source": [
    "# Preprocess the raw bytes text file and save only raw bytes in csv format\n",
    "for file in os.listdir('./converted-Normal/'):\n",
    "    full_filename = './converted-Normal/'+file\n",
    "    output = open(full_filename, 'r')\n",
    "    out_text = ''\n",
    "    for ff in output.readlines():\n",
    "        if len(ff.split(':')[0]) !=2:\n",
    "            out_text += ' '.join(ff for ff in ff.split()[1:-1])+' '\n",
    "    with open('bytes-to-text.csv', 'a') as ff:\n",
    "        ff.write(\"%s,%s\\n\"%(out_text, 'Normal'))\n",
    "print('Process Has Finished')"
   ]
  },
  {
   "cell_type": "code",
   "execution_count": null,
   "metadata": {},
   "outputs": [],
   "source": []
  }
 ],
 "metadata": {
  "kernelspec": {
   "display_name": "Python 3",
   "language": "python",
   "name": "python3"
  },
  "language_info": {
   "codemirror_mode": {
    "name": "ipython",
    "version": 3
   },
   "file_extension": ".py",
   "mimetype": "text/x-python",
   "name": "python",
   "nbconvert_exporter": "python",
   "pygments_lexer": "ipython3",
   "version": "3.8.0"
  }
 },
 "nbformat": 4,
 "nbformat_minor": 2
}
