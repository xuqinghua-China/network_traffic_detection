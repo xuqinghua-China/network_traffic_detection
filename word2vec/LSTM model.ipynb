{
 "cells": [
  {
   "cell_type": "code",
   "execution_count": null,
   "metadata": {
    "colab": {},
    "colab_type": "code",
    "id": "209kwqP_BgSg"
   },
   "outputs": [],
   "source": [
    "import numpy as np\n",
    "import pandas as pd\n",
    "import pickle\n",
    "from gensim.models import Word2Vec\n",
    "from time import time"
   ]
  },
  {
   "cell_type": "code",
   "execution_count": null,
   "metadata": {
    "colab": {
     "base_uri": "https://localhost:8080/",
     "height": 35
    },
    "colab_type": "code",
    "id": "gydvagNFBmFQ",
    "outputId": "36de43f1-1372-41d0-8de5-bd9a7bea72dc"
   },
   "outputs": [
    {
     "name": "stdout",
     "output_type": "stream",
     "text": [
      "Data Loaded\n"
     ]
    }
   ],
   "source": [
    "# Load the datasets \n",
    "df = pd.read_csv('/content/drive/My Drive/Colab Notebooks/bytes-to-text.csv', names=['raw-bytes', 'tag'], header=None)\n",
    "print('Data Loaded')"
   ]
  },
  {
   "cell_type": "code",
   "execution_count": 2,
   "metadata": {
    "colab": {
     "base_uri": "https://localhost:8080/",
     "height": 419
    },
    "colab_type": "code",
    "id": "nPYJnlKkOmZI",
    "outputId": "1181527d-9b34-4a89-a09a-6b99b2be827b"
   },
   "outputs": [],
   "source": [
    "df['length'] = df['raw-bytes'].str.len()\n",
    "lengths = df['length']\n",
    "todel = lengths[lengths>50000]\n",
    "df = df.drop(todel.index)\n",
    "df.reset_index(inplace=True)\n",
    "df.drop(columns=['index'], inplace=True)\n",
    "df"
   ]
  },
  {
   "cell_type": "code",
   "execution_count": null,
   "metadata": {
    "colab": {
     "base_uri": "https://localhost:8080/",
     "height": 419
    },
    "colab_type": "code",
    "id": "yr0Jwdf-Ro--",
    "outputId": "bfec09a2-9f91-4168-b848-2160ac3083eb"
   },
   "outputs": [
    {
     "data": {
      "text/html": [
       "<div>\n",
       "<style scoped>\n",
       "    .dataframe tbody tr th:only-of-type {\n",
       "        vertical-align: middle;\n",
       "    }\n",
       "\n",
       "    .dataframe tbody tr th {\n",
       "        vertical-align: top;\n",
       "    }\n",
       "\n",
       "    .dataframe thead th {\n",
       "        text-align: right;\n",
       "    }\n",
       "</style>\n",
       "<table border=\"1\" class=\"dataframe\">\n",
       "  <thead>\n",
       "    <tr style=\"text-align: right;\">\n",
       "      <th></th>\n",
       "      <th>raw-bytes</th>\n",
       "      <th>tag</th>\n",
       "      <th>length</th>\n",
       "    </tr>\n",
       "  </thead>\n",
       "  <tbody>\n",
       "    <tr>\n",
       "      <th>0</th>\n",
       "      <td>4500 0034 0000 4000 4006 fd7c c0a8 057a 83ca f...</td>\n",
       "      <td>BFSSH</td>\n",
       "      <td>590</td>\n",
       "    </tr>\n",
       "    <tr>\n",
       "      <th>1</th>\n",
       "      <td>4500 0034 0000 4000 4006 fd7c c0a8 057a 83ca f...</td>\n",
       "      <td>BFSSH</td>\n",
       "      <td>5363</td>\n",
       "    </tr>\n",
       "    <tr>\n",
       "      <th>2</th>\n",
       "      <td>4500 0034 0000 4000 4006 fd7c c0a8 057a 83ca f...</td>\n",
       "      <td>BFSSH</td>\n",
       "      <td>5363</td>\n",
       "    </tr>\n",
       "    <tr>\n",
       "      <th>3</th>\n",
       "      <td>4500 0034 0000 4000 4006 fd7c c0a8 057a 83ca f...</td>\n",
       "      <td>BFSSH</td>\n",
       "      <td>5363</td>\n",
       "    </tr>\n",
       "    <tr>\n",
       "      <th>4</th>\n",
       "      <td>4500 0034 0000 4000 4006 fd7c c0a8 057a 83ca f...</td>\n",
       "      <td>BFSSH</td>\n",
       "      <td>590</td>\n",
       "    </tr>\n",
       "    <tr>\n",
       "      <th>...</th>\n",
       "      <td>...</td>\n",
       "      <td>...</td>\n",
       "      <td>...</td>\n",
       "    </tr>\n",
       "    <tr>\n",
       "      <th>3589</th>\n",
       "      <td>4500 0034 0000 4000 4006 fd7c c0a8 057a 83ca f...</td>\n",
       "      <td>BFSSH</td>\n",
       "      <td>5363</td>\n",
       "    </tr>\n",
       "    <tr>\n",
       "      <th>3590</th>\n",
       "      <td>4500 0034 0000 4000 4006 fd7c c0a8 057a 83ca f...</td>\n",
       "      <td>BFSSH</td>\n",
       "      <td>5363</td>\n",
       "    </tr>\n",
       "    <tr>\n",
       "      <th>3591</th>\n",
       "      <td>4500 0034 0000 4000 4006 fd7c c0a8 057a 83ca f...</td>\n",
       "      <td>BFSSH</td>\n",
       "      <td>5363</td>\n",
       "    </tr>\n",
       "    <tr>\n",
       "      <th>3592</th>\n",
       "      <td>4500 0034 0000 4000 4006 fd7c c0a8 057a 83ca f...</td>\n",
       "      <td>BFSSH</td>\n",
       "      <td>5363</td>\n",
       "    </tr>\n",
       "    <tr>\n",
       "      <th>3593</th>\n",
       "      <td>4500 0034 0000 4000 4006 fd7c c0a8 057a 83ca f...</td>\n",
       "      <td>BFSSH</td>\n",
       "      <td>5363</td>\n",
       "    </tr>\n",
       "  </tbody>\n",
       "</table>\n",
       "<p>3594 rows × 3 columns</p>\n",
       "</div>"
      ],
      "text/plain": [
       "                                              raw-bytes    tag  length\n",
       "0     4500 0034 0000 4000 4006 fd7c c0a8 057a 83ca f...  BFSSH     590\n",
       "1     4500 0034 0000 4000 4006 fd7c c0a8 057a 83ca f...  BFSSH    5363\n",
       "2     4500 0034 0000 4000 4006 fd7c c0a8 057a 83ca f...  BFSSH    5363\n",
       "3     4500 0034 0000 4000 4006 fd7c c0a8 057a 83ca f...  BFSSH    5363\n",
       "4     4500 0034 0000 4000 4006 fd7c c0a8 057a 83ca f...  BFSSH     590\n",
       "...                                                 ...    ...     ...\n",
       "3589  4500 0034 0000 4000 4006 fd7c c0a8 057a 83ca f...  BFSSH    5363\n",
       "3590  4500 0034 0000 4000 4006 fd7c c0a8 057a 83ca f...  BFSSH    5363\n",
       "3591  4500 0034 0000 4000 4006 fd7c c0a8 057a 83ca f...  BFSSH    5363\n",
       "3592  4500 0034 0000 4000 4006 fd7c c0a8 057a 83ca f...  BFSSH    5363\n",
       "3593  4500 0034 0000 4000 4006 fd7c c0a8 057a 83ca f...  BFSSH    5363\n",
       "\n",
       "[3594 rows x 3 columns]"
      ]
     },
     "execution_count": 4,
     "metadata": {
      "tags": []
     },
     "output_type": "execute_result"
    }
   ],
   "source": [
    "df[df['tag']=='BFSSH']"
   ]
  },
  {
   "cell_type": "code",
   "execution_count": null,
   "metadata": {
    "colab": {
     "base_uri": "https://localhost:8080/",
     "height": 419
    },
    "colab_type": "code",
    "id": "Io271nlDSt2O",
    "outputId": "a5bad6e8-f451-4a17-b5f7-ee2a57eac3fe"
   },
   "outputs": [
    {
     "data": {
      "text/html": [
       "<div>\n",
       "<style scoped>\n",
       "    .dataframe tbody tr th:only-of-type {\n",
       "        vertical-align: middle;\n",
       "    }\n",
       "\n",
       "    .dataframe tbody tr th {\n",
       "        vertical-align: top;\n",
       "    }\n",
       "\n",
       "    .dataframe thead th {\n",
       "        text-align: right;\n",
       "    }\n",
       "</style>\n",
       "<table border=\"1\" class=\"dataframe\">\n",
       "  <thead>\n",
       "    <tr style=\"text-align: right;\">\n",
       "      <th></th>\n",
       "      <th>raw-bytes</th>\n",
       "      <th>tag</th>\n",
       "      <th>length</th>\n",
       "    </tr>\n",
       "  </thead>\n",
       "  <tbody>\n",
       "    <tr>\n",
       "      <th>3594</th>\n",
       "      <td>4500 0028 07cf 0000 8006 abcb c0a8 0375 c0a8 0...</td>\n",
       "      <td>HTTPDos</td>\n",
       "      <td>115</td>\n",
       "    </tr>\n",
       "    <tr>\n",
       "      <th>3595</th>\n",
       "      <td>4500 002c 0000 4000 4006 b08e c0a8 057a c0a8 0...</td>\n",
       "      <td>HTTPDos</td>\n",
       "      <td>230</td>\n",
       "    </tr>\n",
       "    <tr>\n",
       "      <th>3596</th>\n",
       "      <td>4500 002c 0000 4000 4006 b190 c0a8 057a c0a8 0...</td>\n",
       "      <td>HTTPDos</td>\n",
       "      <td>230</td>\n",
       "    </tr>\n",
       "    <tr>\n",
       "      <th>3597</th>\n",
       "      <td>4500 002c 0000 4000 4006 b29c c0a8 057a c0a8 0...</td>\n",
       "      <td>HTTPDos</td>\n",
       "      <td>230</td>\n",
       "    </tr>\n",
       "    <tr>\n",
       "      <th>3598</th>\n",
       "      <td>4500 0028 d6ea 0000 8006 dcb1 c0a8 0373 c0a8 0...</td>\n",
       "      <td>HTTPDos</td>\n",
       "      <td>115</td>\n",
       "    </tr>\n",
       "    <tr>\n",
       "      <th>...</th>\n",
       "      <td>...</td>\n",
       "      <td>...</td>\n",
       "      <td>...</td>\n",
       "    </tr>\n",
       "    <tr>\n",
       "      <th>6697</th>\n",
       "      <td>4500 0028 0538 0000 8006 ae62 c0a8 0375 c0a8 0...</td>\n",
       "      <td>HTTPDos</td>\n",
       "      <td>115</td>\n",
       "    </tr>\n",
       "    <tr>\n",
       "      <th>6698</th>\n",
       "      <td>4500 002c 0000 4000 4006 b197 c0a8 057a c0a8 0...</td>\n",
       "      <td>HTTPDos</td>\n",
       "      <td>460</td>\n",
       "    </tr>\n",
       "    <tr>\n",
       "      <th>6699</th>\n",
       "      <td>4500 0028 2467 0000 8006 8f36 c0a8 0372 c0a8 0...</td>\n",
       "      <td>HTTPDos</td>\n",
       "      <td>115</td>\n",
       "    </tr>\n",
       "    <tr>\n",
       "      <th>6700</th>\n",
       "      <td>4500 0028 2453 0000 8006 8f4a c0a8 0372 c0a8 0...</td>\n",
       "      <td>HTTPDos</td>\n",
       "      <td>115</td>\n",
       "    </tr>\n",
       "    <tr>\n",
       "      <th>6701</th>\n",
       "      <td>4500 0030 0000 4000 4006 b18c c0a8 057a c0a8 0...</td>\n",
       "      <td>HTTPDos</td>\n",
       "      <td>720</td>\n",
       "    </tr>\n",
       "  </tbody>\n",
       "</table>\n",
       "<p>3108 rows × 3 columns</p>\n",
       "</div>"
      ],
      "text/plain": [
       "                                              raw-bytes      tag  length\n",
       "3594  4500 0028 07cf 0000 8006 abcb c0a8 0375 c0a8 0...  HTTPDos     115\n",
       "3595  4500 002c 0000 4000 4006 b08e c0a8 057a c0a8 0...  HTTPDos     230\n",
       "3596  4500 002c 0000 4000 4006 b190 c0a8 057a c0a8 0...  HTTPDos     230\n",
       "3597  4500 002c 0000 4000 4006 b29c c0a8 057a c0a8 0...  HTTPDos     230\n",
       "3598  4500 0028 d6ea 0000 8006 dcb1 c0a8 0373 c0a8 0...  HTTPDos     115\n",
       "...                                                 ...      ...     ...\n",
       "6697  4500 0028 0538 0000 8006 ae62 c0a8 0375 c0a8 0...  HTTPDos     115\n",
       "6698  4500 002c 0000 4000 4006 b197 c0a8 057a c0a8 0...  HTTPDos     460\n",
       "6699  4500 0028 2467 0000 8006 8f36 c0a8 0372 c0a8 0...  HTTPDos     115\n",
       "6700  4500 0028 2453 0000 8006 8f4a c0a8 0372 c0a8 0...  HTTPDos     115\n",
       "6701  4500 0030 0000 4000 4006 b18c c0a8 057a c0a8 0...  HTTPDos     720\n",
       "\n",
       "[3108 rows x 3 columns]"
      ]
     },
     "execution_count": 5,
     "metadata": {
      "tags": []
     },
     "output_type": "execute_result"
    }
   ],
   "source": [
    "df[df['tag']=='HTTPDos']"
   ]
  },
  {
   "cell_type": "code",
   "execution_count": null,
   "metadata": {
    "colab": {
     "base_uri": "https://localhost:8080/",
     "height": 419
    },
    "colab_type": "code",
    "id": "2kxVkgtYS1YF",
    "outputId": "8fd8ffb4-5aad-4544-cd62-51708a010046"
   },
   "outputs": [
    {
     "data": {
      "text/html": [
       "<div>\n",
       "<style scoped>\n",
       "    .dataframe tbody tr th:only-of-type {\n",
       "        vertical-align: middle;\n",
       "    }\n",
       "\n",
       "    .dataframe tbody tr th {\n",
       "        vertical-align: top;\n",
       "    }\n",
       "\n",
       "    .dataframe thead th {\n",
       "        text-align: right;\n",
       "    }\n",
       "</style>\n",
       "<table border=\"1\" class=\"dataframe\">\n",
       "  <thead>\n",
       "    <tr style=\"text-align: right;\">\n",
       "      <th></th>\n",
       "      <th>raw-bytes</th>\n",
       "      <th>tag</th>\n",
       "      <th>length</th>\n",
       "    </tr>\n",
       "  </thead>\n",
       "  <tbody>\n",
       "    <tr>\n",
       "      <th>6702</th>\n",
       "      <td>4500 0028 0000 4000 4006 b195 c0a8 057a c0a8 0...</td>\n",
       "      <td>Infilt</td>\n",
       "      <td>230</td>\n",
       "    </tr>\n",
       "    <tr>\n",
       "      <th>6703</th>\n",
       "      <td>4500 0028 81da 0000 8006 34d7 c0a8 0165 c0a8 0...</td>\n",
       "      <td>Infilt</td>\n",
       "      <td>115</td>\n",
       "    </tr>\n",
       "    <tr>\n",
       "      <th>6704</th>\n",
       "      <td>4500 0028 bbf2 0000 8006 f9b9 c0a8 026a c0a8 0...</td>\n",
       "      <td>Infilt</td>\n",
       "      <td>115</td>\n",
       "    </tr>\n",
       "    <tr>\n",
       "      <th>6705</th>\n",
       "      <td>4500 0028 f0c6 0000 8006 c4df c0a8 0270 c0a8 0...</td>\n",
       "      <td>Infilt</td>\n",
       "      <td>115</td>\n",
       "    </tr>\n",
       "    <tr>\n",
       "      <th>6706</th>\n",
       "      <td>4500 0028 bbd5 0000 8006 f9d6 c0a8 026a c0a8 0...</td>\n",
       "      <td>Infilt</td>\n",
       "      <td>115</td>\n",
       "    </tr>\n",
       "    <tr>\n",
       "      <th>...</th>\n",
       "      <td>...</td>\n",
       "      <td>...</td>\n",
       "      <td>...</td>\n",
       "    </tr>\n",
       "    <tr>\n",
       "      <th>16112</th>\n",
       "      <td>4500 0028 4088 0000 8006 710c c0a8 057b c0a8 0...</td>\n",
       "      <td>Infilt</td>\n",
       "      <td>230</td>\n",
       "    </tr>\n",
       "    <tr>\n",
       "      <th>16113</th>\n",
       "      <td>4500 0028 f1bf 0000 8006 c3e6 c0a8 0270 c0a8 0...</td>\n",
       "      <td>Infilt</td>\n",
       "      <td>115</td>\n",
       "    </tr>\n",
       "    <tr>\n",
       "      <th>16114</th>\n",
       "      <td>4500 0028 4ddf 0000 8006 67c9 c0a8 026e c0a8 0...</td>\n",
       "      <td>Infilt</td>\n",
       "      <td>115</td>\n",
       "    </tr>\n",
       "    <tr>\n",
       "      <th>16115</th>\n",
       "      <td>4500 0028 64d6 0000 8006 50d3 c0a8 026d c0a8 0...</td>\n",
       "      <td>Infilt</td>\n",
       "      <td>115</td>\n",
       "    </tr>\n",
       "    <tr>\n",
       "      <th>16116</th>\n",
       "      <td>4500 0028 4d98 0000 8006 6810 c0a8 026e c0a8 0...</td>\n",
       "      <td>Infilt</td>\n",
       "      <td>115</td>\n",
       "    </tr>\n",
       "  </tbody>\n",
       "</table>\n",
       "<p>9415 rows × 3 columns</p>\n",
       "</div>"
      ],
      "text/plain": [
       "                                               raw-bytes     tag  length\n",
       "6702   4500 0028 0000 4000 4006 b195 c0a8 057a c0a8 0...  Infilt     230\n",
       "6703   4500 0028 81da 0000 8006 34d7 c0a8 0165 c0a8 0...  Infilt     115\n",
       "6704   4500 0028 bbf2 0000 8006 f9b9 c0a8 026a c0a8 0...  Infilt     115\n",
       "6705   4500 0028 f0c6 0000 8006 c4df c0a8 0270 c0a8 0...  Infilt     115\n",
       "6706   4500 0028 bbd5 0000 8006 f9d6 c0a8 026a c0a8 0...  Infilt     115\n",
       "...                                                  ...     ...     ...\n",
       "16112  4500 0028 4088 0000 8006 710c c0a8 057b c0a8 0...  Infilt     230\n",
       "16113  4500 0028 f1bf 0000 8006 c3e6 c0a8 0270 c0a8 0...  Infilt     115\n",
       "16114  4500 0028 4ddf 0000 8006 67c9 c0a8 026e c0a8 0...  Infilt     115\n",
       "16115  4500 0028 64d6 0000 8006 50d3 c0a8 026d c0a8 0...  Infilt     115\n",
       "16116  4500 0028 4d98 0000 8006 6810 c0a8 026e c0a8 0...  Infilt     115\n",
       "\n",
       "[9415 rows x 3 columns]"
      ]
     },
     "execution_count": 6,
     "metadata": {
      "tags": []
     },
     "output_type": "execute_result"
    }
   ],
   "source": [
    "df[df['tag']=='Infilt']"
   ]
  },
  {
   "cell_type": "code",
   "execution_count": null,
   "metadata": {
    "colab": {
     "base_uri": "https://localhost:8080/",
     "height": 419
    },
    "colab_type": "code",
    "id": "1ViRNidrS-1Y",
    "outputId": "2559feda-5a86-4fb0-a553-200331dcf6ff"
   },
   "outputs": [
    {
     "data": {
      "text/html": [
       "<div>\n",
       "<style scoped>\n",
       "    .dataframe tbody tr th:only-of-type {\n",
       "        vertical-align: middle;\n",
       "    }\n",
       "\n",
       "    .dataframe tbody tr th {\n",
       "        vertical-align: top;\n",
       "    }\n",
       "\n",
       "    .dataframe thead th {\n",
       "        text-align: right;\n",
       "    }\n",
       "</style>\n",
       "<table border=\"1\" class=\"dataframe\">\n",
       "  <thead>\n",
       "    <tr style=\"text-align: right;\">\n",
       "      <th></th>\n",
       "      <th>raw-bytes</th>\n",
       "      <th>tag</th>\n",
       "      <th>length</th>\n",
       "    </tr>\n",
       "  </thead>\n",
       "  <tbody>\n",
       "    <tr>\n",
       "      <th>16117</th>\n",
       "      <td>4500 0030 675d 4000 ef06 8deb 42eb 8f76 c0a8 0...</td>\n",
       "      <td>Normal</td>\n",
       "      <td>6728</td>\n",
       "    </tr>\n",
       "    <tr>\n",
       "      <th>16118</th>\n",
       "      <td>4500 0030 e3dd 4000 3706 07c7 4136 51cc c0a8 0...</td>\n",
       "      <td>Normal</td>\n",
       "      <td>13890</td>\n",
       "    </tr>\n",
       "    <tr>\n",
       "      <th>16119</th>\n",
       "      <td>45a0 0030 0000 4000 2906 442b 3dd5 0c10 c0a8 0...</td>\n",
       "      <td>Normal</td>\n",
       "      <td>1648</td>\n",
       "    </tr>\n",
       "    <tr>\n",
       "      <th>16120</th>\n",
       "      <td>4500 0030 0000 4000 3206 1f58 3ec5 289d c0a8 0...</td>\n",
       "      <td>Normal</td>\n",
       "      <td>1933</td>\n",
       "    </tr>\n",
       "    <tr>\n",
       "      <th>16121</th>\n",
       "      <td>4500 0030 0000 4000 3206 c3b8 4314 7ee3 c0a8 0...</td>\n",
       "      <td>Normal</td>\n",
       "      <td>4345</td>\n",
       "    </tr>\n",
       "    <tr>\n",
       "      <th>...</th>\n",
       "      <td>...</td>\n",
       "      <td>...</td>\n",
       "      <td>...</td>\n",
       "    </tr>\n",
       "    <tr>\n",
       "      <th>26759</th>\n",
       "      <td>4500 0030 1d1c 4000 f206 f6f1 0447 ad59 c0a8 0...</td>\n",
       "      <td>Normal</td>\n",
       "      <td>9346</td>\n",
       "    </tr>\n",
       "    <tr>\n",
       "      <th>26760</th>\n",
       "      <td>4500 0030 c7a7 4000 3706 2495 4136 5134 c0a8 0...</td>\n",
       "      <td>Normal</td>\n",
       "      <td>863</td>\n",
       "    </tr>\n",
       "    <tr>\n",
       "      <th>26761</th>\n",
       "      <td>4500 0030 09a0 4000 f206 0a6e 0447 ad59 c0a8 0...</td>\n",
       "      <td>Normal</td>\n",
       "      <td>5095</td>\n",
       "    </tr>\n",
       "    <tr>\n",
       "      <th>26762</th>\n",
       "      <td>4500 002c 0a82 0000 f006 eb16 3ff5 d120 c0a8 0...</td>\n",
       "      <td>Normal</td>\n",
       "      <td>5133</td>\n",
       "    </tr>\n",
       "    <tr>\n",
       "      <th>26763</th>\n",
       "      <td>4500 0030 0000 4000 2d06 7633 3e8c d5f3 c0a8 0...</td>\n",
       "      <td>Normal</td>\n",
       "      <td>5313</td>\n",
       "    </tr>\n",
       "  </tbody>\n",
       "</table>\n",
       "<p>10647 rows × 3 columns</p>\n",
       "</div>"
      ],
      "text/plain": [
       "                                               raw-bytes     tag  length\n",
       "16117  4500 0030 675d 4000 ef06 8deb 42eb 8f76 c0a8 0...  Normal    6728\n",
       "16118  4500 0030 e3dd 4000 3706 07c7 4136 51cc c0a8 0...  Normal   13890\n",
       "16119  45a0 0030 0000 4000 2906 442b 3dd5 0c10 c0a8 0...  Normal    1648\n",
       "16120  4500 0030 0000 4000 3206 1f58 3ec5 289d c0a8 0...  Normal    1933\n",
       "16121  4500 0030 0000 4000 3206 c3b8 4314 7ee3 c0a8 0...  Normal    4345\n",
       "...                                                  ...     ...     ...\n",
       "26759  4500 0030 1d1c 4000 f206 f6f1 0447 ad59 c0a8 0...  Normal    9346\n",
       "26760  4500 0030 c7a7 4000 3706 2495 4136 5134 c0a8 0...  Normal     863\n",
       "26761  4500 0030 09a0 4000 f206 0a6e 0447 ad59 c0a8 0...  Normal    5095\n",
       "26762  4500 002c 0a82 0000 f006 eb16 3ff5 d120 c0a8 0...  Normal    5133\n",
       "26763  4500 0030 0000 4000 2d06 7633 3e8c d5f3 c0a8 0...  Normal    5313\n",
       "\n",
       "[10647 rows x 3 columns]"
      ]
     },
     "execution_count": 7,
     "metadata": {
      "tags": []
     },
     "output_type": "execute_result"
    }
   ],
   "source": [
    "df[df['tag']=='Normal']"
   ]
  },
  {
   "cell_type": "code",
   "execution_count": 3,
   "metadata": {
    "colab": {
     "base_uri": "https://localhost:8080/",
     "height": 71
    },
    "colab_type": "code",
    "id": "YKS3DhiXP_0o",
    "outputId": "a0a1ff1d-b138-4691-d8d1-45093802a80e"
   },
   "outputs": [],
   "source": [
    "df['target'] = df['tag'].map({'Normal': 0, 'Infilt': 1, 'BFSSH': 2, 'HTTPDos':3})\n",
    "\n",
    "data = df['raw-bytes'].to_numpy()\n",
    "targets = df['target'].to_numpy()\n",
    "\n",
    "all_text = ' '.join(data)\n",
    "all_words = all_text.split()\n",
    "\n",
    "from collections import Counter\n",
    "counts = Counter(all_words)\n",
    "vocab = sorted(counts, key=counts.get, reverse=True)\n",
    "print('vocab length: ', len(vocab))\n",
    "\n",
    "vocab_to_int = {word:i for i, word in enumerate(vocab[:10000], 1)}\n",
    "\n",
    "pickle.dump(vocab_to_int, open('/content/drive/My Drive/Colab Notebooks/datasets/vocab_to_int.p', \"wb\"))\n",
    "\n",
    "print('Vocab to Int save to drive')\n",
    "\n",
    "limit_bytes_as_vocab = []\n",
    "for raw in data:\n",
    "    limit_bytes_as_vocab.append([word if word in vocab_to_int else 'unkown' for word in raw.split()])\n",
    "print('Process Complete')"
   ]
  },
  {
   "cell_type": "code",
   "execution_count": null,
   "metadata": {
    "colab": {},
    "colab_type": "code",
    "id": "0jUL3tJsUzta"
   },
   "outputs": [],
   "source": [
    "# Trim the larger rows to 1200 size\n",
    "\n",
    "'Lets add the 0 padding to the datasets for training the word2vec model'\n",
    "text_data = []\n",
    "for i, line in enumerate(limit_bytes_as_vocab):\n",
    "  text_list = line\n",
    "  if len(text_list)<1200:\n",
    "    text_list.extend(['0']*(1200-len(text_list)))\n",
    "    text_data.append(text_list)\n",
    "  else:\n",
    "    text_data.append(text_list[:1200])"
   ]
  },
  {
   "cell_type": "code",
   "execution_count": null,
   "metadata": {
    "colab": {
     "base_uri": "https://localhost:8080/",
     "height": 89
    },
    "colab_type": "code",
    "id": "56RY0oFFQIyX",
    "outputId": "8ec44a7d-7975-43c2-c682-7cbdcfeccf6e"
   },
   "outputs": [
    {
     "name": "stdout",
     "output_type": "stream",
     "text": [
      "Len of train data:  24244\n",
      "Len of test data:  2520\n",
      "train_y:  (24243, 1)\n",
      "test_y:  (2520, 1)\n"
     ]
    }
   ],
   "source": [
    "# targets = df['target']\n",
    "targets = targets.reshape(-1, 1)\n",
    "\n",
    "test_index=[]\n",
    "normal=np.random.choice(range(16117, 26763), 1000)\n",
    "test_index.extend(set(normal))\n",
    "\n",
    "Inflit=np.random.choice(range(6702, 16116), 900)\n",
    "test_index.extend(set(Inflit))\n",
    "\n",
    "http=np.random.choice(range(3594, 6701), 400)\n",
    "test_index.extend(set(http))\n",
    "\n",
    "bfssh=np.random.choice(range(0, 3593), 350)\n",
    "test_index.extend(set(bfssh))\n",
    "\n",
    "len(test_index)\n",
    "\n",
    "train_x = []\n",
    "test_x = []\n",
    "\n",
    "for i in range(26764):\n",
    "  if i in test_index:\n",
    "    test_x.append(text_data[i])\n",
    "  else:\n",
    "    train_x.append(text_data[i])\n",
    "\n",
    "\n",
    "train_y = targets[list(set(range(0, 26763)).symmetric_difference(set(test_index))), :]\n",
    "test_y = targets[test_index, :]\n",
    "# print('test_x: ', test_x.shape)\n",
    "# print('train_x: ', train_x.shape)\n",
    "print('Len of train data: ', len(train_x))\n",
    "print('Len of test data: ', len(test_x))\n",
    "print('train_y: ', train_y.shape)\n",
    "print('test_y: ', test_y.shape)"
   ]
  },
  {
   "cell_type": "code",
   "execution_count": null,
   "metadata": {
    "colab": {},
    "colab_type": "code",
    "id": "MLXb7PmgQWD2"
   },
   "outputs": [],
   "source": [
    "import torch \n",
    "import torch.nn as nn\n",
    "import torch.nn.functional as F"
   ]
  },
  {
   "cell_type": "code",
   "execution_count": 5,
   "metadata": {
    "colab": {},
    "colab_type": "code",
    "id": "3wbYitPLQh_k"
   },
   "outputs": [],
   "source": [
    "class lstm_block(nn.Module):\n",
    "\n",
    "    def __init__(self, embedding_model, in_channels=1000, hidden_dim=512, hidden_dim2=256, num_payers=2, out_channels=4):\n",
    "        super(lstm_block, self).__init__()\n",
    "\n",
    "        self.embds = embedding_model\n",
    "\n",
    "        self.lstm1 = nn.LSTM(in_channels, hidden_dim, num_payers, batch_first=True, dropout=0.4)\n",
    "        self.lstm2 = nn.LSTM(hidden_dim, hidden_dim2, num_payers, batch_first=True, dropout=0.4)\n",
    "\n",
    "        self.fc1 = nn.Linear(hidden_dim2, out_channels)\n",
    "\n",
    "    def forward(self, x):\n",
    "\n",
    "        out = self.embds[x]\n",
    "        out = torch.FloatTensor(out)\n",
    "        out = out.view(1,300, -1)\n",
    "\n",
    "        out, hn = self.lstm1(out)\n",
    "        \n",
    "        out, hn2 = self.lstm2(out)\n",
    "        \n",
    "        out = out[:, -1, :]\n",
    "        out = out.view(1, -1)\n",
    "        out = self.fc1(out)\n",
    "        \n",
    "        return out"
   ]
  },
  {
   "cell_type": "code",
   "execution_count": null,
   "metadata": {
    "colab": {
     "base_uri": "https://localhost:8080/",
     "height": 163
    },
    "colab_type": "code",
    "id": "cuPOcSAtfnsT",
    "outputId": "c530ee8b-09f8-4ae0-fa51-3690a36be329"
   },
   "outputs": [
    {
     "name": "stderr",
     "output_type": "stream",
     "text": [
      "/usr/local/lib/python3.6/dist-packages/smart_open/smart_open_lib.py:254: UserWarning: This function is deprecated, use smart_open.open instead. See the migration notes for details: https://github.com/RaRe-Technologies/smart_open/blob/master/README.rst#migrating-to-the-new-open-function\n",
      "  'See the migration notes for details: %s' % _MIGRATION_NOTES_URL\n"
     ]
    },
    {
     "name": "stdout",
     "output_type": "stream",
     "text": [
      "\n",
      "\n",
      "LOSS OF LAST EPOCH\n",
      "\n"
     ]
    },
    {
     "data": {
      "text/plain": [
       "0.0"
      ]
     },
     "execution_count": 15,
     "metadata": {
      "tags": []
     },
     "output_type": "execute_result"
    }
   ],
   "source": [
    "embedding_model = Word2Vec.load('/content/drive/My Drive/Colab Notebooks/datasets/train-word2vec-model.model')\n",
    "\n",
    "print('\\n\\nLOSS OF LAST EPOCH\\n')\n",
    "embedding_model.get_latest_training_loss()\n",
    "# embedding_model.wv.vocab\n",
    "# embedding_model.wv.index2entity"
   ]
  },
  {
   "cell_type": "code",
   "execution_count": null,
   "metadata": {
    "colab": {
     "base_uri": "https://localhost:8080/",
     "height": 107
    },
    "colab_type": "code",
    "id": "3H8Hn1qLQol9",
    "outputId": "04317623-b270-450e-e6e7-49e2afd06676"
   },
   "outputs": [
    {
     "name": "stdout",
     "output_type": "stream",
     "text": [
      "lstm_block(\n",
      "  (lstm1): LSTM(1200, 512, num_layers=2, batch_first=True, dropout=0.4)\n",
      "  (lstm2): LSTM(512, 256, num_layers=2, batch_first=True, dropout=0.4)\n",
      "  (fc1): Linear(in_features=256, out_features=4, bias=True)\n",
      ")\n"
     ]
    }
   ],
   "source": [
    "output_size = 4\n",
    "embedding_dim = 1200\n",
    "hidden_dim = 256\n",
    "n_layers = 2\n",
    "model = lstm_block(embedding_model, in_channels=1200, hidden_dim=512, hidden_dim2=256, num_payers=2, out_channels=4)\n",
    "\n",
    "print(model)"
   ]
  },
  {
   "cell_type": "code",
   "execution_count": null,
   "metadata": {
    "colab": {},
    "colab_type": "code",
    "id": "5_3ljlLgQuO5"
   },
   "outputs": [],
   "source": [
    "lr=0.01\n",
    "\n",
    "criterion = nn.CrossEntropyLoss()\n",
    "optimizer = torch.optim.Adam(model.parameters(), lr=lr)"
   ]
  },
  {
   "cell_type": "code",
   "execution_count": null,
   "metadata": {
    "colab": {},
    "colab_type": "code",
    "id": "hBjmJKd5Qvp-"
   },
   "outputs": [],
   "source": [
    "def train_model(model, n_epochs,train_data,target_data,test_data_x, test_data_y, optimizer):\n",
    "    \n",
    "    #global variable \n",
    "    N_test=len(test_data_x)\n",
    "    accuracy_list=[]\n",
    "    loss_list=[]\n",
    "\n",
    "    for epoch in range(n_epochs):\n",
    "        total_loss = 0\n",
    "        count = 0\n",
    "        for x, y in zip(train_data, target_data):\n",
    "            model.train()\n",
    "            count +=1\n",
    "            optimizer.zero_grad()\n",
    "            \n",
    "            z = model(x)\n",
    "            loss = criterion(z, torch.LongTensor(y))\n",
    "            loss.backward()\n",
    "            optimizer.step()\n",
    "            total_loss += loss.item()\n",
    "            if count%100==0:\n",
    "              print('Epoch: ',epoch,'Row Number', count, ' Loss: ', total_loss/count)\n",
    "        \n",
    "        print('\\n')    \n",
    "        loss_list.append(total_loss/len(train_data))\n",
    "        \n",
    "\n",
    "        correct=0\n",
    "        #perform a prediction on the test  data  \n",
    "        for x_test, y_test in zip(test_data_x, test_data_y):\n",
    "            model.eval()\n",
    "            z = model(x_test)\n",
    "            _, yhat = torch.max(z.data, 1)\n",
    "            correct += (yhat == torch.LongTensor(y_test)).sum().item()\n",
    "        accuracy = correct / N_test\n",
    "        accuracy_list.append(accuracy)\n",
    "        print('Epoch: ', epoch, 'Loss: ', total_loss/len(train_data), 'Accuracy: ', accuracy)\n",
    "     \n",
    "    return accuracy_list, loss_list"
   ]
  },
  {
   "cell_type": "code",
   "execution_count": 6,
   "metadata": {
    "colab": {
     "base_uri": "https://localhost:8080/",
     "height": 1000
    },
    "colab_type": "code",
    "id": "KBug_lw8Q2ib",
    "outputId": "175404f0-c8d9-4c3c-88a0-2f9ea672d27a"
   },
   "outputs": [],
   "source": [
    "accuracy_list_normal, loss_list_normal=train_model(model=model,n_epochs=2,train_data=train_x,target_data=train_y, test_data_x= test_x[:10], test_data_y=test_y[:10], optimizer=optimizer)\n",
    "print('Finished')\n",
    "\n",
    "# Plot the accuracy and loss\n",
    "plt.plot(accuracy_list_normal, 'b', label='Accuracy ')\n",
    "plt.plot(loss_list_normal, 'r', label='loss')\n",
    "plt.xlabel('Iteration')\n",
    "plt.title(\"Loss\")\n",
    "plt.legend()"
   ]
  },
  {
   "cell_type": "code",
   "execution_count": null,
   "metadata": {},
   "outputs": [],
   "source": []
  }
 ],
 "metadata": {
  "accelerator": "GPU",
  "colab": {
   "name": "Using Word2Vec Embedding-vocab1000-Feature1000.ipynb",
   "provenance": []
  },
  "kernelspec": {
   "display_name": "Python 3",
   "language": "python",
   "name": "python3"
  },
  "language_info": {
   "codemirror_mode": {
    "name": "ipython",
    "version": 3
   },
   "file_extension": ".py",
   "mimetype": "text/x-python",
   "name": "python",
   "nbconvert_exporter": "python",
   "pygments_lexer": "ipython3",
   "version": "3.8.0"
  }
 },
 "nbformat": 4,
 "nbformat_minor": 1
}
