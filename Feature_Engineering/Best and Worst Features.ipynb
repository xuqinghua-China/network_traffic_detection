{
 "cells": [
  {
   "cell_type": "code",
   "execution_count": 1,
   "metadata": {},
   "outputs": [
    {
     "name": "stderr",
     "output_type": "stream",
     "text": [
      "/home/ramesh/anaconda3/lib/python3.8/site-packages/sklearn/utils/deprecation.py:144: FutureWarning: The sklearn.ensemble.forest module is  deprecated in version 0.22 and will be removed in version 0.24. The corresponding classes / functions should instead be imported from sklearn.ensemble. Anything that cannot be imported from sklearn.ensemble is now part of the private API.\n",
      "  warnings.warn(message, FutureWarning)\n"
     ]
    }
   ],
   "source": [
    "import pandas as pd\n",
    "import numpy as np\n",
    "\n",
    "from sklearn.tree import DecisionTreeClassifier\n",
    "from sklearn.ensemble import RandomForestClassifier\n",
    "from sklearn.linear_model import LinearRegression\n",
    "from sklearn.linear_model import LogisticRegression\n",
    "from sklearn.tree import DecisionTreeRegressor\n",
    "from sklearn.tree import DecisionTreeClassifier\n",
    "from sklearn.ensemble import RandomForestRegressor\n",
    "from sklearn.ensemble import RandomForestClassifier\n",
    "from xgboost import XGBClassifier\n",
    "\n",
    "\n",
    "from matplotlib import pyplot as plt\n",
    "\n",
    "from sklearn.inspection import permutation_importance\n",
    "from sklearn.feature_selection import SelectPercentile, f_classif\n",
    "from sklearn.feature_selection import RFE\n",
    "from sklearn.model_selection import train_test_split\n",
    "from sklearn.metrics import accuracy_score\n",
    "from sklearn.metrics import r2_score\n",
    "from rfpimp import permutation_importances\n"
   ]
  },
  {
   "cell_type": "code",
   "execution_count": 2,
   "metadata": {},
   "outputs": [],
   "source": [
    "# NSL-KDD datasets\n",
    "df = pd.read_csv('NSL-KDD/KDDTrain+.txt', sep=',')\n",
    "df.columns = ['duration', 'protocol_type', 'service', 'flag', 'src_bytes',\n",
    "       'dst_bytes', 'land', 'wrong_fragment', 'urgent', 'hot',\n",
    "       'num_failed_logins', 'logged_in', 'num_compromised', 'root_shell',\n",
    "       'su_attempted', 'num_root', 'num_file_creations', 'num_shells',\n",
    "       'num_access_files', 'num_outbound_cmds', 'is_host_login',\n",
    "       'is_guest_login', 'count', 'srv_count', 'serror_rate',\n",
    "       'srv_serror_rate', 'rerror_rate', 'srv_rerror_rate', 'same_srv_rate',\n",
    "       'diff_srv_rate', 'srv_diff_host_rate', 'dst_host_count',\n",
    "       'dst_host_srv_count', 'dst_host_same_srv_rate',\n",
    "       'dst_host_diff_srv_rate', 'dst_host_same_src_port_rate',\n",
    "       'dst_host_srv_diff_host_rate', 'dst_host_serror_rate',\n",
    "       'dst_host_srv_serror_rate', 'dst_host_rerror_rate',\n",
    "       'dst_host_srv_rerror_rate', 'labels', 'difficulty']\n",
    "\n",
    "protocols = df.protocol_type.value_counts()\n",
    "protocols_map = {}\n",
    "for i, (prop, count) in enumerate(protocols.items()):\n",
    "    protocols_map[prop] = i\n",
    "df.protocol_type = df.protocol_type.map(protocols_map)\n",
    "\n",
    "services = df.service.value_counts()\n",
    "service_map = {}\n",
    "for i, (ser, count) in enumerate(services.items()):\n",
    "    service_map[ser] = i\n",
    "df.service = df.service.map(service_map)\n",
    "\n",
    "flag_map = {}\n",
    "flags = df.flag.value_counts()\n",
    "for i, (flag, count) in enumerate(flags.items()):\n",
    "    flag_map[flag] = i\n",
    "df.flag = df.flag.map(flag_map)\n",
    "\n",
    "df['targets'] = df.labels.replace({ 'normal' : 0, 'neptune' : 1 ,'back': 1, 'land': 1, 'pod': 1, 'smurf': 1, 'teardrop': 1,'mailbomb': 1, 'apache2': 1, 'processtable': 1, 'udpstorm': 1, 'worm': 1,\n",
    "                           'ipsweep' : 2,'nmap' : 2,'portsweep' : 2,'satan' : 2,'mscan' : 2,'saint' : 2\n",
    "                           ,'ftp_write': 3,'guess_passwd': 3,'imap': 3,'multihop': 3,'phf': 3,'spy': 3,'warezclient': 3,'warezmaster': 3,'sendmail': 3,'named': 3,'snmpgetattack': 3,'snmpguess': 3,'xlock': 3,'xsnoop': 3,'httptunnel': 3,\n",
    "                           'buffer_overflow': 4,'loadmodule': 4,'perl': 4,'rootkit': 4,'ps': 4,'sqlattack': 4,'xterm': 4})\n",
    "\n",
    "df['targets'] = df.targets.astype(int)"
   ]
  },
  {
   "cell_type": "code",
   "execution_count": 3,
   "metadata": {},
   "outputs": [
    {
     "data": {
      "text/html": [
       "<div>\n",
       "<style scoped>\n",
       "    .dataframe tbody tr th:only-of-type {\n",
       "        vertical-align: middle;\n",
       "    }\n",
       "\n",
       "    .dataframe tbody tr th {\n",
       "        vertical-align: top;\n",
       "    }\n",
       "\n",
       "    .dataframe thead th {\n",
       "        text-align: right;\n",
       "    }\n",
       "</style>\n",
       "<table border=\"1\" class=\"dataframe\">\n",
       "  <thead>\n",
       "    <tr style=\"text-align: right;\">\n",
       "      <th></th>\n",
       "      <th>duration</th>\n",
       "      <th>protocol_type</th>\n",
       "      <th>service</th>\n",
       "      <th>flag</th>\n",
       "      <th>src_bytes</th>\n",
       "      <th>dst_bytes</th>\n",
       "      <th>land</th>\n",
       "      <th>wrong_fragment</th>\n",
       "      <th>urgent</th>\n",
       "      <th>hot</th>\n",
       "      <th>...</th>\n",
       "      <th>dst_host_diff_srv_rate</th>\n",
       "      <th>dst_host_same_src_port_rate</th>\n",
       "      <th>dst_host_srv_diff_host_rate</th>\n",
       "      <th>dst_host_serror_rate</th>\n",
       "      <th>dst_host_srv_serror_rate</th>\n",
       "      <th>dst_host_rerror_rate</th>\n",
       "      <th>dst_host_srv_rerror_rate</th>\n",
       "      <th>labels</th>\n",
       "      <th>difficulty</th>\n",
       "      <th>targets</th>\n",
       "    </tr>\n",
       "  </thead>\n",
       "  <tbody>\n",
       "    <tr>\n",
       "      <th>0</th>\n",
       "      <td>0</td>\n",
       "      <td>1</td>\n",
       "      <td>6</td>\n",
       "      <td>0</td>\n",
       "      <td>146</td>\n",
       "      <td>0</td>\n",
       "      <td>0</td>\n",
       "      <td>0</td>\n",
       "      <td>0</td>\n",
       "      <td>0</td>\n",
       "      <td>...</td>\n",
       "      <td>0.60</td>\n",
       "      <td>0.88</td>\n",
       "      <td>0.00</td>\n",
       "      <td>0.00</td>\n",
       "      <td>0.00</td>\n",
       "      <td>0.00</td>\n",
       "      <td>0.00</td>\n",
       "      <td>normal</td>\n",
       "      <td>15</td>\n",
       "      <td>0</td>\n",
       "    </tr>\n",
       "    <tr>\n",
       "      <th>1</th>\n",
       "      <td>0</td>\n",
       "      <td>0</td>\n",
       "      <td>1</td>\n",
       "      <td>1</td>\n",
       "      <td>0</td>\n",
       "      <td>0</td>\n",
       "      <td>0</td>\n",
       "      <td>0</td>\n",
       "      <td>0</td>\n",
       "      <td>0</td>\n",
       "      <td>...</td>\n",
       "      <td>0.05</td>\n",
       "      <td>0.00</td>\n",
       "      <td>0.00</td>\n",
       "      <td>1.00</td>\n",
       "      <td>1.00</td>\n",
       "      <td>0.00</td>\n",
       "      <td>0.00</td>\n",
       "      <td>neptune</td>\n",
       "      <td>19</td>\n",
       "      <td>1</td>\n",
       "    </tr>\n",
       "    <tr>\n",
       "      <th>2</th>\n",
       "      <td>0</td>\n",
       "      <td>0</td>\n",
       "      <td>0</td>\n",
       "      <td>0</td>\n",
       "      <td>232</td>\n",
       "      <td>8153</td>\n",
       "      <td>0</td>\n",
       "      <td>0</td>\n",
       "      <td>0</td>\n",
       "      <td>0</td>\n",
       "      <td>...</td>\n",
       "      <td>0.00</td>\n",
       "      <td>0.03</td>\n",
       "      <td>0.04</td>\n",
       "      <td>0.03</td>\n",
       "      <td>0.01</td>\n",
       "      <td>0.00</td>\n",
       "      <td>0.01</td>\n",
       "      <td>normal</td>\n",
       "      <td>21</td>\n",
       "      <td>0</td>\n",
       "    </tr>\n",
       "    <tr>\n",
       "      <th>3</th>\n",
       "      <td>0</td>\n",
       "      <td>0</td>\n",
       "      <td>0</td>\n",
       "      <td>0</td>\n",
       "      <td>199</td>\n",
       "      <td>420</td>\n",
       "      <td>0</td>\n",
       "      <td>0</td>\n",
       "      <td>0</td>\n",
       "      <td>0</td>\n",
       "      <td>...</td>\n",
       "      <td>0.00</td>\n",
       "      <td>0.00</td>\n",
       "      <td>0.00</td>\n",
       "      <td>0.00</td>\n",
       "      <td>0.00</td>\n",
       "      <td>0.00</td>\n",
       "      <td>0.00</td>\n",
       "      <td>normal</td>\n",
       "      <td>21</td>\n",
       "      <td>0</td>\n",
       "    </tr>\n",
       "    <tr>\n",
       "      <th>4</th>\n",
       "      <td>0</td>\n",
       "      <td>0</td>\n",
       "      <td>1</td>\n",
       "      <td>2</td>\n",
       "      <td>0</td>\n",
       "      <td>0</td>\n",
       "      <td>0</td>\n",
       "      <td>0</td>\n",
       "      <td>0</td>\n",
       "      <td>0</td>\n",
       "      <td>...</td>\n",
       "      <td>0.07</td>\n",
       "      <td>0.00</td>\n",
       "      <td>0.00</td>\n",
       "      <td>0.00</td>\n",
       "      <td>0.00</td>\n",
       "      <td>1.00</td>\n",
       "      <td>1.00</td>\n",
       "      <td>neptune</td>\n",
       "      <td>21</td>\n",
       "      <td>1</td>\n",
       "    </tr>\n",
       "    <tr>\n",
       "      <th>...</th>\n",
       "      <td>...</td>\n",
       "      <td>...</td>\n",
       "      <td>...</td>\n",
       "      <td>...</td>\n",
       "      <td>...</td>\n",
       "      <td>...</td>\n",
       "      <td>...</td>\n",
       "      <td>...</td>\n",
       "      <td>...</td>\n",
       "      <td>...</td>\n",
       "      <td>...</td>\n",
       "      <td>...</td>\n",
       "      <td>...</td>\n",
       "      <td>...</td>\n",
       "      <td>...</td>\n",
       "      <td>...</td>\n",
       "      <td>...</td>\n",
       "      <td>...</td>\n",
       "      <td>...</td>\n",
       "      <td>...</td>\n",
       "      <td>...</td>\n",
       "    </tr>\n",
       "    <tr>\n",
       "      <th>125967</th>\n",
       "      <td>0</td>\n",
       "      <td>0</td>\n",
       "      <td>1</td>\n",
       "      <td>1</td>\n",
       "      <td>0</td>\n",
       "      <td>0</td>\n",
       "      <td>0</td>\n",
       "      <td>0</td>\n",
       "      <td>0</td>\n",
       "      <td>0</td>\n",
       "      <td>...</td>\n",
       "      <td>0.06</td>\n",
       "      <td>0.00</td>\n",
       "      <td>0.00</td>\n",
       "      <td>1.00</td>\n",
       "      <td>1.00</td>\n",
       "      <td>0.00</td>\n",
       "      <td>0.00</td>\n",
       "      <td>neptune</td>\n",
       "      <td>20</td>\n",
       "      <td>1</td>\n",
       "    </tr>\n",
       "    <tr>\n",
       "      <th>125968</th>\n",
       "      <td>8</td>\n",
       "      <td>1</td>\n",
       "      <td>1</td>\n",
       "      <td>0</td>\n",
       "      <td>105</td>\n",
       "      <td>145</td>\n",
       "      <td>0</td>\n",
       "      <td>0</td>\n",
       "      <td>0</td>\n",
       "      <td>0</td>\n",
       "      <td>...</td>\n",
       "      <td>0.01</td>\n",
       "      <td>0.01</td>\n",
       "      <td>0.00</td>\n",
       "      <td>0.00</td>\n",
       "      <td>0.00</td>\n",
       "      <td>0.00</td>\n",
       "      <td>0.00</td>\n",
       "      <td>normal</td>\n",
       "      <td>21</td>\n",
       "      <td>0</td>\n",
       "    </tr>\n",
       "    <tr>\n",
       "      <th>125969</th>\n",
       "      <td>0</td>\n",
       "      <td>0</td>\n",
       "      <td>3</td>\n",
       "      <td>0</td>\n",
       "      <td>2231</td>\n",
       "      <td>384</td>\n",
       "      <td>0</td>\n",
       "      <td>0</td>\n",
       "      <td>0</td>\n",
       "      <td>0</td>\n",
       "      <td>...</td>\n",
       "      <td>0.06</td>\n",
       "      <td>0.00</td>\n",
       "      <td>0.00</td>\n",
       "      <td>0.72</td>\n",
       "      <td>0.00</td>\n",
       "      <td>0.01</td>\n",
       "      <td>0.00</td>\n",
       "      <td>normal</td>\n",
       "      <td>18</td>\n",
       "      <td>0</td>\n",
       "    </tr>\n",
       "    <tr>\n",
       "      <th>125970</th>\n",
       "      <td>0</td>\n",
       "      <td>0</td>\n",
       "      <td>40</td>\n",
       "      <td>1</td>\n",
       "      <td>0</td>\n",
       "      <td>0</td>\n",
       "      <td>0</td>\n",
       "      <td>0</td>\n",
       "      <td>0</td>\n",
       "      <td>0</td>\n",
       "      <td>...</td>\n",
       "      <td>0.05</td>\n",
       "      <td>0.00</td>\n",
       "      <td>0.00</td>\n",
       "      <td>1.00</td>\n",
       "      <td>1.00</td>\n",
       "      <td>0.00</td>\n",
       "      <td>0.00</td>\n",
       "      <td>neptune</td>\n",
       "      <td>20</td>\n",
       "      <td>1</td>\n",
       "    </tr>\n",
       "    <tr>\n",
       "      <th>125971</th>\n",
       "      <td>0</td>\n",
       "      <td>0</td>\n",
       "      <td>4</td>\n",
       "      <td>0</td>\n",
       "      <td>151</td>\n",
       "      <td>0</td>\n",
       "      <td>0</td>\n",
       "      <td>0</td>\n",
       "      <td>0</td>\n",
       "      <td>0</td>\n",
       "      <td>...</td>\n",
       "      <td>0.03</td>\n",
       "      <td>0.30</td>\n",
       "      <td>0.00</td>\n",
       "      <td>0.00</td>\n",
       "      <td>0.00</td>\n",
       "      <td>0.00</td>\n",
       "      <td>0.00</td>\n",
       "      <td>normal</td>\n",
       "      <td>21</td>\n",
       "      <td>0</td>\n",
       "    </tr>\n",
       "  </tbody>\n",
       "</table>\n",
       "<p>125972 rows × 44 columns</p>\n",
       "</div>"
      ],
      "text/plain": [
       "        duration  protocol_type  service  flag  src_bytes  dst_bytes  land  \\\n",
       "0              0              1        6     0        146          0     0   \n",
       "1              0              0        1     1          0          0     0   \n",
       "2              0              0        0     0        232       8153     0   \n",
       "3              0              0        0     0        199        420     0   \n",
       "4              0              0        1     2          0          0     0   \n",
       "...          ...            ...      ...   ...        ...        ...   ...   \n",
       "125967         0              0        1     1          0          0     0   \n",
       "125968         8              1        1     0        105        145     0   \n",
       "125969         0              0        3     0       2231        384     0   \n",
       "125970         0              0       40     1          0          0     0   \n",
       "125971         0              0        4     0        151          0     0   \n",
       "\n",
       "        wrong_fragment  urgent  hot  ...  dst_host_diff_srv_rate  \\\n",
       "0                    0       0    0  ...                    0.60   \n",
       "1                    0       0    0  ...                    0.05   \n",
       "2                    0       0    0  ...                    0.00   \n",
       "3                    0       0    0  ...                    0.00   \n",
       "4                    0       0    0  ...                    0.07   \n",
       "...                ...     ...  ...  ...                     ...   \n",
       "125967               0       0    0  ...                    0.06   \n",
       "125968               0       0    0  ...                    0.01   \n",
       "125969               0       0    0  ...                    0.06   \n",
       "125970               0       0    0  ...                    0.05   \n",
       "125971               0       0    0  ...                    0.03   \n",
       "\n",
       "        dst_host_same_src_port_rate  dst_host_srv_diff_host_rate  \\\n",
       "0                              0.88                         0.00   \n",
       "1                              0.00                         0.00   \n",
       "2                              0.03                         0.04   \n",
       "3                              0.00                         0.00   \n",
       "4                              0.00                         0.00   \n",
       "...                             ...                          ...   \n",
       "125967                         0.00                         0.00   \n",
       "125968                         0.01                         0.00   \n",
       "125969                         0.00                         0.00   \n",
       "125970                         0.00                         0.00   \n",
       "125971                         0.30                         0.00   \n",
       "\n",
       "        dst_host_serror_rate  dst_host_srv_serror_rate  dst_host_rerror_rate  \\\n",
       "0                       0.00                      0.00                  0.00   \n",
       "1                       1.00                      1.00                  0.00   \n",
       "2                       0.03                      0.01                  0.00   \n",
       "3                       0.00                      0.00                  0.00   \n",
       "4                       0.00                      0.00                  1.00   \n",
       "...                      ...                       ...                   ...   \n",
       "125967                  1.00                      1.00                  0.00   \n",
       "125968                  0.00                      0.00                  0.00   \n",
       "125969                  0.72                      0.00                  0.01   \n",
       "125970                  1.00                      1.00                  0.00   \n",
       "125971                  0.00                      0.00                  0.00   \n",
       "\n",
       "        dst_host_srv_rerror_rate   labels  difficulty  targets  \n",
       "0                           0.00   normal          15        0  \n",
       "1                           0.00  neptune          19        1  \n",
       "2                           0.01   normal          21        0  \n",
       "3                           0.00   normal          21        0  \n",
       "4                           1.00  neptune          21        1  \n",
       "...                          ...      ...         ...      ...  \n",
       "125967                      0.00  neptune          20        1  \n",
       "125968                      0.00   normal          21        0  \n",
       "125969                      0.00   normal          18        0  \n",
       "125970                      0.00  neptune          20        1  \n",
       "125971                      0.00   normal          21        0  \n",
       "\n",
       "[125972 rows x 44 columns]"
      ]
     },
     "execution_count": 3,
     "metadata": {},
     "output_type": "execute_result"
    }
   ],
   "source": [
    "df"
   ]
  },
  {
   "cell_type": "code",
   "execution_count": 4,
   "metadata": {},
   "outputs": [],
   "source": [
    "X = df.drop(['labels', 'difficulty', 'targets'], axis=1)\n",
    "y = df['targets']"
   ]
  },
  {
   "cell_type": "code",
   "execution_count": 6,
   "metadata": {},
   "outputs": [
    {
     "data": {
      "text/plain": [
       "{0: 0,\n",
       " 1: 0,\n",
       " 2: 0,\n",
       " 3: 0,\n",
       " 4: 0,\n",
       " 5: 0,\n",
       " 6: 0,\n",
       " 7: 0,\n",
       " 8: 0,\n",
       " 9: 0,\n",
       " 10: 0,\n",
       " 11: 0,\n",
       " 12: 0,\n",
       " 13: 0,\n",
       " 14: 0,\n",
       " 15: 0,\n",
       " 16: 0,\n",
       " 17: 0,\n",
       " 18: 0,\n",
       " 19: 0,\n",
       " 20: 0,\n",
       " 21: 0,\n",
       " 22: 0,\n",
       " 23: 0,\n",
       " 24: 0,\n",
       " 25: 0,\n",
       " 26: 0,\n",
       " 27: 0,\n",
       " 28: 0,\n",
       " 29: 0,\n",
       " 30: 0,\n",
       " 31: 0,\n",
       " 32: 0,\n",
       " 33: 0,\n",
       " 34: 0,\n",
       " 35: 0,\n",
       " 36: 0,\n",
       " 37: 0,\n",
       " 38: 0,\n",
       " 39: 0,\n",
       " 40: 0}"
      ]
     },
     "execution_count": 6,
     "metadata": {},
     "output_type": "execute_result"
    }
   ],
   "source": [
    "feature_name = dict()\n",
    "feature_imp = dict()\n",
    "for i, feature in enumerate(X.columns):\n",
    "    feature_name[i] = feature\n",
    "    feature_imp[i] = 0\n",
    "feature_name\n",
    "feature_imp"
   ]
  },
  {
   "cell_type": "code",
   "execution_count": 7,
   "metadata": {},
   "outputs": [],
   "source": [
    "def get_feature_importance(model, X, y, check):\n",
    "    model.fit(X, y)\n",
    "    if check ==0:\n",
    "        importance = model.coef_\n",
    "    elif check ==1:\n",
    "        importance = model.coef_[0]\n",
    "    else:\n",
    "        importance = model.feature_importances_\n",
    "#     print(type(importance))\n",
    "    for i, val in enumerate(importance):\n",
    "        feature_imp[i] = feature_imp[i]+ round(abs(val),5)\n",
    "#     print(feature_imp)\n",
    "    print('Executed Model',check)"
   ]
  },
  {
   "cell_type": "code",
   "execution_count": 8,
   "metadata": {},
   "outputs": [
    {
     "name": "stdout",
     "output_type": "stream",
     "text": [
      "Executed Model 0\n"
     ]
    },
    {
     "name": "stderr",
     "output_type": "stream",
     "text": [
      "/home/ramesh/anaconda3/lib/python3.8/site-packages/sklearn/linear_model/_logistic.py:938: ConvergenceWarning: lbfgs failed to converge (status=1):\n",
      "STOP: TOTAL NO. of ITERATIONS REACHED LIMIT.\n",
      "\n",
      "Increase the number of iterations (max_iter) or scale the data as shown in:\n",
      "    https://scikit-learn.org/stable/modules/preprocessing.html\n",
      "Please also refer to the documentation for alternative solver options:\n",
      "    https://scikit-learn.org/stable/modules/linear_model.html#logistic-regression\n",
      "  n_iter_i = _check_optimize_result(\n"
     ]
    },
    {
     "name": "stdout",
     "output_type": "stream",
     "text": [
      "Executed Model 1\n",
      "Executed Model 2\n",
      "Executed Model 3\n",
      "Executed Model 4\n",
      "Executed Model 5\n",
      "Executed Model 6\n"
     ]
    }
   ],
   "source": [
    "model1 = LinearRegression()\n",
    "model2 = LogisticRegression()\n",
    "# get_feature_importance(model2, X, y, check=1)\n",
    "model3 = DecisionTreeRegressor()\n",
    "model4 = DecisionTreeClassifier()\n",
    "model5 = RandomForestRegressor()\n",
    "model6 = RandomForestClassifier()\n",
    "model7 = XGBClassifier()\n",
    "for i, model in enumerate([model1, model2, model3, model4, model5, model6, model7]):\n",
    "    get_feature_importance(model, X, y, check=i)"
   ]
  },
  {
   "cell_type": "code",
   "execution_count": 9,
   "metadata": {},
   "outputs": [
    {
     "data": {
      "text/plain": [
       "{0: 0.01779000004082918,\n",
       " 1: 0.45852999968826774,\n",
       " 2: 0.19111999988496303,\n",
       " 3: 0.11484000007003546,\n",
       " 4: 1.8502100012373925,\n",
       " 5: 0.16412999979704618,\n",
       " 6: 1.15294,\n",
       " 7: 0.23477999959468837,\n",
       " 8: 0.18865000000000004,\n",
       " 9: 0.1262799996507168,\n",
       " 10: 0.47961999999247495,\n",
       " 11: 0.39377000016033653,\n",
       " 12: 0.0498100001218915,\n",
       " 13: 0.8237000000098534,\n",
       " 14: 0.62306,\n",
       " 15: 0.007630000000859145,\n",
       " 16: 0.03171000000510365,\n",
       " 17: 0.19520000000106172,\n",
       " 18: 0.04577000001187437,\n",
       " 19: 0.0,\n",
       " 20: 0.67615,\n",
       " 21: 0.38204000001531097,\n",
       " 22: 0.3125800000500679,\n",
       " 23: 0.033329999632835394,\n",
       " 24: 0.22987000016629694,\n",
       " 25: 0.45968000034451484,\n",
       " 26: 0.1319499999993434,\n",
       " 27: 0.42654999998383225,\n",
       " 28: 1.1860399920463562,\n",
       " 29: 0.1683599993300438,\n",
       " 30: 0.12441000000373925,\n",
       " 31: 0.03136000000545755,\n",
       " 32: 0.11254000009484588,\n",
       " 33: 0.43416000021040446,\n",
       " 34: 0.835320000373125,\n",
       " 35: 0.913479999846518,\n",
       " 36: 1.1551899991285801,\n",
       " 37: 0.27240000028312206,\n",
       " 38: 0.4657000000626594,\n",
       " 39: 0.22221999990001323,\n",
       " 40: 0.4136999999279529}"
      ]
     },
     "execution_count": 9,
     "metadata": {},
     "output_type": "execute_result"
    }
   ],
   "source": [
    "feature_imp"
   ]
  },
  {
   "cell_type": "code",
   "execution_count": 10,
   "metadata": {},
   "outputs": [
    {
     "name": "stdout",
     "output_type": "stream",
     "text": [
      "src_bytes  :  1.8502100012373925\n",
      "same_srv_rate  :  1.1860399920463562\n",
      "dst_host_srv_diff_host_rate  :  1.1551899991285801\n",
      "land  :  1.15294\n",
      "dst_host_same_src_port_rate  :  0.913479999846518\n",
      "dst_host_diff_srv_rate  :  0.835320000373125\n",
      "root_shell  :  0.8237000000098534\n",
      "is_host_login  :  0.67615\n",
      "su_attempted  :  0.62306\n",
      "num_failed_logins  :  0.47961999999247495\n",
      "dst_host_srv_serror_rate  :  0.4657000000626594\n",
      "srv_serror_rate  :  0.45968000034451484\n",
      "protocol_type  :  0.45852999968826774\n",
      "dst_host_same_srv_rate  :  0.43416000021040446\n",
      "srv_rerror_rate  :  0.42654999998383225\n",
      "dst_host_srv_rerror_rate  :  0.4136999999279529\n",
      "logged_in  :  0.39377000016033653\n",
      "is_guest_login  :  0.38204000001531097\n",
      "count  :  0.3125800000500679\n",
      "dst_host_serror_rate  :  0.27240000028312206\n",
      "wrong_fragment  :  0.23477999959468837\n",
      "serror_rate  :  0.22987000016629694\n",
      "dst_host_rerror_rate  :  0.22221999990001323\n",
      "num_shells  :  0.19520000000106172\n",
      "service  :  0.19111999988496303\n",
      "urgent  :  0.18865000000000004\n",
      "diff_srv_rate  :  0.1683599993300438\n",
      "dst_bytes  :  0.16412999979704618\n",
      "rerror_rate  :  0.1319499999993434\n",
      "hot  :  0.1262799996507168\n",
      "srv_diff_host_rate  :  0.12441000000373925\n",
      "flag  :  0.11484000007003546\n",
      "dst_host_srv_count  :  0.11254000009484588\n",
      "num_compromised  :  0.0498100001218915\n",
      "num_access_files  :  0.04577000001187437\n",
      "srv_count  :  0.033329999632835394\n",
      "num_file_creations  :  0.03171000000510365\n",
      "dst_host_count  :  0.03136000000545755\n",
      "duration  :  0.01779000004082918\n",
      "num_root  :  0.007630000000859145\n",
      "num_outbound_cmds  :  0.0\n"
     ]
    }
   ],
   "source": [
    "list_features_importances = []\n",
    "sorted_feature_importance = sorted(feature_imp.items(), key=lambda x: x[1], reverse=True)\n",
    "for fImp in sorted_feature_importance:\n",
    "    print(feature_name[fImp[0]], ' : ', fImp[1])\n",
    "    list_features_importances.append((feature_name[fImp[0]], fImp[1]))"
   ]
  },
  {
   "cell_type": "code",
   "execution_count": 11,
   "metadata": {},
   "outputs": [
    {
     "data": {
      "text/plain": [
       "[('src_bytes', 1.8502100012373925),\n",
       " ('same_srv_rate', 1.1860399920463562),\n",
       " ('dst_host_srv_diff_host_rate', 1.1551899991285801),\n",
       " ('land', 1.15294),\n",
       " ('dst_host_same_src_port_rate', 0.913479999846518),\n",
       " ('dst_host_diff_srv_rate', 0.835320000373125),\n",
       " ('root_shell', 0.8237000000098534),\n",
       " ('is_host_login', 0.67615),\n",
       " ('su_attempted', 0.62306),\n",
       " ('num_failed_logins', 0.47961999999247495),\n",
       " ('dst_host_srv_serror_rate', 0.4657000000626594),\n",
       " ('srv_serror_rate', 0.45968000034451484),\n",
       " ('protocol_type', 0.45852999968826774),\n",
       " ('dst_host_same_srv_rate', 0.43416000021040446),\n",
       " ('srv_rerror_rate', 0.42654999998383225),\n",
       " ('dst_host_srv_rerror_rate', 0.4136999999279529),\n",
       " ('logged_in', 0.39377000016033653),\n",
       " ('is_guest_login', 0.38204000001531097),\n",
       " ('count', 0.3125800000500679),\n",
       " ('dst_host_serror_rate', 0.27240000028312206),\n",
       " ('wrong_fragment', 0.23477999959468837),\n",
       " ('serror_rate', 0.22987000016629694),\n",
       " ('dst_host_rerror_rate', 0.22221999990001323),\n",
       " ('num_shells', 0.19520000000106172)]"
      ]
     },
     "execution_count": 11,
     "metadata": {},
     "output_type": "execute_result"
    }
   ],
   "source": [
    "# best 24\n",
    "list_features_importances[:24]"
   ]
  },
  {
   "cell_type": "code",
   "execution_count": 43,
   "metadata": {},
   "outputs": [
    {
     "data": {
      "text/plain": [
       "[('urgent', 0.18865000000000004),\n",
       " ('diff_srv_rate', 0.1683599993300438),\n",
       " ('dst_bytes', 0.16412999979704618),\n",
       " ('rerror_rate', 0.1319499999993434),\n",
       " ('hot', 0.1262799996507168),\n",
       " ('srv_diff_host_rate', 0.12441000000373925),\n",
       " ('flag', 0.11484000007003546),\n",
       " ('dst_host_srv_count', 0.11254000009484588),\n",
       " ('num_compromised', 0.0498100001218915),\n",
       " ('num_access_files', 0.04577000001187437),\n",
       " ('srv_count', 0.033329999632835394),\n",
       " ('num_file_creations', 0.03171000000510365),\n",
       " ('dst_host_count', 0.03136000000545755),\n",
       " ('duration', 0.01779000004082918),\n",
       " ('num_root', 0.007630000000859145),\n",
       " ('num_outbound_cmds', 0.0)]"
      ]
     },
     "execution_count": 43,
     "metadata": {},
     "output_type": "execute_result"
    }
   ],
   "source": [
    "# worst 16\n",
    "list_features_importances[25:]"
   ]
  },
  {
   "cell_type": "code",
   "execution_count": 29,
   "metadata": {},
   "outputs": [
    {
     "data": {
      "text/plain": [
       "['src_bytes',\n",
       " 'same_srv_rate',\n",
       " 'dst_host_srv_diff_host_rate',\n",
       " 'land',\n",
       " 'dst_host_same_src_port_rate',\n",
       " 'dst_host_diff_srv_rate',\n",
       " 'root_shell',\n",
       " 'is_host_login',\n",
       " 'su_attempted',\n",
       " 'num_failed_logins',\n",
       " 'dst_host_srv_serror_rate',\n",
       " 'srv_serror_rate',\n",
       " 'protocol_type',\n",
       " 'dst_host_same_srv_rate',\n",
       " 'srv_rerror_rate',\n",
       " 'dst_host_srv_rerror_rate',\n",
       " 'logged_in',\n",
       " 'is_guest_login',\n",
       " 'count',\n",
       " 'dst_host_serror_rate',\n",
       " 'wrong_fragment',\n",
       " 'serror_rate',\n",
       " 'dst_host_rerror_rate',\n",
       " 'num_shells',\n",
       " 'service',\n",
       " 'urgent',\n",
       " 'diff_srv_rate',\n",
       " 'dst_bytes',\n",
       " 'rerror_rate',\n",
       " 'hot',\n",
       " 'srv_diff_host_rate',\n",
       " 'flag',\n",
       " 'dst_host_srv_count',\n",
       " 'num_compromised',\n",
       " 'num_access_files',\n",
       " 'srv_count',\n",
       " 'num_file_creations',\n",
       " 'dst_host_count',\n",
       " 'duration',\n",
       " 'num_root',\n",
       " 'num_outbound_cmds']"
      ]
     },
     "execution_count": 29,
     "metadata": {},
     "output_type": "execute_result"
    }
   ],
   "source": [
    "top_features_by_single = [feature[0] for feature in list_features_importances]\n",
    "top_features_by_single"
   ]
  },
  {
   "cell_type": "code",
   "execution_count": 13,
   "metadata": {},
   "outputs": [],
   "source": [
    "import matplotlib.pyplot as plt"
   ]
  },
  {
   "cell_type": "code",
   "execution_count": 14,
   "metadata": {},
   "outputs": [
    {
     "data": {
      "image/png": "[encoded data removed]",
      "text/plain": [
       "<Figure size 864x432 with 1 Axes>"
      ]
     },
     "metadata": {
      "needs_background": "light"
     },
     "output_type": "display_data"
    }
   ],
   "source": [
    "plt.figure(figsize=(12, 6))\n",
    "plt.bar(list(feature_imp.keys()), list(feature_imp.values()))\n",
    "plt.show()\n",
    "# list(feature_imp.values())"
   ]
  },
  {
   "cell_type": "markdown",
   "metadata": {},
   "source": [
    "# Premutation techniques"
   ]
  },
  {
   "cell_type": "code",
   "execution_count": 17,
   "metadata": {},
   "outputs": [],
   "source": [
    "pre_fea_imp = {}\n",
    "for i in range(41):\n",
    "    pre_fea_imp[i] = 0"
   ]
  },
  {
   "cell_type": "code",
   "execution_count": 18,
   "metadata": {},
   "outputs": [],
   "source": [
    "def get_prem_fea_imp(model, X, y):\n",
    "    model.fit(X, y)\n",
    "    results = permutation_importance(model, X, y, scoring='accuracy')\n",
    "    importance = results.importances_mean\n",
    "    for i,v in enumerate(importance):\n",
    "        pre_fea_imp[i] = pre_fea_imp[i]+round(v, 5)\n",
    "    print('Process finished')"
   ]
  },
  {
   "cell_type": "code",
   "execution_count": null,
   "metadata": {},
   "outputs": [],
   "source": []
  },
  {
   "cell_type": "code",
   "execution_count": 19,
   "metadata": {},
   "outputs": [
    {
     "name": "stdout",
     "output_type": "stream",
     "text": [
      "Process finished\n",
      "Process finished\n"
     ]
    }
   ],
   "source": [
    "model1 = DecisionTreeClassifier()\n",
    "model2 = RandomForestClassifier()\n",
    "for model in [model1, model2]:\n",
    "    get_prem_fea_imp(model, X, y)"
   ]
  },
  {
   "cell_type": "code",
   "execution_count": 20,
   "metadata": {},
   "outputs": [
    {
     "data": {
      "text/plain": [
       "{0: 0.02683,\n",
       " 1: 0.04537,\n",
       " 2: 0.03332,\n",
       " 3: 0.00667,\n",
       " 4: 0.37452,\n",
       " 5: 0.1819,\n",
       " 6: 7e-05,\n",
       " 7: 0.005399999999999999,\n",
       " 8: 5e-05,\n",
       " 9: 0.005900000000000001,\n",
       " 10: 0.00049,\n",
       " 11: 0.021920000000000002,\n",
       " 12: 0.0008500000000000001,\n",
       " 13: 0.00019,\n",
       " 14: 2e-05,\n",
       " 15: 9e-05,\n",
       " 16: 0.00018,\n",
       " 17: 4e-05,\n",
       " 18: 0.0,\n",
       " 19: 0.0,\n",
       " 20: 0.0,\n",
       " 21: 7.000000000000001e-05,\n",
       " 22: 0.044379999999999996,\n",
       " 23: 0.00393,\n",
       " 24: 0.0023,\n",
       " 25: 3e-05,\n",
       " 26: 0.01112,\n",
       " 27: 0.04748,\n",
       " 28: 0.02791,\n",
       " 29: 0.018170000000000002,\n",
       " 30: 6e-05,\n",
       " 31: 0.00754,\n",
       " 32: 0.04231,\n",
       " 33: 0.19186,\n",
       " 34: 0.01454,\n",
       " 35: 0.03272,\n",
       " 36: 0.0023399999999999996,\n",
       " 37: 0.013510000000000001,\n",
       " 38: 0.0014,\n",
       " 39: 0.005849999999999999,\n",
       " 40: 3.0000000000000004e-05}"
      ]
     },
     "execution_count": 20,
     "metadata": {},
     "output_type": "execute_result"
    }
   ],
   "source": [
    "pre_fea_imp"
   ]
  },
  {
   "cell_type": "code",
   "execution_count": 21,
   "metadata": {},
   "outputs": [
    {
     "name": "stdout",
     "output_type": "stream",
     "text": [
      "src_bytes  :  0.37452\n",
      "dst_host_same_srv_rate  :  0.19186\n",
      "dst_bytes  :  0.1819\n",
      "srv_rerror_rate  :  0.04748\n",
      "protocol_type  :  0.04537\n",
      "count  :  0.044379999999999996\n",
      "dst_host_srv_count  :  0.04231\n",
      "service  :  0.03332\n",
      "dst_host_same_src_port_rate  :  0.03272\n",
      "same_srv_rate  :  0.02791\n",
      "duration  :  0.02683\n",
      "logged_in  :  0.021920000000000002\n",
      "diff_srv_rate  :  0.018170000000000002\n",
      "dst_host_diff_srv_rate  :  0.01454\n",
      "dst_host_serror_rate  :  0.013510000000000001\n",
      "rerror_rate  :  0.01112\n",
      "dst_host_count  :  0.00754\n",
      "flag  :  0.00667\n",
      "hot  :  0.005900000000000001\n",
      "dst_host_rerror_rate  :  0.005849999999999999\n",
      "wrong_fragment  :  0.005399999999999999\n",
      "srv_count  :  0.00393\n",
      "dst_host_srv_diff_host_rate  :  0.0023399999999999996\n",
      "serror_rate  :  0.0023\n",
      "dst_host_srv_serror_rate  :  0.0014\n",
      "num_compromised  :  0.0008500000000000001\n",
      "num_failed_logins  :  0.00049\n",
      "root_shell  :  0.00019\n",
      "num_file_creations  :  0.00018\n",
      "num_root  :  9e-05\n",
      "is_guest_login  :  7.000000000000001e-05\n",
      "land  :  7e-05\n",
      "srv_diff_host_rate  :  6e-05\n",
      "urgent  :  5e-05\n",
      "num_shells  :  4e-05\n",
      "dst_host_srv_rerror_rate  :  3.0000000000000004e-05\n",
      "srv_serror_rate  :  3e-05\n",
      "su_attempted  :  2e-05\n",
      "num_access_files  :  0.0\n",
      "num_outbound_cmds  :  0.0\n",
      "is_host_login  :  0.0\n"
     ]
    }
   ],
   "source": [
    "prem_list_features_importances = []\n",
    "sorted_feature_importance = sorted(pre_fea_imp.items(), key=lambda x: x[1], reverse=True)\n",
    "for fImp in sorted_feature_importance:\n",
    "    print(feature_name[fImp[0]], ' : ', fImp[1])\n",
    "    prem_list_features_importances.append((feature_name[fImp[0]], fImp[1]))"
   ]
  },
  {
   "cell_type": "code",
   "execution_count": 23,
   "metadata": {},
   "outputs": [
    {
     "name": "stdout",
     "output_type": "stream",
     "text": [
      "('src_bytes', 1.8502100012373925)\n",
      "('same_srv_rate', 1.1860399920463562)\n",
      "('dst_host_srv_diff_host_rate', 1.1551899991285801)\n",
      "('land', 1.15294)\n",
      "('dst_host_same_src_port_rate', 0.913479999846518)\n",
      "('dst_host_diff_srv_rate', 0.835320000373125)\n",
      "('root_shell', 0.8237000000098534)\n",
      "('is_host_login', 0.67615)\n",
      "('su_attempted', 0.62306)\n",
      "('num_failed_logins', 0.47961999999247495)\n",
      "('dst_host_srv_serror_rate', 0.4657000000626594)\n",
      "('srv_serror_rate', 0.45968000034451484)\n",
      "('protocol_type', 0.45852999968826774)\n",
      "('dst_host_same_srv_rate', 0.43416000021040446)\n",
      "('srv_rerror_rate', 0.42654999998383225)\n",
      "('dst_host_srv_rerror_rate', 0.4136999999279529)\n",
      "('logged_in', 0.39377000016033653)\n",
      "('is_guest_login', 0.38204000001531097)\n",
      "('count', 0.3125800000500679)\n",
      "('dst_host_serror_rate', 0.27240000028312206)\n",
      "('wrong_fragment', 0.23477999959468837)\n",
      "('serror_rate', 0.22987000016629694)\n",
      "('dst_host_rerror_rate', 0.22221999990001323)\n",
      "('num_shells', 0.19520000000106172)\n",
      "('service', 0.19111999988496303)\n"
     ]
    }
   ],
   "source": [
    "for ll in list_features_importances[:25]:\n",
    "    print(ll)"
   ]
  },
  {
   "cell_type": "code",
   "execution_count": 30,
   "metadata": {},
   "outputs": [
    {
     "data": {
      "text/plain": [
       "['src_bytes',\n",
       " 'dst_host_same_srv_rate',\n",
       " 'dst_bytes',\n",
       " 'srv_rerror_rate',\n",
       " 'protocol_type',\n",
       " 'count',\n",
       " 'dst_host_srv_count',\n",
       " 'service',\n",
       " 'dst_host_same_src_port_rate',\n",
       " 'same_srv_rate',\n",
       " 'duration',\n",
       " 'logged_in',\n",
       " 'diff_srv_rate',\n",
       " 'dst_host_diff_srv_rate',\n",
       " 'dst_host_serror_rate',\n",
       " 'rerror_rate',\n",
       " 'dst_host_count',\n",
       " 'flag',\n",
       " 'hot',\n",
       " 'dst_host_rerror_rate',\n",
       " 'wrong_fragment',\n",
       " 'srv_count',\n",
       " 'dst_host_srv_diff_host_rate',\n",
       " 'serror_rate',\n",
       " 'dst_host_srv_serror_rate',\n",
       " 'num_compromised',\n",
       " 'num_failed_logins',\n",
       " 'root_shell',\n",
       " 'num_file_creations',\n",
       " 'num_root',\n",
       " 'is_guest_login',\n",
       " 'land',\n",
       " 'srv_diff_host_rate',\n",
       " 'urgent',\n",
       " 'num_shells',\n",
       " 'dst_host_srv_rerror_rate',\n",
       " 'srv_serror_rate',\n",
       " 'su_attempted',\n",
       " 'num_access_files',\n",
       " 'num_outbound_cmds',\n",
       " 'is_host_login']"
      ]
     },
     "execution_count": 30,
     "metadata": {},
     "output_type": "execute_result"
    }
   ],
   "source": [
    "top_features_by_prem = []\n",
    "for ll in prem_list_features_importances:\n",
    "#     print(ll)\n",
    "    top_features_by_prem.append(ll[0])\n",
    "top_features_by_prem"
   ]
  },
  {
   "cell_type": "markdown",
   "metadata": {},
   "source": [
    "# Top 24 features by single feature imp"
   ]
  },
  {
   "cell_type": "code",
   "execution_count": 31,
   "metadata": {},
   "outputs": [
    {
     "data": {
      "text/plain": [
       "['src_bytes',\n",
       " 'same_srv_rate',\n",
       " 'dst_host_srv_diff_host_rate',\n",
       " 'land',\n",
       " 'dst_host_same_src_port_rate',\n",
       " 'dst_host_diff_srv_rate',\n",
       " 'root_shell',\n",
       " 'is_host_login',\n",
       " 'su_attempted',\n",
       " 'num_failed_logins',\n",
       " 'dst_host_srv_serror_rate',\n",
       " 'srv_serror_rate',\n",
       " 'protocol_type',\n",
       " 'dst_host_same_srv_rate',\n",
       " 'srv_rerror_rate',\n",
       " 'dst_host_srv_rerror_rate',\n",
       " 'logged_in',\n",
       " 'is_guest_login',\n",
       " 'count',\n",
       " 'dst_host_serror_rate',\n",
       " 'wrong_fragment',\n",
       " 'serror_rate',\n",
       " 'dst_host_rerror_rate',\n",
       " 'num_shells']"
      ]
     },
     "execution_count": 31,
     "metadata": {},
     "output_type": "execute_result"
    }
   ],
   "source": [
    "top_features_by_single[:24]"
   ]
  },
  {
   "cell_type": "markdown",
   "metadata": {},
   "source": [
    "# Top 24 features by premutation"
   ]
  },
  {
   "cell_type": "code",
   "execution_count": 32,
   "metadata": {},
   "outputs": [
    {
     "data": {
      "text/plain": [
       "['src_bytes',\n",
       " 'dst_host_same_srv_rate',\n",
       " 'dst_bytes',\n",
       " 'srv_rerror_rate',\n",
       " 'protocol_type',\n",
       " 'count',\n",
       " 'dst_host_srv_count',\n",
       " 'service',\n",
       " 'dst_host_same_src_port_rate',\n",
       " 'same_srv_rate',\n",
       " 'duration',\n",
       " 'logged_in',\n",
       " 'diff_srv_rate',\n",
       " 'dst_host_diff_srv_rate',\n",
       " 'dst_host_serror_rate',\n",
       " 'rerror_rate',\n",
       " 'dst_host_count',\n",
       " 'flag',\n",
       " 'hot',\n",
       " 'dst_host_rerror_rate',\n",
       " 'wrong_fragment',\n",
       " 'srv_count',\n",
       " 'dst_host_srv_diff_host_rate',\n",
       " 'serror_rate']"
      ]
     },
     "execution_count": 32,
     "metadata": {},
     "output_type": "execute_result"
    }
   ],
   "source": [
    "top_features_by_prem[:24]"
   ]
  },
  {
   "cell_type": "markdown",
   "metadata": {},
   "source": [
    "# Common between single feature method and premutation "
   ]
  },
  {
   "cell_type": "code",
   "execution_count": 33,
   "metadata": {},
   "outputs": [
    {
     "data": {
      "text/plain": [
       "({'count',\n",
       "  'dst_host_diff_srv_rate',\n",
       "  'dst_host_rerror_rate',\n",
       "  'dst_host_same_src_port_rate',\n",
       "  'dst_host_same_srv_rate',\n",
       "  'dst_host_serror_rate',\n",
       "  'dst_host_srv_diff_host_rate',\n",
       "  'logged_in',\n",
       "  'protocol_type',\n",
       "  'same_srv_rate',\n",
       "  'serror_rate',\n",
       "  'src_bytes',\n",
       "  'srv_rerror_rate',\n",
       "  'wrong_fragment'},\n",
       " 14)"
      ]
     },
     "execution_count": 33,
     "metadata": {},
     "output_type": "execute_result"
    }
   ],
   "source": [
    "common_bet_24_features = set(top_features_by_single[:24]).intersection(set(top_features_by_prem[:24]))\n",
    "common_bet_24_features, len(common_bet_24_features)"
   ]
  },
  {
   "cell_type": "markdown",
   "metadata": {},
   "source": [
    "# Recursive Feature Elimination"
   ]
  },
  {
   "cell_type": "code",
   "execution_count": 116,
   "metadata": {},
   "outputs": [
    {
     "name": "stderr",
     "output_type": "stream",
     "text": [
      "/home/ramesh/anaconda3/lib/python3.8/site-packages/sklearn/linear_model/_logistic.py:938: ConvergenceWarning: lbfgs failed to converge (status=1):\n",
      "STOP: TOTAL NO. of ITERATIONS REACHED LIMIT.\n",
      "\n",
      "Increase the number of iterations (max_iter) or scale the data as shown in:\n",
      "    https://scikit-learn.org/stable/modules/preprocessing.html\n",
      "Please also refer to the documentation for alternative solver options:\n",
      "    https://scikit-learn.org/stable/modules/linear_model.html#logistic-regression\n",
      "  n_iter_i = _check_optimize_result(\n",
      "/home/ramesh/anaconda3/lib/python3.8/site-packages/sklearn/linear_model/_logistic.py:938: ConvergenceWarning: lbfgs failed to converge (status=1):\n",
      "STOP: TOTAL NO. of ITERATIONS REACHED LIMIT.\n",
      "\n",
      "Increase the number of iterations (max_iter) or scale the data as shown in:\n",
      "    https://scikit-learn.org/stable/modules/preprocessing.html\n",
      "Please also refer to the documentation for alternative solver options:\n",
      "    https://scikit-learn.org/stable/modules/linear_model.html#logistic-regression\n",
      "  n_iter_i = _check_optimize_result(\n",
      "/home/ramesh/anaconda3/lib/python3.8/site-packages/sklearn/linear_model/_logistic.py:938: ConvergenceWarning: lbfgs failed to converge (status=1):\n",
      "STOP: TOTAL NO. of ITERATIONS REACHED LIMIT.\n",
      "\n",
      "Increase the number of iterations (max_iter) or scale the data as shown in:\n",
      "    https://scikit-learn.org/stable/modules/preprocessing.html\n",
      "Please also refer to the documentation for alternative solver options:\n",
      "    https://scikit-learn.org/stable/modules/linear_model.html#logistic-regression\n",
      "  n_iter_i = _check_optimize_result(\n",
      "/home/ramesh/anaconda3/lib/python3.8/site-packages/sklearn/linear_model/_logistic.py:938: ConvergenceWarning: lbfgs failed to converge (status=1):\n",
      "STOP: TOTAL NO. of ITERATIONS REACHED LIMIT.\n",
      "\n",
      "Increase the number of iterations (max_iter) or scale the data as shown in:\n",
      "    https://scikit-learn.org/stable/modules/preprocessing.html\n",
      "Please also refer to the documentation for alternative solver options:\n",
      "    https://scikit-learn.org/stable/modules/linear_model.html#logistic-regression\n",
      "  n_iter_i = _check_optimize_result(\n",
      "/home/ramesh/anaconda3/lib/python3.8/site-packages/sklearn/linear_model/_logistic.py:938: ConvergenceWarning: lbfgs failed to converge (status=1):\n",
      "STOP: TOTAL NO. of ITERATIONS REACHED LIMIT.\n",
      "\n",
      "Increase the number of iterations (max_iter) or scale the data as shown in:\n",
      "    https://scikit-learn.org/stable/modules/preprocessing.html\n",
      "Please also refer to the documentation for alternative solver options:\n",
      "    https://scikit-learn.org/stable/modules/linear_model.html#logistic-regression\n",
      "  n_iter_i = _check_optimize_result(\n",
      "/home/ramesh/anaconda3/lib/python3.8/site-packages/sklearn/linear_model/_logistic.py:938: ConvergenceWarning: lbfgs failed to converge (status=1):\n",
      "STOP: TOTAL NO. of ITERATIONS REACHED LIMIT.\n",
      "\n",
      "Increase the number of iterations (max_iter) or scale the data as shown in:\n",
      "    https://scikit-learn.org/stable/modules/preprocessing.html\n",
      "Please also refer to the documentation for alternative solver options:\n",
      "    https://scikit-learn.org/stable/modules/linear_model.html#logistic-regression\n",
      "  n_iter_i = _check_optimize_result(\n",
      "/home/ramesh/anaconda3/lib/python3.8/site-packages/sklearn/linear_model/_logistic.py:938: ConvergenceWarning: lbfgs failed to converge (status=1):\n",
      "STOP: TOTAL NO. of ITERATIONS REACHED LIMIT.\n",
      "\n",
      "Increase the number of iterations (max_iter) or scale the data as shown in:\n",
      "    https://scikit-learn.org/stable/modules/preprocessing.html\n",
      "Please also refer to the documentation for alternative solver options:\n",
      "    https://scikit-learn.org/stable/modules/linear_model.html#logistic-regression\n",
      "  n_iter_i = _check_optimize_result(\n",
      "/home/ramesh/anaconda3/lib/python3.8/site-packages/sklearn/linear_model/_logistic.py:938: ConvergenceWarning: lbfgs failed to converge (status=1):\n",
      "STOP: TOTAL NO. of ITERATIONS REACHED LIMIT.\n",
      "\n",
      "Increase the number of iterations (max_iter) or scale the data as shown in:\n",
      "    https://scikit-learn.org/stable/modules/preprocessing.html\n",
      "Please also refer to the documentation for alternative solver options:\n",
      "    https://scikit-learn.org/stable/modules/linear_model.html#logistic-regression\n",
      "  n_iter_i = _check_optimize_result(\n",
      "/home/ramesh/anaconda3/lib/python3.8/site-packages/sklearn/linear_model/_logistic.py:938: ConvergenceWarning: lbfgs failed to converge (status=1):\n",
      "STOP: TOTAL NO. of ITERATIONS REACHED LIMIT.\n",
      "\n",
      "Increase the number of iterations (max_iter) or scale the data as shown in:\n",
      "    https://scikit-learn.org/stable/modules/preprocessing.html\n",
      "Please also refer to the documentation for alternative solver options:\n",
      "    https://scikit-learn.org/stable/modules/linear_model.html#logistic-regression\n",
      "  n_iter_i = _check_optimize_result(\n",
      "/home/ramesh/anaconda3/lib/python3.8/site-packages/sklearn/linear_model/_logistic.py:938: ConvergenceWarning: lbfgs failed to converge (status=1):\n",
      "STOP: TOTAL NO. of ITERATIONS REACHED LIMIT.\n",
      "\n",
      "Increase the number of iterations (max_iter) or scale the data as shown in:\n",
      "    https://scikit-learn.org/stable/modules/preprocessing.html\n",
      "Please also refer to the documentation for alternative solver options:\n",
      "    https://scikit-learn.org/stable/modules/linear_model.html#logistic-regression\n",
      "  n_iter_i = _check_optimize_result(\n",
      "/home/ramesh/anaconda3/lib/python3.8/site-packages/sklearn/linear_model/_logistic.py:938: ConvergenceWarning: lbfgs failed to converge (status=1):\n",
      "STOP: TOTAL NO. of ITERATIONS REACHED LIMIT.\n",
      "\n",
      "Increase the number of iterations (max_iter) or scale the data as shown in:\n",
      "    https://scikit-learn.org/stable/modules/preprocessing.html\n",
      "Please also refer to the documentation for alternative solver options:\n",
      "    https://scikit-learn.org/stable/modules/linear_model.html#logistic-regression\n",
      "  n_iter_i = _check_optimize_result(\n",
      "/home/ramesh/anaconda3/lib/python3.8/site-packages/sklearn/linear_model/_logistic.py:938: ConvergenceWarning: lbfgs failed to converge (status=1):\n",
      "STOP: TOTAL NO. of ITERATIONS REACHED LIMIT.\n",
      "\n",
      "Increase the number of iterations (max_iter) or scale the data as shown in:\n",
      "    https://scikit-learn.org/stable/modules/preprocessing.html\n",
      "Please also refer to the documentation for alternative solver options:\n",
      "    https://scikit-learn.org/stable/modules/linear_model.html#logistic-regression\n",
      "  n_iter_i = _check_optimize_result(\n",
      "/home/ramesh/anaconda3/lib/python3.8/site-packages/sklearn/linear_model/_logistic.py:938: ConvergenceWarning: lbfgs failed to converge (status=1):\n",
      "STOP: TOTAL NO. of ITERATIONS REACHED LIMIT.\n",
      "\n",
      "Increase the number of iterations (max_iter) or scale the data as shown in:\n",
      "    https://scikit-learn.org/stable/modules/preprocessing.html\n",
      "Please also refer to the documentation for alternative solver options:\n",
      "    https://scikit-learn.org/stable/modules/linear_model.html#logistic-regression\n",
      "  n_iter_i = _check_optimize_result(\n",
      "/home/ramesh/anaconda3/lib/python3.8/site-packages/sklearn/linear_model/_logistic.py:938: ConvergenceWarning: lbfgs failed to converge (status=1):\n",
      "STOP: TOTAL NO. of ITERATIONS REACHED LIMIT.\n",
      "\n",
      "Increase the number of iterations (max_iter) or scale the data as shown in:\n",
      "    https://scikit-learn.org/stable/modules/preprocessing.html\n",
      "Please also refer to the documentation for alternative solver options:\n",
      "    https://scikit-learn.org/stable/modules/linear_model.html#logistic-regression\n",
      "  n_iter_i = _check_optimize_result(\n",
      "/home/ramesh/anaconda3/lib/python3.8/site-packages/sklearn/linear_model/_logistic.py:938: ConvergenceWarning: lbfgs failed to converge (status=1):\n",
      "STOP: TOTAL NO. of ITERATIONS REACHED LIMIT.\n",
      "\n",
      "Increase the number of iterations (max_iter) or scale the data as shown in:\n",
      "    https://scikit-learn.org/stable/modules/preprocessing.html\n",
      "Please also refer to the documentation for alternative solver options:\n",
      "    https://scikit-learn.org/stable/modules/linear_model.html#logistic-regression\n",
      "  n_iter_i = _check_optimize_result(\n",
      "/home/ramesh/anaconda3/lib/python3.8/site-packages/sklearn/linear_model/_logistic.py:938: ConvergenceWarning: lbfgs failed to converge (status=1):\n",
      "STOP: TOTAL NO. of ITERATIONS REACHED LIMIT.\n",
      "\n",
      "Increase the number of iterations (max_iter) or scale the data as shown in:\n",
      "    https://scikit-learn.org/stable/modules/preprocessing.html\n",
      "Please also refer to the documentation for alternative solver options:\n",
      "    https://scikit-learn.org/stable/modules/linear_model.html#logistic-regression\n",
      "  n_iter_i = _check_optimize_result(\n"
     ]
    },
    {
     "name": "stderr",
     "output_type": "stream",
     "text": [
      "/home/ramesh/anaconda3/lib/python3.8/site-packages/sklearn/linear_model/_logistic.py:938: ConvergenceWarning: lbfgs failed to converge (status=1):\n",
      "STOP: TOTAL NO. of ITERATIONS REACHED LIMIT.\n",
      "\n",
      "Increase the number of iterations (max_iter) or scale the data as shown in:\n",
      "    https://scikit-learn.org/stable/modules/preprocessing.html\n",
      "Please also refer to the documentation for alternative solver options:\n",
      "    https://scikit-learn.org/stable/modules/linear_model.html#logistic-regression\n",
      "  n_iter_i = _check_optimize_result(\n",
      "/home/ramesh/anaconda3/lib/python3.8/site-packages/sklearn/linear_model/_logistic.py:938: ConvergenceWarning: lbfgs failed to converge (status=1):\n",
      "STOP: TOTAL NO. of ITERATIONS REACHED LIMIT.\n",
      "\n",
      "Increase the number of iterations (max_iter) or scale the data as shown in:\n",
      "    https://scikit-learn.org/stable/modules/preprocessing.html\n",
      "Please also refer to the documentation for alternative solver options:\n",
      "    https://scikit-learn.org/stable/modules/linear_model.html#logistic-regression\n",
      "  n_iter_i = _check_optimize_result(\n"
     ]
    },
    {
     "data": {
      "text/plain": [
       "array([ True,  True,  True,  True,  True,  True, False, False, False,\n",
       "        True, False,  True,  True, False, False,  True, False, False,\n",
       "       False, False, False, False,  True,  True,  True,  True, False,\n",
       "        True,  True, False,  True,  True,  True,  True, False,  True,\n",
       "       False,  True,  True,  True, False])"
      ]
     },
     "execution_count": 116,
     "metadata": {},
     "output_type": "execute_result"
    }
   ],
   "source": [
    "model = LogisticRegression() \n",
    "rfe = RFE(model, 24)\n",
    "fit = rfe.fit(X, y)\n",
    "fit.support_\n",
    "# print()\n",
    "# fit.ranking_"
   ]
  },
  {
   "cell_type": "code",
   "execution_count": 120,
   "metadata": {},
   "outputs": [
    {
     "data": {
      "text/plain": [
       "Index(['duration', 'protocol_type', 'service', 'flag', 'src_bytes',\n",
       "       'dst_bytes', 'hot', 'logged_in', 'num_compromised', 'num_root', 'count',\n",
       "       'srv_count', 'serror_rate', 'srv_serror_rate', 'srv_rerror_rate',\n",
       "       'same_srv_rate', 'srv_diff_host_rate', 'dst_host_count',\n",
       "       'dst_host_srv_count', 'dst_host_same_srv_rate',\n",
       "       'dst_host_same_src_port_rate', 'dst_host_serror_rate',\n",
       "       'dst_host_srv_serror_rate', 'dst_host_rerror_rate'],\n",
       "      dtype='object')"
      ]
     },
     "execution_count": 120,
     "metadata": {},
     "output_type": "execute_result"
    }
   ],
   "source": [
    "X.columns[fit.support_]"
   ]
  },
  {
   "cell_type": "code",
   "execution_count": 121,
   "metadata": {},
   "outputs": [
    {
     "data": {
      "text/plain": [
       "Index(['protocol_type', 'service', 'flag', 'src_bytes', 'dst_bytes',\n",
       "       'wrong_fragment', 'logged_in', 'num_compromised', 'count', 'srv_count',\n",
       "       'serror_rate', 'srv_serror_rate', 'same_srv_rate', 'diff_srv_rate',\n",
       "       'dst_host_count', 'dst_host_srv_count', 'dst_host_same_srv_rate',\n",
       "       'dst_host_diff_srv_rate', 'dst_host_same_src_port_rate',\n",
       "       'dst_host_srv_diff_host_rate', 'dst_host_serror_rate',\n",
       "       'dst_host_srv_serror_rate', 'dst_host_rerror_rate',\n",
       "       'dst_host_srv_rerror_rate'],\n",
       "      dtype='object')"
      ]
     },
     "execution_count": 121,
     "metadata": {},
     "output_type": "execute_result"
    }
   ],
   "source": [
    "model = RandomForestClassifier(n_estimators=100, random_state=0, n_jobs=-1) \n",
    "rfe = RFE(model, 24)\n",
    "fit = rfe.fit(X, y)\n",
    "X.columns[fit.support_]"
   ]
  },
  {
   "cell_type": "code",
   "execution_count": 126,
   "metadata": {},
   "outputs": [],
   "source": [
    "common = set(['protocol_type', 'service', 'flag', 'src_bytes', 'dst_bytes',\n",
    "       'wrong_fragment', 'logged_in', 'num_compromised', 'count', 'srv_count',\n",
    "       'serror_rate', 'srv_serror_rate', 'same_srv_rate', 'diff_srv_rate',\n",
    "       'dst_host_count', 'dst_host_srv_count', 'dst_host_same_srv_rate',\n",
    "       'dst_host_diff_srv_rate', 'dst_host_same_src_port_rate',\n",
    "       'dst_host_srv_diff_host_rate', 'dst_host_serror_rate',\n",
    "       'dst_host_srv_serror_rate', 'dst_host_rerror_rate',\n",
    "       'dst_host_srv_rerror_rate']).intersection(set(['duration', 'protocol_type', 'service', 'flag', 'src_bytes',\n",
    "       'dst_bytes', 'hot', 'logged_in', 'num_compromised', 'num_root', 'count',\n",
    "       'srv_count', 'serror_rate', 'srv_serror_rate', 'srv_rerror_rate',\n",
    "       'same_srv_rate', 'srv_diff_host_rate', 'dst_host_count',\n",
    "       'dst_host_srv_count', 'dst_host_same_srv_rate',\n",
    "       'dst_host_same_src_port_rate', 'dst_host_serror_rate',\n",
    "       'dst_host_srv_serror_rate', 'dst_host_rerror_rate']))"
   ]
  },
  {
   "cell_type": "code",
   "execution_count": 130,
   "metadata": {},
   "outputs": [
    {
     "data": {
      "text/plain": [
       "{'count',\n",
       " 'dst_bytes',\n",
       " 'dst_host_count',\n",
       " 'dst_host_rerror_rate',\n",
       " 'dst_host_same_src_port_rate',\n",
       " 'dst_host_same_srv_rate',\n",
       " 'dst_host_serror_rate',\n",
       " 'dst_host_srv_count',\n",
       " 'dst_host_srv_serror_rate',\n",
       " 'flag',\n",
       " 'logged_in',\n",
       " 'num_compromised',\n",
       " 'protocol_type',\n",
       " 'same_srv_rate',\n",
       " 'serror_rate',\n",
       " 'service',\n",
       " 'src_bytes',\n",
       " 'srv_count',\n",
       " 'srv_serror_rate'}"
      ]
     },
     "execution_count": 130,
     "metadata": {},
     "output_type": "execute_result"
    }
   ],
   "source": [
    "common"
   ]
  },
  {
   "cell_type": "code",
   "execution_count": 128,
   "metadata": {},
   "outputs": [
    {
     "data": {
      "text/plain": [
       "19"
      ]
     },
     "execution_count": 128,
     "metadata": {},
     "output_type": "execute_result"
    }
   ],
   "source": [
    "len(common)"
   ]
  },
  {
   "cell_type": "code",
   "execution_count": 129,
   "metadata": {},
   "outputs": [
    {
     "data": {
      "text/plain": [
       "Index(['duration', 'protocol_type', 'service', 'flag', 'src_bytes',\n",
       "       'dst_bytes', 'wrong_fragment', 'hot', 'num_failed_logins', 'logged_in',\n",
       "       'num_compromised', 'count', 'serror_rate', 'rerror_rate',\n",
       "       'diff_srv_rate', 'dst_host_count', 'dst_host_srv_count',\n",
       "       'dst_host_same_srv_rate', 'dst_host_diff_srv_rate',\n",
       "       'dst_host_same_src_port_rate', 'dst_host_srv_diff_host_rate',\n",
       "       'dst_host_serror_rate', 'dst_host_srv_serror_rate',\n",
       "       'dst_host_rerror_rate'],\n",
       "      dtype='object')"
      ]
     },
     "execution_count": 129,
     "metadata": {},
     "output_type": "execute_result"
    }
   ],
   "source": [
    "model = DecisionTreeClassifier() \n",
    "rfe = RFE(model, 24)\n",
    "fit = rfe.fit(X, y)\n",
    "X.columns[fit.support_]"
   ]
  },
  {
   "cell_type": "code",
   "execution_count": 131,
   "metadata": {},
   "outputs": [],
   "source": [
    "most_common = set(['duration', 'protocol_type', 'service', 'flag', 'src_bytes',\n",
    "       'dst_bytes', 'wrong_fragment', 'hot', 'num_failed_logins', 'logged_in',\n",
    "       'num_compromised', 'count', 'serror_rate', 'rerror_rate',\n",
    "       'diff_srv_rate', 'dst_host_count', 'dst_host_srv_count',\n",
    "       'dst_host_same_srv_rate', 'dst_host_diff_srv_rate',\n",
    "       'dst_host_same_src_port_rate', 'dst_host_srv_diff_host_rate',\n",
    "       'dst_host_serror_rate', 'dst_host_srv_serror_rate',\n",
    "       'dst_host_rerror_rate']).intersection(set(list(common)))"
   ]
  },
  {
   "cell_type": "code",
   "execution_count": 132,
   "metadata": {},
   "outputs": [
    {
     "data": {
      "text/plain": [
       "{'count',\n",
       " 'dst_bytes',\n",
       " 'dst_host_count',\n",
       " 'dst_host_rerror_rate',\n",
       " 'dst_host_same_src_port_rate',\n",
       " 'dst_host_same_srv_rate',\n",
       " 'dst_host_serror_rate',\n",
       " 'dst_host_srv_count',\n",
       " 'dst_host_srv_serror_rate',\n",
       " 'flag',\n",
       " 'logged_in',\n",
       " 'num_compromised',\n",
       " 'protocol_type',\n",
       " 'serror_rate',\n",
       " 'service',\n",
       " 'src_bytes'}"
      ]
     },
     "execution_count": 132,
     "metadata": {},
     "output_type": "execute_result"
    }
   ],
   "source": [
    "most_common"
   ]
  },
  {
   "cell_type": "code",
   "execution_count": 133,
   "metadata": {},
   "outputs": [
    {
     "data": {
      "text/plain": [
       "16"
      ]
     },
     "execution_count": 133,
     "metadata": {},
     "output_type": "execute_result"
    }
   ],
   "source": [
    "len(most_common)"
   ]
  },
  {
   "cell_type": "code",
   "execution_count": 135,
   "metadata": {},
   "outputs": [],
   "source": [
    "def run_randomForest(X_train, X_test, y_train, y_test):\n",
    "    clf = RandomForestClassifier(n_estimators=100, random_state=0, n_jobs=-1)\n",
    "    clf.fit(X_train, y_train)\n",
    "    y_pred = clf.predict(X_test)\n",
    "    print('Accuracy: ', accuracy_score(y_test, y_pred))"
   ]
  },
  {
   "cell_type": "code",
   "execution_count": null,
   "metadata": {},
   "outputs": [],
   "source": [
    "model = RandomForestClassifier(n_estimators=100, random_state=0, n_jobs=-1)\n",
    "X_train, X_test, y_train,y_test = train_test_split(X, y, test_size=0.2, random_state=0, stratify=y)\n",
    "for i in range(1, 42):\n",
    "    sel = RFE(model, n_features_to_select=i)\n",
    "    sel.fit(X_train, y_train)\n",
    "    X_train_rfe = sel.transform(X_train)\n",
    "    X_test_ref = sel.transform(x_test)\n",
    "    print('Selected features: ', i)\n",
    "    run_randomForest(X_train_rfe, X_test_ref, y_train, y_test)\n",
    "    print()"
   ]
  },
  {
   "cell_type": "code",
   "execution_count": null,
   "metadata": {},
   "outputs": [],
   "source": []
  },
  {
   "cell_type": "code",
   "execution_count": 38,
   "metadata": {},
   "outputs": [
    {
     "name": "stdout",
     "output_type": "stream",
     "text": [
      "Index(['protocol_type', 'service', 'flag', 'src_bytes', 'dst_bytes',\n",
      "       'wrong_fragment', 'logged_in', 'num_compromised', 'count', 'srv_count',\n",
      "       'serror_rate', 'srv_serror_rate', 'same_srv_rate', 'diff_srv_rate',\n",
      "       'dst_host_count', 'dst_host_srv_count', 'dst_host_same_srv_rate',\n",
      "       'dst_host_diff_srv_rate', 'dst_host_same_src_port_rate',\n",
      "       'dst_host_srv_diff_host_rate', 'dst_host_serror_rate',\n",
      "       'dst_host_srv_serror_rate', 'dst_host_rerror_rate',\n",
      "       'dst_host_srv_rerror_rate'],\n",
      "      dtype='object')\n"
     ]
    },
    {
     "data": {
      "text/plain": [
       "array([ 6,  1,  1,  1,  1,  1, 14,  1, 15,  3,  9,  1,  1, 11, 16,  8, 10,\n",
       "       12, 13, 18, 17,  7,  1,  1,  1,  1,  2,  5,  1,  1,  4,  1,  1,  1,\n",
       "        1,  1,  1,  1,  1,  1,  1])"
      ]
     },
     "execution_count": 38,
     "metadata": {},
     "output_type": "execute_result"
    }
   ],
   "source": [
    "# try it\n",
    "model = RandomForestClassifier(n_estimators=100, random_state=0, n_jobs=-1) \n",
    "rfe = RFE(model, 24)\n",
    "fit = rfe.fit(X, y)\n",
    "print(X.columns[fit.support_])\n",
    "fit.ranking_"
   ]
  },
  {
   "cell_type": "code",
   "execution_count": null,
   "metadata": {},
   "outputs": [],
   "source": []
  },
  {
   "cell_type": "code",
   "execution_count": null,
   "metadata": {},
   "outputs": [],
   "source": []
  },
  {
   "cell_type": "code",
   "execution_count": null,
   "metadata": {},
   "outputs": [],
   "source": []
  },
  {
   "cell_type": "markdown",
   "metadata": {},
   "source": [
    "# Overall Results"
   ]
  },
  {
   "cell_type": "markdown",
   "metadata": {},
   "source": [
    "## Top feature after removing constant, quasi constant and pearson coefficient "
   ]
  },
  {
   "cell_type": "code",
   "execution_count": 35,
   "metadata": {},
   "outputs": [
    {
     "data": {
      "text/plain": [
       "['duration',\n",
       " 'protocol_type',\n",
       " 'service',\n",
       " 'flag',\n",
       " 'src_bytes',\n",
       " 'dst_bytes',\n",
       " 'wrong_fragment',\n",
       " 'hot',\n",
       " 'logged_in',\n",
       " 'num_compromised',\n",
       " 'num_file_creations',\n",
       " 'count',\n",
       " 'srv_count',\n",
       " 'serror_rate',\n",
       " 'rerror_rate',\n",
       " 'same_srv_rate',\n",
       " 'diff_srv_rate',\n",
       " 'srv_diff_host_rate',\n",
       " 'dst_host_count',\n",
       " 'dst_host_srv_count',\n",
       " 'dst_host_same_srv_rate',\n",
       " 'dst_host_diff_srv_rate',\n",
       " 'dst_host_same_src_port_rate',\n",
       " 'dst_host_srv_diff_host_rate']"
      ]
     },
     "execution_count": 35,
     "metadata": {},
     "output_type": "execute_result"
    }
   ],
   "source": [
    "top_features_by_CQPC = ['duration',\n",
    " 'protocol_type',\n",
    " 'service',\n",
    " 'flag',\n",
    " 'src_bytes',\n",
    " 'dst_bytes',\n",
    " 'wrong_fragment',\n",
    " 'hot',\n",
    " 'logged_in',\n",
    " 'num_compromised',\n",
    " 'num_file_creations',\n",
    " 'count',\n",
    " 'srv_count',\n",
    " 'serror_rate',\n",
    " 'rerror_rate',\n",
    " 'same_srv_rate',\n",
    " 'diff_srv_rate',\n",
    " 'srv_diff_host_rate',\n",
    " 'dst_host_count',\n",
    " 'dst_host_srv_count',\n",
    " 'dst_host_same_srv_rate',\n",
    " 'dst_host_diff_srv_rate',\n",
    " 'dst_host_same_src_port_rate',\n",
    " 'dst_host_srv_diff_host_rate']\n",
    "top_features_by_CQPC"
   ]
  },
  {
   "cell_type": "markdown",
   "metadata": {},
   "source": [
    "# Top 24 feature based on single feature importance"
   ]
  },
  {
   "cell_type": "code",
   "execution_count": 36,
   "metadata": {},
   "outputs": [
    {
     "data": {
      "text/plain": [
       "['src_bytes',\n",
       " 'same_srv_rate',\n",
       " 'dst_host_srv_diff_host_rate',\n",
       " 'land',\n",
       " 'dst_host_same_src_port_rate',\n",
       " 'dst_host_diff_srv_rate',\n",
       " 'root_shell',\n",
       " 'is_host_login',\n",
       " 'su_attempted',\n",
       " 'num_failed_logins',\n",
       " 'dst_host_srv_serror_rate',\n",
       " 'srv_serror_rate',\n",
       " 'protocol_type',\n",
       " 'dst_host_same_srv_rate',\n",
       " 'srv_rerror_rate',\n",
       " 'dst_host_srv_rerror_rate',\n",
       " 'logged_in',\n",
       " 'is_guest_login',\n",
       " 'count',\n",
       " 'dst_host_serror_rate',\n",
       " 'wrong_fragment',\n",
       " 'serror_rate',\n",
       " 'dst_host_rerror_rate',\n",
       " 'num_shells']"
      ]
     },
     "execution_count": 36,
     "metadata": {},
     "output_type": "execute_result"
    }
   ],
   "source": [
    "top_features_by_single[:24]"
   ]
  },
  {
   "cell_type": "markdown",
   "metadata": {},
   "source": [
    "# Top features by premutation technique"
   ]
  },
  {
   "cell_type": "code",
   "execution_count": 37,
   "metadata": {},
   "outputs": [
    {
     "data": {
      "text/plain": [
       "['src_bytes',\n",
       " 'dst_host_same_srv_rate',\n",
       " 'dst_bytes',\n",
       " 'srv_rerror_rate',\n",
       " 'protocol_type',\n",
       " 'count',\n",
       " 'dst_host_srv_count',\n",
       " 'service',\n",
       " 'dst_host_same_src_port_rate',\n",
       " 'same_srv_rate',\n",
       " 'duration',\n",
       " 'logged_in',\n",
       " 'diff_srv_rate',\n",
       " 'dst_host_diff_srv_rate',\n",
       " 'dst_host_serror_rate',\n",
       " 'rerror_rate',\n",
       " 'dst_host_count',\n",
       " 'flag',\n",
       " 'hot',\n",
       " 'dst_host_rerror_rate',\n",
       " 'wrong_fragment',\n",
       " 'srv_count',\n",
       " 'dst_host_srv_diff_host_rate',\n",
       " 'serror_rate']"
      ]
     },
     "execution_count": 37,
     "metadata": {},
     "output_type": "execute_result"
    }
   ],
   "source": [
    "top_24_features_by_prem[:24]"
   ]
  },
  {
   "cell_type": "markdown",
   "metadata": {},
   "source": [
    "# Top 24 features by RFE - RFC"
   ]
  },
  {
   "cell_type": "code",
   "execution_count": 40,
   "metadata": {},
   "outputs": [
    {
     "name": "stdout",
     "output_type": "stream",
     "text": [
      "protocol_type\n",
      "service\n",
      "flag\n",
      "src_bytes\n",
      "dst_bytes\n",
      "wrong_fragment\n",
      "logged_in\n",
      "num_compromised\n",
      "count\n",
      "srv_count\n",
      "serror_rate\n",
      "srv_serror_rate\n",
      "same_srv_rate\n",
      "diff_srv_rate\n",
      "dst_host_count\n",
      "dst_host_srv_count\n",
      "dst_host_same_srv_rate\n",
      "dst_host_diff_srv_rate\n",
      "dst_host_same_src_port_rate\n",
      "dst_host_srv_diff_host_rate\n",
      "dst_host_serror_rate\n",
      "dst_host_srv_serror_rate\n",
      "dst_host_rerror_rate\n",
      "dst_host_srv_rerror_rate\n"
     ]
    }
   ],
   "source": [
    "top_24_by_rfe_rfc = ['protocol_type', 'service', 'flag', 'src_bytes', 'dst_bytes',\n",
    "       'wrong_fragment', 'logged_in', 'num_compromised', 'count', 'srv_count',\n",
    "       'serror_rate', 'srv_serror_rate', 'same_srv_rate', 'diff_srv_rate',\n",
    "       'dst_host_count', 'dst_host_srv_count', 'dst_host_same_srv_rate',\n",
    "       'dst_host_diff_srv_rate', 'dst_host_same_src_port_rate',\n",
    "       'dst_host_srv_diff_host_rate', 'dst_host_serror_rate',\n",
    "       'dst_host_srv_serror_rate', 'dst_host_rerror_rate',\n",
    "       'dst_host_srv_rerror_rate']\n",
    "for f in top_24_by_rfe_rfc:\n",
    "    print(f)"
   ]
  },
  {
   "cell_type": "markdown",
   "metadata": {},
   "source": [
    "# Top 24 features by RFE - DTC"
   ]
  },
  {
   "cell_type": "code",
   "execution_count": 41,
   "metadata": {},
   "outputs": [
    {
     "name": "stdout",
     "output_type": "stream",
     "text": [
      "duration\n",
      "protocol_type\n",
      "service\n",
      "flag\n",
      "src_bytes\n",
      "dst_bytes\n",
      "wrong_fragment\n",
      "hot\n",
      "num_failed_logins\n",
      "logged_in\n",
      "num_compromised\n",
      "count\n",
      "serror_rate\n",
      "rerror_rate\n",
      "diff_srv_rate\n",
      "dst_host_count\n",
      "dst_host_srv_count\n",
      "dst_host_same_srv_rate\n",
      "dst_host_diff_srv_rate\n",
      "dst_host_same_src_port_rate\n",
      "dst_host_srv_diff_host_rate\n",
      "dst_host_serror_rate\n",
      "dst_host_srv_serror_rate\n",
      "dst_host_rerror_rate\n"
     ]
    }
   ],
   "source": [
    "top_24_by_rfe_dtc = ['duration', 'protocol_type', 'service', 'flag', 'src_bytes',\n",
    "       'dst_bytes', 'wrong_fragment', 'hot', 'num_failed_logins', 'logged_in',\n",
    "       'num_compromised', 'count', 'serror_rate', 'rerror_rate',\n",
    "       'diff_srv_rate', 'dst_host_count', 'dst_host_srv_count',\n",
    "       'dst_host_same_srv_rate', 'dst_host_diff_srv_rate',\n",
    "       'dst_host_same_src_port_rate', 'dst_host_srv_diff_host_rate',\n",
    "       'dst_host_serror_rate', 'dst_host_srv_serror_rate',\n",
    "       'dst_host_rerror_rate']\n",
    "for f in top_24_by_rfe_dtc:\n",
    "    print(f)"
   ]
  },
  {
   "cell_type": "markdown",
   "metadata": {},
   "source": [
    "# Top 24 features by RFE - LR"
   ]
  },
  {
   "cell_type": "code",
   "execution_count": 42,
   "metadata": {},
   "outputs": [
    {
     "name": "stdout",
     "output_type": "stream",
     "text": [
      "duration\n",
      "protocol_type\n",
      "service\n",
      "flag\n",
      "src_bytes\n",
      "dst_bytes\n",
      "hot\n",
      "logged_in\n",
      "num_compromised\n",
      "num_root\n",
      "count\n",
      "srv_count\n",
      "serror_rate\n",
      "srv_serror_rate\n",
      "srv_rerror_rate\n",
      "same_srv_rate\n",
      "srv_diff_host_rate\n",
      "dst_host_count\n",
      "dst_host_srv_count\n",
      "dst_host_same_srv_rate\n",
      "dst_host_same_src_port_rate\n",
      "dst_host_serror_rate\n",
      "dst_host_srv_serror_rate\n",
      "dst_host_rerror_rate\n"
     ]
    }
   ],
   "source": [
    "top_24_by_rfe_lr = ['duration', 'protocol_type', 'service', 'flag', 'src_bytes',\n",
    "       'dst_bytes', 'hot', 'logged_in', 'num_compromised', 'num_root', 'count',\n",
    "       'srv_count', 'serror_rate', 'srv_serror_rate', 'srv_rerror_rate',\n",
    "       'same_srv_rate', 'srv_diff_host_rate', 'dst_host_count',\n",
    "       'dst_host_srv_count', 'dst_host_same_srv_rate',\n",
    "       'dst_host_same_src_port_rate', 'dst_host_serror_rate',\n",
    "       'dst_host_srv_serror_rate', 'dst_host_rerror_rate']\n",
    "for f in top_24_by_rfe_lr:\n",
    "    print(f)"
   ]
  },
  {
   "cell_type": "code",
   "execution_count": null,
   "metadata": {},
   "outputs": [],
   "source": []
  }
 ],
 "metadata": {
  "kernelspec": {
   "display_name": "Python 3",
   "language": "python",
   "name": "python3"
  },
  "language_info": {
   "codemirror_mode": {
    "name": "ipython",
    "version": 3
   },
   "file_extension": ".py",
   "mimetype": "text/x-python",
   "name": "python",
   "nbconvert_exporter": "python",
   "pygments_lexer": "ipython3",
   "version": "3.8.0"
  }
 },
 "nbformat": 4,
 "nbformat_minor": 2
}
